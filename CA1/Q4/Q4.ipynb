{
  "nbformat": 4,
  "nbformat_minor": 0,
  "metadata": {
    "colab": {
      "provenance": [],
      "collapsed_sections": []
    },
    "kernelspec": {
      "name": "python3",
      "display_name": "Python 3"
    },
    "language_info": {
      "name": "python"
    },
    "gpuClass": "standard"
  },
  "cells": [
    {
      "cell_type": "markdown",
      "source": [
        "# Question 4"
      ],
      "metadata": {
        "id": "yDQqUXm9NPCv"
      }
    },
    {
      "cell_type": "code",
      "source": [
        "import numpy as np\n",
        "import re\n",
        "import pandas as pd\n",
        "import matplotlib.pyplot as plt\n",
        "import seaborn as sns"
      ],
      "metadata": {
        "id": "uVJR4nbNyv5c"
      },
      "execution_count": 2,
      "outputs": []
    },
    {
      "cell_type": "markdown",
      "source": [
        "### A"
      ],
      "metadata": {
        "id": "kAX2Yjw0zezC"
      }
    },
    {
      "cell_type": "code",
      "execution_count": 3,
      "metadata": {
        "colab": {
          "base_uri": "https://localhost:8080/",
          "height": 74
        },
        "id": "x1CXTic5xMZh",
        "outputId": "91469616-9c1c-44a2-fca0-5af7ccc7006c"
      },
      "outputs": [
        {
          "output_type": "display_data",
          "data": {
            "text/plain": [
              "<IPython.core.display.HTML object>"
            ],
            "text/html": [
              "\n",
              "     <input type=\"file\" id=\"files-f5063c70-a026-464e-b94a-ce81d822a289\" name=\"files[]\" multiple disabled\n",
              "        style=\"border:none\" />\n",
              "     <output id=\"result-f5063c70-a026-464e-b94a-ce81d822a289\">\n",
              "      Upload widget is only available when the cell has been executed in the\n",
              "      current browser session. Please rerun this cell to enable.\n",
              "      </output>\n",
              "      <script>// Copyright 2017 Google LLC\n",
              "//\n",
              "// Licensed under the Apache License, Version 2.0 (the \"License\");\n",
              "// you may not use this file except in compliance with the License.\n",
              "// You may obtain a copy of the License at\n",
              "//\n",
              "//      http://www.apache.org/licenses/LICENSE-2.0\n",
              "//\n",
              "// Unless required by applicable law or agreed to in writing, software\n",
              "// distributed under the License is distributed on an \"AS IS\" BASIS,\n",
              "// WITHOUT WARRANTIES OR CONDITIONS OF ANY KIND, either express or implied.\n",
              "// See the License for the specific language governing permissions and\n",
              "// limitations under the License.\n",
              "\n",
              "/**\n",
              " * @fileoverview Helpers for google.colab Python module.\n",
              " */\n",
              "(function(scope) {\n",
              "function span(text, styleAttributes = {}) {\n",
              "  const element = document.createElement('span');\n",
              "  element.textContent = text;\n",
              "  for (const key of Object.keys(styleAttributes)) {\n",
              "    element.style[key] = styleAttributes[key];\n",
              "  }\n",
              "  return element;\n",
              "}\n",
              "\n",
              "// Max number of bytes which will be uploaded at a time.\n",
              "const MAX_PAYLOAD_SIZE = 100 * 1024;\n",
              "\n",
              "function _uploadFiles(inputId, outputId) {\n",
              "  const steps = uploadFilesStep(inputId, outputId);\n",
              "  const outputElement = document.getElementById(outputId);\n",
              "  // Cache steps on the outputElement to make it available for the next call\n",
              "  // to uploadFilesContinue from Python.\n",
              "  outputElement.steps = steps;\n",
              "\n",
              "  return _uploadFilesContinue(outputId);\n",
              "}\n",
              "\n",
              "// This is roughly an async generator (not supported in the browser yet),\n",
              "// where there are multiple asynchronous steps and the Python side is going\n",
              "// to poll for completion of each step.\n",
              "// This uses a Promise to block the python side on completion of each step,\n",
              "// then passes the result of the previous step as the input to the next step.\n",
              "function _uploadFilesContinue(outputId) {\n",
              "  const outputElement = document.getElementById(outputId);\n",
              "  const steps = outputElement.steps;\n",
              "\n",
              "  const next = steps.next(outputElement.lastPromiseValue);\n",
              "  return Promise.resolve(next.value.promise).then((value) => {\n",
              "    // Cache the last promise value to make it available to the next\n",
              "    // step of the generator.\n",
              "    outputElement.lastPromiseValue = value;\n",
              "    return next.value.response;\n",
              "  });\n",
              "}\n",
              "\n",
              "/**\n",
              " * Generator function which is called between each async step of the upload\n",
              " * process.\n",
              " * @param {string} inputId Element ID of the input file picker element.\n",
              " * @param {string} outputId Element ID of the output display.\n",
              " * @return {!Iterable<!Object>} Iterable of next steps.\n",
              " */\n",
              "function* uploadFilesStep(inputId, outputId) {\n",
              "  const inputElement = document.getElementById(inputId);\n",
              "  inputElement.disabled = false;\n",
              "\n",
              "  const outputElement = document.getElementById(outputId);\n",
              "  outputElement.innerHTML = '';\n",
              "\n",
              "  const pickedPromise = new Promise((resolve) => {\n",
              "    inputElement.addEventListener('change', (e) => {\n",
              "      resolve(e.target.files);\n",
              "    });\n",
              "  });\n",
              "\n",
              "  const cancel = document.createElement('button');\n",
              "  inputElement.parentElement.appendChild(cancel);\n",
              "  cancel.textContent = 'Cancel upload';\n",
              "  const cancelPromise = new Promise((resolve) => {\n",
              "    cancel.onclick = () => {\n",
              "      resolve(null);\n",
              "    };\n",
              "  });\n",
              "\n",
              "  // Wait for the user to pick the files.\n",
              "  const files = yield {\n",
              "    promise: Promise.race([pickedPromise, cancelPromise]),\n",
              "    response: {\n",
              "      action: 'starting',\n",
              "    }\n",
              "  };\n",
              "\n",
              "  cancel.remove();\n",
              "\n",
              "  // Disable the input element since further picks are not allowed.\n",
              "  inputElement.disabled = true;\n",
              "\n",
              "  if (!files) {\n",
              "    return {\n",
              "      response: {\n",
              "        action: 'complete',\n",
              "      }\n",
              "    };\n",
              "  }\n",
              "\n",
              "  for (const file of files) {\n",
              "    const li = document.createElement('li');\n",
              "    li.append(span(file.name, {fontWeight: 'bold'}));\n",
              "    li.append(span(\n",
              "        `(${file.type || 'n/a'}) - ${file.size} bytes, ` +\n",
              "        `last modified: ${\n",
              "            file.lastModifiedDate ? file.lastModifiedDate.toLocaleDateString() :\n",
              "                                    'n/a'} - `));\n",
              "    const percent = span('0% done');\n",
              "    li.appendChild(percent);\n",
              "\n",
              "    outputElement.appendChild(li);\n",
              "\n",
              "    const fileDataPromise = new Promise((resolve) => {\n",
              "      const reader = new FileReader();\n",
              "      reader.onload = (e) => {\n",
              "        resolve(e.target.result);\n",
              "      };\n",
              "      reader.readAsArrayBuffer(file);\n",
              "    });\n",
              "    // Wait for the data to be ready.\n",
              "    let fileData = yield {\n",
              "      promise: fileDataPromise,\n",
              "      response: {\n",
              "        action: 'continue',\n",
              "      }\n",
              "    };\n",
              "\n",
              "    // Use a chunked sending to avoid message size limits. See b/62115660.\n",
              "    let position = 0;\n",
              "    do {\n",
              "      const length = Math.min(fileData.byteLength - position, MAX_PAYLOAD_SIZE);\n",
              "      const chunk = new Uint8Array(fileData, position, length);\n",
              "      position += length;\n",
              "\n",
              "      const base64 = btoa(String.fromCharCode.apply(null, chunk));\n",
              "      yield {\n",
              "        response: {\n",
              "          action: 'append',\n",
              "          file: file.name,\n",
              "          data: base64,\n",
              "        },\n",
              "      };\n",
              "\n",
              "      let percentDone = fileData.byteLength === 0 ?\n",
              "          100 :\n",
              "          Math.round((position / fileData.byteLength) * 100);\n",
              "      percent.textContent = `${percentDone}% done`;\n",
              "\n",
              "    } while (position < fileData.byteLength);\n",
              "  }\n",
              "\n",
              "  // All done.\n",
              "  yield {\n",
              "    response: {\n",
              "      action: 'complete',\n",
              "    }\n",
              "  };\n",
              "}\n",
              "\n",
              "scope.google = scope.google || {};\n",
              "scope.google.colab = scope.google.colab || {};\n",
              "scope.google.colab._files = {\n",
              "  _uploadFiles,\n",
              "  _uploadFilesContinue,\n",
              "};\n",
              "})(self);\n",
              "</script> "
            ]
          },
          "metadata": {}
        },
        {
          "output_type": "stream",
          "name": "stdout",
          "text": [
            "Saving houses.csv to houses.csv\n"
          ]
        }
      ],
      "source": [
        "from google.colab import files\n",
        "uploaded = files.upload()"
      ]
    },
    {
      "cell_type": "code",
      "source": [
        "import io\n",
        "df = pd.read_csv(io.BytesIO(uploaded['houses.csv']))"
      ],
      "metadata": {
        "id": "BcUNfeooxSwx"
      },
      "execution_count": 4,
      "outputs": []
    },
    {
      "cell_type": "code",
      "source": [
        "df.head()"
      ],
      "metadata": {
        "colab": {
          "base_uri": "https://localhost:8080/",
          "height": 299
        },
        "id": "TYFNZ0EHysNX",
        "outputId": "46b3c064-5575-4e37-dcdd-305d2b0f8d8b"
      },
      "execution_count": 5,
      "outputs": [
        {
          "output_type": "execute_result",
          "data": {
            "text/plain": [
              "           id             date     price  bedrooms  bathrooms  sqft_living  \\\n",
              "0  7129300520  20141013T000000  221900.0         3       1.00         1180   \n",
              "1  6414100192  20141209T000000  538000.0         3       2.25         2570   \n",
              "2  5631500400  20150225T000000  180000.0         2       1.00          770   \n",
              "3  2487200875  20141209T000000  604000.0         4       3.00         1960   \n",
              "4  1954400510  20150218T000000  510000.0         3       2.00         1680   \n",
              "\n",
              "   sqft_lot  floors  waterfront  view  ...  grade  sqft_above  sqft_basement  \\\n",
              "0      5650     1.0           0     0  ...      7        1180              0   \n",
              "1      7242     2.0           0     0  ...      7        2170            400   \n",
              "2     10000     1.0           0     0  ...      6         770              0   \n",
              "3      5000     1.0           0     0  ...      7        1050            910   \n",
              "4      8080     1.0           0     0  ...      8        1680              0   \n",
              "\n",
              "   yr_built  yr_renovated  zipcode      lat     long  sqft_living15  \\\n",
              "0      1955             0    98178  47.5112 -122.257           1340   \n",
              "1      1951          1991    98125  47.7210 -122.319           1690   \n",
              "2      1933             0    98028  47.7379 -122.233           2720   \n",
              "3      1965             0    98136  47.5208 -122.393           1360   \n",
              "4      1987             0    98074  47.6168 -122.045           1800   \n",
              "\n",
              "   sqft_lot15  \n",
              "0        5650  \n",
              "1        7639  \n",
              "2        8062  \n",
              "3        5000  \n",
              "4        7503  \n",
              "\n",
              "[5 rows x 21 columns]"
            ],
            "text/html": [
              "\n",
              "  <div id=\"df-ee01bbe7-e973-4b48-946b-98b0cbab9a7b\">\n",
              "    <div class=\"colab-df-container\">\n",
              "      <div>\n",
              "<style scoped>\n",
              "    .dataframe tbody tr th:only-of-type {\n",
              "        vertical-align: middle;\n",
              "    }\n",
              "\n",
              "    .dataframe tbody tr th {\n",
              "        vertical-align: top;\n",
              "    }\n",
              "\n",
              "    .dataframe thead th {\n",
              "        text-align: right;\n",
              "    }\n",
              "</style>\n",
              "<table border=\"1\" class=\"dataframe\">\n",
              "  <thead>\n",
              "    <tr style=\"text-align: right;\">\n",
              "      <th></th>\n",
              "      <th>id</th>\n",
              "      <th>date</th>\n",
              "      <th>price</th>\n",
              "      <th>bedrooms</th>\n",
              "      <th>bathrooms</th>\n",
              "      <th>sqft_living</th>\n",
              "      <th>sqft_lot</th>\n",
              "      <th>floors</th>\n",
              "      <th>waterfront</th>\n",
              "      <th>view</th>\n",
              "      <th>...</th>\n",
              "      <th>grade</th>\n",
              "      <th>sqft_above</th>\n",
              "      <th>sqft_basement</th>\n",
              "      <th>yr_built</th>\n",
              "      <th>yr_renovated</th>\n",
              "      <th>zipcode</th>\n",
              "      <th>lat</th>\n",
              "      <th>long</th>\n",
              "      <th>sqft_living15</th>\n",
              "      <th>sqft_lot15</th>\n",
              "    </tr>\n",
              "  </thead>\n",
              "  <tbody>\n",
              "    <tr>\n",
              "      <th>0</th>\n",
              "      <td>7129300520</td>\n",
              "      <td>20141013T000000</td>\n",
              "      <td>221900.0</td>\n",
              "      <td>3</td>\n",
              "      <td>1.00</td>\n",
              "      <td>1180</td>\n",
              "      <td>5650</td>\n",
              "      <td>1.0</td>\n",
              "      <td>0</td>\n",
              "      <td>0</td>\n",
              "      <td>...</td>\n",
              "      <td>7</td>\n",
              "      <td>1180</td>\n",
              "      <td>0</td>\n",
              "      <td>1955</td>\n",
              "      <td>0</td>\n",
              "      <td>98178</td>\n",
              "      <td>47.5112</td>\n",
              "      <td>-122.257</td>\n",
              "      <td>1340</td>\n",
              "      <td>5650</td>\n",
              "    </tr>\n",
              "    <tr>\n",
              "      <th>1</th>\n",
              "      <td>6414100192</td>\n",
              "      <td>20141209T000000</td>\n",
              "      <td>538000.0</td>\n",
              "      <td>3</td>\n",
              "      <td>2.25</td>\n",
              "      <td>2570</td>\n",
              "      <td>7242</td>\n",
              "      <td>2.0</td>\n",
              "      <td>0</td>\n",
              "      <td>0</td>\n",
              "      <td>...</td>\n",
              "      <td>7</td>\n",
              "      <td>2170</td>\n",
              "      <td>400</td>\n",
              "      <td>1951</td>\n",
              "      <td>1991</td>\n",
              "      <td>98125</td>\n",
              "      <td>47.7210</td>\n",
              "      <td>-122.319</td>\n",
              "      <td>1690</td>\n",
              "      <td>7639</td>\n",
              "    </tr>\n",
              "    <tr>\n",
              "      <th>2</th>\n",
              "      <td>5631500400</td>\n",
              "      <td>20150225T000000</td>\n",
              "      <td>180000.0</td>\n",
              "      <td>2</td>\n",
              "      <td>1.00</td>\n",
              "      <td>770</td>\n",
              "      <td>10000</td>\n",
              "      <td>1.0</td>\n",
              "      <td>0</td>\n",
              "      <td>0</td>\n",
              "      <td>...</td>\n",
              "      <td>6</td>\n",
              "      <td>770</td>\n",
              "      <td>0</td>\n",
              "      <td>1933</td>\n",
              "      <td>0</td>\n",
              "      <td>98028</td>\n",
              "      <td>47.7379</td>\n",
              "      <td>-122.233</td>\n",
              "      <td>2720</td>\n",
              "      <td>8062</td>\n",
              "    </tr>\n",
              "    <tr>\n",
              "      <th>3</th>\n",
              "      <td>2487200875</td>\n",
              "      <td>20141209T000000</td>\n",
              "      <td>604000.0</td>\n",
              "      <td>4</td>\n",
              "      <td>3.00</td>\n",
              "      <td>1960</td>\n",
              "      <td>5000</td>\n",
              "      <td>1.0</td>\n",
              "      <td>0</td>\n",
              "      <td>0</td>\n",
              "      <td>...</td>\n",
              "      <td>7</td>\n",
              "      <td>1050</td>\n",
              "      <td>910</td>\n",
              "      <td>1965</td>\n",
              "      <td>0</td>\n",
              "      <td>98136</td>\n",
              "      <td>47.5208</td>\n",
              "      <td>-122.393</td>\n",
              "      <td>1360</td>\n",
              "      <td>5000</td>\n",
              "    </tr>\n",
              "    <tr>\n",
              "      <th>4</th>\n",
              "      <td>1954400510</td>\n",
              "      <td>20150218T000000</td>\n",
              "      <td>510000.0</td>\n",
              "      <td>3</td>\n",
              "      <td>2.00</td>\n",
              "      <td>1680</td>\n",
              "      <td>8080</td>\n",
              "      <td>1.0</td>\n",
              "      <td>0</td>\n",
              "      <td>0</td>\n",
              "      <td>...</td>\n",
              "      <td>8</td>\n",
              "      <td>1680</td>\n",
              "      <td>0</td>\n",
              "      <td>1987</td>\n",
              "      <td>0</td>\n",
              "      <td>98074</td>\n",
              "      <td>47.6168</td>\n",
              "      <td>-122.045</td>\n",
              "      <td>1800</td>\n",
              "      <td>7503</td>\n",
              "    </tr>\n",
              "  </tbody>\n",
              "</table>\n",
              "<p>5 rows × 21 columns</p>\n",
              "</div>\n",
              "      <button class=\"colab-df-convert\" onclick=\"convertToInteractive('df-ee01bbe7-e973-4b48-946b-98b0cbab9a7b')\"\n",
              "              title=\"Convert this dataframe to an interactive table.\"\n",
              "              style=\"display:none;\">\n",
              "        \n",
              "  <svg xmlns=\"http://www.w3.org/2000/svg\" height=\"24px\"viewBox=\"0 0 24 24\"\n",
              "       width=\"24px\">\n",
              "    <path d=\"M0 0h24v24H0V0z\" fill=\"none\"/>\n",
              "    <path d=\"M18.56 5.44l.94 2.06.94-2.06 2.06-.94-2.06-.94-.94-2.06-.94 2.06-2.06.94zm-11 1L8.5 8.5l.94-2.06 2.06-.94-2.06-.94L8.5 2.5l-.94 2.06-2.06.94zm10 10l.94 2.06.94-2.06 2.06-.94-2.06-.94-.94-2.06-.94 2.06-2.06.94z\"/><path d=\"M17.41 7.96l-1.37-1.37c-.4-.4-.92-.59-1.43-.59-.52 0-1.04.2-1.43.59L10.3 9.45l-7.72 7.72c-.78.78-.78 2.05 0 2.83L4 21.41c.39.39.9.59 1.41.59.51 0 1.02-.2 1.41-.59l7.78-7.78 2.81-2.81c.8-.78.8-2.07 0-2.86zM5.41 20L4 18.59l7.72-7.72 1.47 1.35L5.41 20z\"/>\n",
              "  </svg>\n",
              "      </button>\n",
              "      \n",
              "  <style>\n",
              "    .colab-df-container {\n",
              "      display:flex;\n",
              "      flex-wrap:wrap;\n",
              "      gap: 12px;\n",
              "    }\n",
              "\n",
              "    .colab-df-convert {\n",
              "      background-color: #E8F0FE;\n",
              "      border: none;\n",
              "      border-radius: 50%;\n",
              "      cursor: pointer;\n",
              "      display: none;\n",
              "      fill: #1967D2;\n",
              "      height: 32px;\n",
              "      padding: 0 0 0 0;\n",
              "      width: 32px;\n",
              "    }\n",
              "\n",
              "    .colab-df-convert:hover {\n",
              "      background-color: #E2EBFA;\n",
              "      box-shadow: 0px 1px 2px rgba(60, 64, 67, 0.3), 0px 1px 3px 1px rgba(60, 64, 67, 0.15);\n",
              "      fill: #174EA6;\n",
              "    }\n",
              "\n",
              "    [theme=dark] .colab-df-convert {\n",
              "      background-color: #3B4455;\n",
              "      fill: #D2E3FC;\n",
              "    }\n",
              "\n",
              "    [theme=dark] .colab-df-convert:hover {\n",
              "      background-color: #434B5C;\n",
              "      box-shadow: 0px 1px 3px 1px rgba(0, 0, 0, 0.15);\n",
              "      filter: drop-shadow(0px 1px 2px rgba(0, 0, 0, 0.3));\n",
              "      fill: #FFFFFF;\n",
              "    }\n",
              "  </style>\n",
              "\n",
              "      <script>\n",
              "        const buttonEl =\n",
              "          document.querySelector('#df-ee01bbe7-e973-4b48-946b-98b0cbab9a7b button.colab-df-convert');\n",
              "        buttonEl.style.display =\n",
              "          google.colab.kernel.accessAllowed ? 'block' : 'none';\n",
              "\n",
              "        async function convertToInteractive(key) {\n",
              "          const element = document.querySelector('#df-ee01bbe7-e973-4b48-946b-98b0cbab9a7b');\n",
              "          const dataTable =\n",
              "            await google.colab.kernel.invokeFunction('convertToInteractive',\n",
              "                                                     [key], {});\n",
              "          if (!dataTable) return;\n",
              "\n",
              "          const docLinkHtml = 'Like what you see? Visit the ' +\n",
              "            '<a target=\"_blank\" href=https://colab.research.google.com/notebooks/data_table.ipynb>data table notebook</a>'\n",
              "            + ' to learn more about interactive tables.';\n",
              "          element.innerHTML = '';\n",
              "          dataTable['output_type'] = 'display_data';\n",
              "          await google.colab.output.renderOutput(dataTable, element);\n",
              "          const docLink = document.createElement('div');\n",
              "          docLink.innerHTML = docLinkHtml;\n",
              "          element.appendChild(docLink);\n",
              "        }\n",
              "      </script>\n",
              "    </div>\n",
              "  </div>\n",
              "  "
            ]
          },
          "metadata": {},
          "execution_count": 5
        }
      ]
    },
    {
      "cell_type": "code",
      "source": [
        "df.info()"
      ],
      "metadata": {
        "colab": {
          "base_uri": "https://localhost:8080/"
        },
        "id": "ralxjRo9y3yb",
        "outputId": "965bdf84-e082-4589-e7de-bc870412dde8"
      },
      "execution_count": 6,
      "outputs": [
        {
          "output_type": "stream",
          "name": "stdout",
          "text": [
            "<class 'pandas.core.frame.DataFrame'>\n",
            "RangeIndex: 21613 entries, 0 to 21612\n",
            "Data columns (total 21 columns):\n",
            " #   Column         Non-Null Count  Dtype  \n",
            "---  ------         --------------  -----  \n",
            " 0   id             21613 non-null  int64  \n",
            " 1   date           21613 non-null  object \n",
            " 2   price          21613 non-null  float64\n",
            " 3   bedrooms       21613 non-null  int64  \n",
            " 4   bathrooms      21613 non-null  float64\n",
            " 5   sqft_living    21613 non-null  int64  \n",
            " 6   sqft_lot       21613 non-null  int64  \n",
            " 7   floors         21613 non-null  float64\n",
            " 8   waterfront     21613 non-null  int64  \n",
            " 9   view           21613 non-null  int64  \n",
            " 10  condition      21613 non-null  int64  \n",
            " 11  grade          21613 non-null  int64  \n",
            " 12  sqft_above     21613 non-null  int64  \n",
            " 13  sqft_basement  21613 non-null  int64  \n",
            " 14  yr_built       21613 non-null  int64  \n",
            " 15  yr_renovated   21613 non-null  int64  \n",
            " 16  zipcode        21613 non-null  int64  \n",
            " 17  lat            21613 non-null  float64\n",
            " 18  long           21613 non-null  float64\n",
            " 19  sqft_living15  21613 non-null  int64  \n",
            " 20  sqft_lot15     21613 non-null  int64  \n",
            "dtypes: float64(5), int64(15), object(1)\n",
            "memory usage: 3.5+ MB\n"
          ]
        }
      ]
    },
    {
      "cell_type": "markdown",
      "source": [
        "### B"
      ],
      "metadata": {
        "id": "Dv2fV3nczaVp"
      }
    },
    {
      "cell_type": "code",
      "source": [
        "df.isnull().sum()"
      ],
      "metadata": {
        "colab": {
          "base_uri": "https://localhost:8080/"
        },
        "id": "KRRXofBIzU3o",
        "outputId": "275e9b6d-b241-488a-89af-bbf118d03beb"
      },
      "execution_count": 7,
      "outputs": [
        {
          "output_type": "execute_result",
          "data": {
            "text/plain": [
              "id               0\n",
              "date             0\n",
              "price            0\n",
              "bedrooms         0\n",
              "bathrooms        0\n",
              "sqft_living      0\n",
              "sqft_lot         0\n",
              "floors           0\n",
              "waterfront       0\n",
              "view             0\n",
              "condition        0\n",
              "grade            0\n",
              "sqft_above       0\n",
              "sqft_basement    0\n",
              "yr_built         0\n",
              "yr_renovated     0\n",
              "zipcode          0\n",
              "lat              0\n",
              "long             0\n",
              "sqft_living15    0\n",
              "sqft_lot15       0\n",
              "dtype: int64"
            ]
          },
          "metadata": {},
          "execution_count": 7
        }
      ]
    },
    {
      "cell_type": "markdown",
      "source": [
        "### c"
      ],
      "metadata": {
        "id": "5d2mkDrjz1ee"
      }
    },
    {
      "cell_type": "code",
      "source": [
        "corr = df.corr()\n",
        "corr.style.background_gradient(cmap='coolwarm')"
      ],
      "metadata": {
        "colab": {
          "base_uri": "https://localhost:8080/",
          "height": 696
        },
        "id": "QW3OWL-Vzyrt",
        "outputId": "3b1c42e8-c494-45eb-9e83-4ab3ae757290"
      },
      "execution_count": 8,
      "outputs": [
        {
          "output_type": "execute_result",
          "data": {
            "text/plain": [
              "<pandas.io.formats.style.Styler at 0x7fd24bca7dd0>"
            ],
            "text/html": [
              "<style type=\"text/css\">\n",
              "#T_d79b8_row0_col0, #T_d79b8_row1_col1, #T_d79b8_row2_col2, #T_d79b8_row3_col3, #T_d79b8_row4_col4, #T_d79b8_row5_col5, #T_d79b8_row6_col6, #T_d79b8_row7_col7, #T_d79b8_row8_col8, #T_d79b8_row9_col9, #T_d79b8_row10_col10, #T_d79b8_row11_col11, #T_d79b8_row12_col12, #T_d79b8_row13_col13, #T_d79b8_row14_col14, #T_d79b8_row15_col15, #T_d79b8_row16_col16, #T_d79b8_row17_col17, #T_d79b8_row18_col18, #T_d79b8_row19_col19 {\n",
              "  background-color: #b40426;\n",
              "  color: #f1f1f1;\n",
              "}\n",
              "#T_d79b8_row0_col1, #T_d79b8_row2_col7, #T_d79b8_row9_col10 {\n",
              "  background-color: #445acc;\n",
              "  color: #f1f1f1;\n",
              "}\n",
              "#T_d79b8_row0_col2, #T_d79b8_row5_col1, #T_d79b8_row7_col5, #T_d79b8_row8_col16, #T_d79b8_row9_col14, #T_d79b8_row14_col19 {\n",
              "  background-color: #6485ec;\n",
              "  color: #f1f1f1;\n",
              "}\n",
              "#T_d79b8_row0_col3, #T_d79b8_row3_col9, #T_d79b8_row4_col16, #T_d79b8_row6_col16 {\n",
              "  background-color: #7295f4;\n",
              "  color: #f1f1f1;\n",
              "}\n",
              "#T_d79b8_row0_col4, #T_d79b8_row2_col19, #T_d79b8_row7_col19, #T_d79b8_row11_col12, #T_d79b8_row14_col16 {\n",
              "  background-color: #6b8df0;\n",
              "  color: #f1f1f1;\n",
              "}\n",
              "#T_d79b8_row0_col5, #T_d79b8_row6_col12, #T_d79b8_row9_col6, #T_d79b8_row9_col13, #T_d79b8_row13_col9, #T_d79b8_row13_col14, #T_d79b8_row13_col16, #T_d79b8_row15_col1, #T_d79b8_row15_col2, #T_d79b8_row15_col3, #T_d79b8_row15_col4, #T_d79b8_row15_col5, #T_d79b8_row15_col10, #T_d79b8_row15_col11, #T_d79b8_row15_col17, #T_d79b8_row15_col18, #T_d79b8_row15_col19, #T_d79b8_row17_col7, #T_d79b8_row17_col8, #T_d79b8_row17_col15, #T_d79b8_row19_col0 {\n",
              "  background-color: #3b4cc0;\n",
              "  color: #f1f1f1;\n",
              "}\n",
              "#T_d79b8_row0_col6, #T_d79b8_row3_col14, #T_d79b8_row7_col10, #T_d79b8_row8_col13, #T_d79b8_row12_col16, #T_d79b8_row14_col11 {\n",
              "  background-color: #84a7fc;\n",
              "  color: #f1f1f1;\n",
              "}\n",
              "#T_d79b8_row0_col7 {\n",
              "  background-color: #455cce;\n",
              "  color: #f1f1f1;\n",
              "}\n",
              "#T_d79b8_row0_col8, #T_d79b8_row9_col1 {\n",
              "  background-color: #5470de;\n",
              "  color: #f1f1f1;\n",
              "}\n",
              "#T_d79b8_row0_col9, #T_d79b8_row3_col8, #T_d79b8_row7_col13, #T_d79b8_row16_col6 {\n",
              "  background-color: #8caffe;\n",
              "  color: #000000;\n",
              "}\n",
              "#T_d79b8_row0_col10, #T_d79b8_row13_col5, #T_d79b8_row15_col6 {\n",
              "  background-color: #6e90f2;\n",
              "  color: #f1f1f1;\n",
              "}\n",
              "#T_d79b8_row0_col11, #T_d79b8_row1_col5, #T_d79b8_row2_col14, #T_d79b8_row10_col14, #T_d79b8_row18_col9 {\n",
              "  background-color: #7a9df8;\n",
              "  color: #f1f1f1;\n",
              "}\n",
              "#T_d79b8_row0_col12, #T_d79b8_row3_col5, #T_d79b8_row8_col19, #T_d79b8_row11_col15 {\n",
              "  background-color: #799cf8;\n",
              "  color: #f1f1f1;\n",
              "}\n",
              "#T_d79b8_row0_col13, #T_d79b8_row5_col15, #T_d79b8_row7_col9, #T_d79b8_row11_col5 {\n",
              "  background-color: #97b8ff;\n",
              "  color: #000000;\n",
              "}\n",
              "#T_d79b8_row0_col14, #T_d79b8_row14_col1, #T_d79b8_row14_col8, #T_d79b8_row14_col10, #T_d79b8_row18_col16 {\n",
              "  background-color: #7093f3;\n",
              "  color: #f1f1f1;\n",
              "}\n",
              "#T_d79b8_row0_col15, #T_d79b8_row5_col11, #T_d79b8_row17_col3 {\n",
              "  background-color: #b1cbfc;\n",
              "  color: #000000;\n",
              "}\n",
              "#T_d79b8_row0_col16, #T_d79b8_row3_col0, #T_d79b8_row7_col2, #T_d79b8_row9_col19, #T_d79b8_row11_col16, #T_d79b8_row17_col14, #T_d79b8_row19_col1 {\n",
              "  background-color: #6282ea;\n",
              "  color: #f1f1f1;\n",
              "}\n",
              "#T_d79b8_row0_col17, #T_d79b8_row1_col17, #T_d79b8_row12_col18 {\n",
              "  background-color: #b7cff9;\n",
              "  color: #000000;\n",
              "}\n",
              "#T_d79b8_row0_col18, #T_d79b8_row10_col5, #T_d79b8_row14_col18 {\n",
              "  background-color: #81a4fb;\n",
              "  color: #f1f1f1;\n",
              "}\n",
              "#T_d79b8_row0_col19, #T_d79b8_row5_col0 {\n",
              "  background-color: #3c4ec2;\n",
              "  color: #f1f1f1;\n",
              "}\n",
              "#T_d79b8_row1_col0, #T_d79b8_row9_col5, #T_d79b8_row14_col0 {\n",
              "  background-color: #5b7ae5;\n",
              "  color: #f1f1f1;\n",
              "}\n",
              "#T_d79b8_row1_col2, #T_d79b8_row14_col15 {\n",
              "  background-color: #c0d4f5;\n",
              "  color: #000000;\n",
              "}\n",
              "#T_d79b8_row1_col3, #T_d79b8_row18_col1 {\n",
              "  background-color: #f2c9b4;\n",
              "  color: #000000;\n",
              "}\n",
              "#T_d79b8_row1_col4, #T_d79b8_row3_col11, #T_d79b8_row19_col5 {\n",
              "  background-color: #f4987a;\n",
              "  color: #000000;\n",
              "}\n",
              "#T_d79b8_row1_col6 {\n",
              "  background-color: #c4d5f3;\n",
              "  color: #000000;\n",
              "}\n",
              "#T_d79b8_row1_col7, #T_d79b8_row6_col1 {\n",
              "  background-color: #9dbdff;\n",
              "  color: #000000;\n",
              "}\n",
              "#T_d79b8_row1_col8, #T_d79b8_row2_col12, #T_d79b8_row6_col17 {\n",
              "  background-color: #ccd9ed;\n",
              "  color: #000000;\n",
              "}\n",
              "#T_d79b8_row1_col9, #T_d79b8_row9_col17 {\n",
              "  background-color: #9bbcff;\n",
              "  color: #000000;\n",
              "}\n",
              "#T_d79b8_row1_col10, #T_d79b8_row10_col3 {\n",
              "  background-color: #f6a586;\n",
              "  color: #000000;\n",
              "}\n",
              "#T_d79b8_row1_col11, #T_d79b8_row10_col1 {\n",
              "  background-color: #f7b194;\n",
              "  color: #000000;\n",
              "}\n",
              "#T_d79b8_row1_col12, #T_d79b8_row2_col10 {\n",
              "  background-color: #d2dbe8;\n",
              "  color: #000000;\n",
              "}\n",
              "#T_d79b8_row1_col13, #T_d79b8_row10_col8, #T_d79b8_row17_col6 {\n",
              "  background-color: #a1c0ff;\n",
              "  color: #000000;\n",
              "}\n",
              "#T_d79b8_row1_col14, #T_d79b8_row2_col9, #T_d79b8_row4_col19, #T_d79b8_row7_col18, #T_d79b8_row16_col12, #T_d79b8_row18_col19 {\n",
              "  background-color: #9abbff;\n",
              "  color: #000000;\n",
              "}\n",
              "#T_d79b8_row1_col15, #T_d79b8_row8_col3 {\n",
              "  background-color: #a7c5fe;\n",
              "  color: #000000;\n",
              "}\n",
              "#T_d79b8_row1_col16, #T_d79b8_row12_col2 {\n",
              "  background-color: #bfd3f6;\n",
              "  color: #000000;\n",
              "}\n",
              "#T_d79b8_row1_col18 {\n",
              "  background-color: #f7b497;\n",
              "  color: #000000;\n",
              "}\n",
              "#T_d79b8_row1_col19, #T_d79b8_row8_col2, #T_d79b8_row11_col14, #T_d79b8_row19_col6 {\n",
              "  background-color: #7b9ff9;\n",
              "  color: #f1f1f1;\n",
              "}\n",
              "#T_d79b8_row2_col0, #T_d79b8_row2_col16, #T_d79b8_row14_col5, #T_d79b8_row16_col2, #T_d79b8_row18_col7 {\n",
              "  background-color: #6180e9;\n",
              "  color: #f1f1f1;\n",
              "}\n",
              "#T_d79b8_row2_col1, #T_d79b8_row8_col11, #T_d79b8_row16_col1 {\n",
              "  background-color: #adc9fd;\n",
              "  color: #000000;\n",
              "}\n",
              "#T_d79b8_row2_col3 {\n",
              "  background-color: #f2cbb7;\n",
              "  color: #000000;\n",
              "}\n",
              "#T_d79b8_row2_col4 {\n",
              "  background-color: #f6bea4;\n",
              "  color: #000000;\n",
              "}\n",
              "#T_d79b8_row2_col5, #T_d79b8_row2_col8, #T_d79b8_row9_col18 {\n",
              "  background-color: #688aef;\n",
              "  color: #f1f1f1;\n",
              "}\n",
              "#T_d79b8_row2_col6 {\n",
              "  background-color: #aec9fc;\n",
              "  color: #000000;\n",
              "}\n",
              "#T_d79b8_row2_col11, #T_d79b8_row6_col3 {\n",
              "  background-color: #efcebd;\n",
              "  color: #000000;\n",
              "}\n",
              "#T_d79b8_row2_col13 {\n",
              "  background-color: #b9d0f9;\n",
              "  color: #000000;\n",
              "}\n",
              "#T_d79b8_row2_col15, #T_d79b8_row7_col11, #T_d79b8_row7_col12, #T_d79b8_row19_col9 {\n",
              "  background-color: #92b4fe;\n",
              "  color: #000000;\n",
              "}\n",
              "#T_d79b8_row2_col17, #T_d79b8_row10_col2 {\n",
              "  background-color: #cdd9ec;\n",
              "  color: #000000;\n",
              "}\n",
              "#T_d79b8_row2_col18 {\n",
              "  background-color: #e3d9d3;\n",
              "  color: #000000;\n",
              "}\n",
              "#T_d79b8_row3_col1 {\n",
              "  background-color: #e9d5cb;\n",
              "  color: #000000;\n",
              "}\n",
              "#T_d79b8_row3_col2, #T_d79b8_row11_col17 {\n",
              "  background-color: #efcfbf;\n",
              "  color: #000000;\n",
              "}\n",
              "#T_d79b8_row3_col4, #T_d79b8_row4_col3, #T_d79b8_row11_col10 {\n",
              "  background-color: #ee8669;\n",
              "  color: #f1f1f1;\n",
              "}\n",
              "#T_d79b8_row3_col6 {\n",
              "  background-color: #f2cab5;\n",
              "  color: #000000;\n",
              "}\n",
              "#T_d79b8_row3_col7, #T_d79b8_row6_col8, #T_d79b8_row9_col0, #T_d79b8_row14_col13 {\n",
              "  background-color: #5977e3;\n",
              "  color: #f1f1f1;\n",
              "}\n",
              "#T_d79b8_row3_col10, #T_d79b8_row4_col1 {\n",
              "  background-color: #f7a688;\n",
              "  color: #000000;\n",
              "}\n",
              "#T_d79b8_row3_col12 {\n",
              "  background-color: #c7d7f0;\n",
              "  color: #000000;\n",
              "}\n",
              "#T_d79b8_row3_col13 {\n",
              "  background-color: #f5c0a7;\n",
              "  color: #000000;\n",
              "}\n",
              "#T_d79b8_row3_col15, #T_d79b8_row4_col14, #T_d79b8_row7_col6, #T_d79b8_row10_col16, #T_d79b8_row11_col8 {\n",
              "  background-color: #85a8fc;\n",
              "  color: #f1f1f1;\n",
              "}\n",
              "#T_d79b8_row3_col16, #T_d79b8_row11_col9, #T_d79b8_row14_col2, #T_d79b8_row15_col8 {\n",
              "  background-color: #6a8bef;\n",
              "  color: #f1f1f1;\n",
              "}\n",
              "#T_d79b8_row3_col17 {\n",
              "  background-color: #dddcdc;\n",
              "  color: #000000;\n",
              "}\n",
              "#T_d79b8_row3_col18 {\n",
              "  background-color: #f7b99e;\n",
              "  color: #000000;\n",
              "}\n",
              "#T_d79b8_row3_col19, #T_d79b8_row5_col6, #T_d79b8_row16_col11 {\n",
              "  background-color: #7da0f9;\n",
              "  color: #f1f1f1;\n",
              "}\n",
              "#T_d79b8_row4_col0, #T_d79b8_row6_col5, #T_d79b8_row11_col0, #T_d79b8_row11_col7 {\n",
              "  background-color: #5d7ce6;\n",
              "  color: #f1f1f1;\n",
              "}\n",
              "#T_d79b8_row4_col2 {\n",
              "  background-color: #f5c2aa;\n",
              "  color: #000000;\n",
              "}\n",
              "#T_d79b8_row4_col5, #T_d79b8_row8_col14, #T_d79b8_row12_col17, #T_d79b8_row13_col2, #T_d79b8_row15_col9, #T_d79b8_row19_col15 {\n",
              "  background-color: #93b5fe;\n",
              "  color: #000000;\n",
              "}\n",
              "#T_d79b8_row4_col6 {\n",
              "  background-color: #dadce0;\n",
              "  color: #000000;\n",
              "}\n",
              "#T_d79b8_row4_col7, #T_d79b8_row6_col0, #T_d79b8_row13_col15, #T_d79b8_row17_col0, #T_d79b8_row19_col8 {\n",
              "  background-color: #6687ed;\n",
              "  color: #f1f1f1;\n",
              "}\n",
              "#T_d79b8_row4_col8, #T_d79b8_row9_col12 {\n",
              "  background-color: #abc8fd;\n",
              "  color: #000000;\n",
              "}\n",
              "#T_d79b8_row4_col9, #T_d79b8_row7_col3, #T_d79b8_row14_col9 {\n",
              "  background-color: #82a6fb;\n",
              "  color: #f1f1f1;\n",
              "}\n",
              "#T_d79b8_row4_col10, #T_d79b8_row18_col4 {\n",
              "  background-color: #ee8468;\n",
              "  color: #f1f1f1;\n",
              "}\n",
              "#T_d79b8_row4_col11 {\n",
              "  background-color: #d65244;\n",
              "  color: #f1f1f1;\n",
              "}\n",
              "#T_d79b8_row4_col12, #T_d79b8_row11_col2, #T_d79b8_row13_col11 {\n",
              "  background-color: #e8d6cc;\n",
              "  color: #000000;\n",
              "}\n",
              "#T_d79b8_row4_col13 {\n",
              "  background-color: #dcdddd;\n",
              "  color: #000000;\n",
              "}\n",
              "#T_d79b8_row4_col15, #T_d79b8_row8_col6, #T_d79b8_row10_col19 {\n",
              "  background-color: #86a9fc;\n",
              "  color: #f1f1f1;\n",
              "}\n",
              "#T_d79b8_row4_col17 {\n",
              "  background-color: #e0dbd8;\n",
              "  color: #000000;\n",
              "}\n",
              "#T_d79b8_row4_col18 {\n",
              "  background-color: #ec7f63;\n",
              "  color: #f1f1f1;\n",
              "}\n",
              "#T_d79b8_row5_col2, #T_d79b8_row9_col2, #T_d79b8_row10_col9, #T_d79b8_row16_col13, #T_d79b8_row19_col2 {\n",
              "  background-color: #6c8ff1;\n",
              "  color: #f1f1f1;\n",
              "}\n",
              "#T_d79b8_row5_col3, #T_d79b8_row10_col15, #T_d79b8_row17_col2, #T_d79b8_row18_col5 {\n",
              "  background-color: #8badfd;\n",
              "  color: #000000;\n",
              "}\n",
              "#T_d79b8_row5_col4, #T_d79b8_row8_col17 {\n",
              "  background-color: #a2c1ff;\n",
              "  color: #000000;\n",
              "}\n",
              "#T_d79b8_row5_col7 {\n",
              "  background-color: #4c66d6;\n",
              "  color: #f1f1f1;\n",
              "}\n",
              "#T_d79b8_row5_col8, #T_d79b8_row12_col19, #T_d79b8_row13_col0 {\n",
              "  background-color: #6788ee;\n",
              "  color: #f1f1f1;\n",
              "}\n",
              "#T_d79b8_row5_col9, #T_d79b8_row7_col14 {\n",
              "  background-color: #90b2fe;\n",
              "  color: #000000;\n",
              "}\n",
              "#T_d79b8_row5_col10, #T_d79b8_row7_col4, #T_d79b8_row16_col10 {\n",
              "  background-color: #8db0fe;\n",
              "  color: #000000;\n",
              "}\n",
              "#T_d79b8_row5_col12, #T_d79b8_row16_col4, #T_d79b8_row16_col14 {\n",
              "  background-color: #7ea1fa;\n",
              "  color: #f1f1f1;\n",
              "}\n",
              "#T_d79b8_row5_col13, #T_d79b8_row7_col1 {\n",
              "  background-color: #9fbfff;\n",
              "  color: #000000;\n",
              "}\n",
              "#T_d79b8_row5_col14, #T_d79b8_row6_col14, #T_d79b8_row13_col19, #T_d79b8_row16_col3, #T_d79b8_row19_col14 {\n",
              "  background-color: #779af7;\n",
              "  color: #f1f1f1;\n",
              "}\n",
              "#T_d79b8_row5_col16, #T_d79b8_row16_col19, #T_d79b8_row19_col16 {\n",
              "  background-color: #4a63d3;\n",
              "  color: #f1f1f1;\n",
              "}\n",
              "#T_d79b8_row5_col17, #T_d79b8_row18_col13 {\n",
              "  background-color: #dedcdb;\n",
              "  color: #000000;\n",
              "}\n",
              "#T_d79b8_row5_col18, #T_d79b8_row12_col8 {\n",
              "  background-color: #a9c6fd;\n",
              "  color: #000000;\n",
              "}\n",
              "#T_d79b8_row5_col19 {\n",
              "  background-color: #f39778;\n",
              "  color: #000000;\n",
              "}\n",
              "#T_d79b8_row6_col2 {\n",
              "  background-color: #98b9ff;\n",
              "  color: #000000;\n",
              "}\n",
              "#T_d79b8_row6_col4 {\n",
              "  background-color: #d3dbe7;\n",
              "  color: #000000;\n",
              "}\n",
              "#T_d79b8_row6_col7, #T_d79b8_row9_col3 {\n",
              "  background-color: #4e68d8;\n",
              "  color: #f1f1f1;\n",
              "}\n",
              "#T_d79b8_row6_col9, #T_d79b8_row17_col1 {\n",
              "  background-color: #506bda;\n",
              "  color: #f1f1f1;\n",
              "}\n",
              "#T_d79b8_row6_col10 {\n",
              "  background-color: #e7d7ce;\n",
              "  color: #000000;\n",
              "}\n",
              "#T_d79b8_row6_col11, #T_d79b8_row6_col13, #T_d79b8_row11_col6, #T_d79b8_row13_col17 {\n",
              "  background-color: #f4c5ad;\n",
              "  color: #000000;\n",
              "}\n",
              "#T_d79b8_row6_col15, #T_d79b8_row17_col10 {\n",
              "  background-color: #a6c4fe;\n",
              "  color: #000000;\n",
              "}\n",
              "#T_d79b8_row6_col18, #T_d79b8_row8_col18 {\n",
              "  background-color: #cbd8ee;\n",
              "  color: #000000;\n",
              "}\n",
              "#T_d79b8_row6_col19, #T_d79b8_row7_col0, #T_d79b8_row9_col4, #T_d79b8_row10_col7, #T_d79b8_row12_col0, #T_d79b8_row12_col7, #T_d79b8_row16_col0, #T_d79b8_row18_col0 {\n",
              "  background-color: #5f7fe8;\n",
              "  color: #f1f1f1;\n",
              "}\n",
              "#T_d79b8_row7_col8 {\n",
              "  background-color: #cedaeb;\n",
              "  color: #000000;\n",
              "}\n",
              "#T_d79b8_row7_col15 {\n",
              "  background-color: #bad0f8;\n",
              "  color: #000000;\n",
              "}\n",
              "#T_d79b8_row7_col16, #T_d79b8_row9_col8, #T_d79b8_row9_col16, #T_d79b8_row15_col0 {\n",
              "  background-color: #5e7de7;\n",
              "  color: #f1f1f1;\n",
              "}\n",
              "#T_d79b8_row7_col17, #T_d79b8_row10_col12, #T_d79b8_row18_col8 {\n",
              "  background-color: #aac7fd;\n",
              "  color: #000000;\n",
              "}\n",
              "#T_d79b8_row8_col0, #T_d79b8_row10_col0, #T_d79b8_row12_col5, #T_d79b8_row14_col7 {\n",
              "  background-color: #6384eb;\n",
              "  color: #f1f1f1;\n",
              "}\n",
              "#T_d79b8_row8_col1, #T_d79b8_row8_col7 {\n",
              "  background-color: #c9d7f0;\n",
              "  color: #000000;\n",
              "}\n",
              "#T_d79b8_row8_col4, #T_d79b8_row12_col3 {\n",
              "  background-color: #c1d4f4;\n",
              "  color: #000000;\n",
              "}\n",
              "#T_d79b8_row8_col5, #T_d79b8_row18_col14, #T_d79b8_row18_col15 {\n",
              "  background-color: #7597f6;\n",
              "  color: #f1f1f1;\n",
              "}\n",
              "#T_d79b8_row8_col9, #T_d79b8_row11_col19, #T_d79b8_row12_col10 {\n",
              "  background-color: #9ebeff;\n",
              "  color: #000000;\n",
              "}\n",
              "#T_d79b8_row8_col10 {\n",
              "  background-color: #b6cefa;\n",
              "  color: #000000;\n",
              "}\n",
              "#T_d79b8_row8_col12 {\n",
              "  background-color: #c6d6f1;\n",
              "  color: #000000;\n",
              "}\n",
              "#T_d79b8_row8_col15 {\n",
              "  background-color: #c5d6f2;\n",
              "  color: #000000;\n",
              "}\n",
              "#T_d79b8_row9_col7 {\n",
              "  background-color: #4b64d5;\n",
              "  color: #f1f1f1;\n",
              "}\n",
              "#T_d79b8_row9_col11, #T_d79b8_row16_col8, #T_d79b8_row17_col12 {\n",
              "  background-color: #536edd;\n",
              "  color: #f1f1f1;\n",
              "}\n",
              "#T_d79b8_row9_col15, #T_d79b8_row15_col16, #T_d79b8_row19_col11, #T_d79b8_row19_col18 {\n",
              "  background-color: #b3cdfb;\n",
              "  color: #000000;\n",
              "}\n",
              "#T_d79b8_row10_col4 {\n",
              "  background-color: #ed8366;\n",
              "  color: #f1f1f1;\n",
              "}\n",
              "#T_d79b8_row10_col6 {\n",
              "  background-color: #edd1c2;\n",
              "  color: #000000;\n",
              "}\n",
              "#T_d79b8_row10_col11 {\n",
              "  background-color: #ec8165;\n",
              "  color: #f1f1f1;\n",
              "}\n",
              "#T_d79b8_row10_col13, #T_d79b8_row13_col6 {\n",
              "  background-color: #f1ccb8;\n",
              "  color: #000000;\n",
              "}\n",
              "#T_d79b8_row10_col17 {\n",
              "  background-color: #d9dce1;\n",
              "  color: #000000;\n",
              "}\n",
              "#T_d79b8_row10_col18 {\n",
              "  background-color: #f18f71;\n",
              "  color: #f1f1f1;\n",
              "}\n",
              "#T_d79b8_row11_col1 {\n",
              "  background-color: #f5c4ac;\n",
              "  color: #000000;\n",
              "}\n",
              "#T_d79b8_row11_col3 {\n",
              "  background-color: #f59d7e;\n",
              "  color: #000000;\n",
              "}\n",
              "#T_d79b8_row11_col4 {\n",
              "  background-color: #d75445;\n",
              "  color: #f1f1f1;\n",
              "}\n",
              "#T_d79b8_row11_col13, #T_d79b8_row18_col17 {\n",
              "  background-color: #eed0c0;\n",
              "  color: #000000;\n",
              "}\n",
              "#T_d79b8_row11_col18 {\n",
              "  background-color: #ef886b;\n",
              "  color: #f1f1f1;\n",
              "}\n",
              "#T_d79b8_row12_col1, #T_d79b8_row18_col12 {\n",
              "  background-color: #b2ccfb;\n",
              "  color: #000000;\n",
              "}\n",
              "#T_d79b8_row12_col4 {\n",
              "  background-color: #e4d9d2;\n",
              "  color: #000000;\n",
              "}\n",
              "#T_d79b8_row12_col6, #T_d79b8_row13_col7 {\n",
              "  background-color: #3e51c5;\n",
              "  color: #f1f1f1;\n",
              "}\n",
              "#T_d79b8_row12_col9 {\n",
              "  background-color: #bed2f6;\n",
              "  color: #000000;\n",
              "}\n",
              "#T_d79b8_row12_col11, #T_d79b8_row12_col13 {\n",
              "  background-color: #6f92f3;\n",
              "  color: #f1f1f1;\n",
              "}\n",
              "#T_d79b8_row12_col14, #T_d79b8_row19_col3 {\n",
              "  background-color: #89acfd;\n",
              "  color: #000000;\n",
              "}\n",
              "#T_d79b8_row12_col15 {\n",
              "  background-color: #c3d5f4;\n",
              "  color: #000000;\n",
              "}\n",
              "#T_d79b8_row13_col1 {\n",
              "  background-color: #5a78e4;\n",
              "  color: #f1f1f1;\n",
              "}\n",
              "#T_d79b8_row13_col3 {\n",
              "  background-color: #f0cdbb;\n",
              "  color: #000000;\n",
              "}\n",
              "#T_d79b8_row13_col4, #T_d79b8_row18_col6 {\n",
              "  background-color: #cad8ef;\n",
              "  color: #000000;\n",
              "}\n",
              "#T_d79b8_row13_col8 {\n",
              "  background-color: #4055c8;\n",
              "  color: #f1f1f1;\n",
              "}\n",
              "#T_d79b8_row13_col10, #T_d79b8_row16_col15 {\n",
              "  background-color: #e5d8d1;\n",
              "  color: #000000;\n",
              "}\n",
              "#T_d79b8_row13_col12 {\n",
              "  background-color: #5673e0;\n",
              "  color: #f1f1f1;\n",
              "}\n",
              "#T_d79b8_row13_col18 {\n",
              "  background-color: #d6dce4;\n",
              "  color: #000000;\n",
              "}\n",
              "#T_d79b8_row14_col3, #T_d79b8_row14_col4, #T_d79b8_row14_col6, #T_d79b8_row19_col12 {\n",
              "  background-color: #80a3fa;\n",
              "  color: #f1f1f1;\n",
              "}\n",
              "#T_d79b8_row14_col12, #T_d79b8_row15_col12, #T_d79b8_row16_col9, #T_d79b8_row16_col18, #T_d79b8_row19_col10 {\n",
              "  background-color: #8fb1fe;\n",
              "  color: #000000;\n",
              "}\n",
              "#T_d79b8_row14_col17, #T_d79b8_row17_col5, #T_d79b8_row19_col4, #T_d79b8_row19_col13 {\n",
              "  background-color: #a5c3fe;\n",
              "  color: #000000;\n",
              "}\n",
              "#T_d79b8_row15_col7, #T_d79b8_row19_col7 {\n",
              "  background-color: #4f69d9;\n",
              "  color: #f1f1f1;\n",
              "}\n",
              "#T_d79b8_row15_col13, #T_d79b8_row17_col16 {\n",
              "  background-color: #3d50c3;\n",
              "  color: #f1f1f1;\n",
              "}\n",
              "#T_d79b8_row15_col14 {\n",
              "  background-color: #88abfd;\n",
              "  color: #000000;\n",
              "}\n",
              "#T_d79b8_row16_col5 {\n",
              "  background-color: #465ecf;\n",
              "  color: #f1f1f1;\n",
              "}\n",
              "#T_d79b8_row16_col7 {\n",
              "  background-color: #4257c9;\n",
              "  color: #f1f1f1;\n",
              "}\n",
              "#T_d79b8_row16_col17 {\n",
              "  background-color: #96b7ff;\n",
              "  color: #000000;\n",
              "}\n",
              "#T_d79b8_row17_col4 {\n",
              "  background-color: #b5cdfa;\n",
              "  color: #000000;\n",
              "}\n",
              "#T_d79b8_row17_col9 {\n",
              "  background-color: #7699f6;\n",
              "  color: #f1f1f1;\n",
              "}\n",
              "#T_d79b8_row17_col11, #T_d79b8_row17_col18 {\n",
              "  background-color: #d7dce3;\n",
              "  color: #000000;\n",
              "}\n",
              "#T_d79b8_row17_col13 {\n",
              "  background-color: #ecd3c5;\n",
              "  color: #000000;\n",
              "}\n",
              "#T_d79b8_row17_col19 {\n",
              "  background-color: #afcafc;\n",
              "  color: #000000;\n",
              "}\n",
              "#T_d79b8_row18_col2 {\n",
              "  background-color: #d5dbe5;\n",
              "  color: #000000;\n",
              "}\n",
              "#T_d79b8_row18_col3 {\n",
              "  background-color: #f6bfa6;\n",
              "  color: #000000;\n",
              "}\n",
              "#T_d79b8_row18_col10 {\n",
              "  background-color: #f39577;\n",
              "  color: #000000;\n",
              "}\n",
              "#T_d79b8_row18_col11 {\n",
              "  background-color: #f08a6c;\n",
              "  color: #f1f1f1;\n",
              "}\n",
              "#T_d79b8_row19_col17 {\n",
              "  background-color: #e2dad5;\n",
              "  color: #000000;\n",
              "}\n",
              "</style>\n",
              "<table id=\"T_d79b8_\" class=\"dataframe\">\n",
              "  <thead>\n",
              "    <tr>\n",
              "      <th class=\"blank level0\" >&nbsp;</th>\n",
              "      <th class=\"col_heading level0 col0\" >id</th>\n",
              "      <th class=\"col_heading level0 col1\" >price</th>\n",
              "      <th class=\"col_heading level0 col2\" >bedrooms</th>\n",
              "      <th class=\"col_heading level0 col3\" >bathrooms</th>\n",
              "      <th class=\"col_heading level0 col4\" >sqft_living</th>\n",
              "      <th class=\"col_heading level0 col5\" >sqft_lot</th>\n",
              "      <th class=\"col_heading level0 col6\" >floors</th>\n",
              "      <th class=\"col_heading level0 col7\" >waterfront</th>\n",
              "      <th class=\"col_heading level0 col8\" >view</th>\n",
              "      <th class=\"col_heading level0 col9\" >condition</th>\n",
              "      <th class=\"col_heading level0 col10\" >grade</th>\n",
              "      <th class=\"col_heading level0 col11\" >sqft_above</th>\n",
              "      <th class=\"col_heading level0 col12\" >sqft_basement</th>\n",
              "      <th class=\"col_heading level0 col13\" >yr_built</th>\n",
              "      <th class=\"col_heading level0 col14\" >yr_renovated</th>\n",
              "      <th class=\"col_heading level0 col15\" >zipcode</th>\n",
              "      <th class=\"col_heading level0 col16\" >lat</th>\n",
              "      <th class=\"col_heading level0 col17\" >long</th>\n",
              "      <th class=\"col_heading level0 col18\" >sqft_living15</th>\n",
              "      <th class=\"col_heading level0 col19\" >sqft_lot15</th>\n",
              "    </tr>\n",
              "  </thead>\n",
              "  <tbody>\n",
              "    <tr>\n",
              "      <th id=\"T_d79b8_level0_row0\" class=\"row_heading level0 row0\" >id</th>\n",
              "      <td id=\"T_d79b8_row0_col0\" class=\"data row0 col0\" >1.000000</td>\n",
              "      <td id=\"T_d79b8_row0_col1\" class=\"data row0 col1\" >-0.016762</td>\n",
              "      <td id=\"T_d79b8_row0_col2\" class=\"data row0 col2\" >0.001286</td>\n",
              "      <td id=\"T_d79b8_row0_col3\" class=\"data row0 col3\" >0.005160</td>\n",
              "      <td id=\"T_d79b8_row0_col4\" class=\"data row0 col4\" >-0.012258</td>\n",
              "      <td id=\"T_d79b8_row0_col5\" class=\"data row0 col5\" >-0.132109</td>\n",
              "      <td id=\"T_d79b8_row0_col6\" class=\"data row0 col6\" >0.018525</td>\n",
              "      <td id=\"T_d79b8_row0_col7\" class=\"data row0 col7\" >-0.002721</td>\n",
              "      <td id=\"T_d79b8_row0_col8\" class=\"data row0 col8\" >0.011592</td>\n",
              "      <td id=\"T_d79b8_row0_col9\" class=\"data row0 col9\" >-0.023783</td>\n",
              "      <td id=\"T_d79b8_row0_col10\" class=\"data row0 col10\" >0.008130</td>\n",
              "      <td id=\"T_d79b8_row0_col11\" class=\"data row0 col11\" >-0.010842</td>\n",
              "      <td id=\"T_d79b8_row0_col12\" class=\"data row0 col12\" >-0.005151</td>\n",
              "      <td id=\"T_d79b8_row0_col13\" class=\"data row0 col13\" >0.021380</td>\n",
              "      <td id=\"T_d79b8_row0_col14\" class=\"data row0 col14\" >-0.016907</td>\n",
              "      <td id=\"T_d79b8_row0_col15\" class=\"data row0 col15\" >-0.008224</td>\n",
              "      <td id=\"T_d79b8_row0_col16\" class=\"data row0 col16\" >-0.001891</td>\n",
              "      <td id=\"T_d79b8_row0_col17\" class=\"data row0 col17\" >0.020799</td>\n",
              "      <td id=\"T_d79b8_row0_col18\" class=\"data row0 col18\" >-0.002901</td>\n",
              "      <td id=\"T_d79b8_row0_col19\" class=\"data row0 col19\" >-0.138798</td>\n",
              "    </tr>\n",
              "    <tr>\n",
              "      <th id=\"T_d79b8_level0_row1\" class=\"row_heading level0 row1\" >price</th>\n",
              "      <td id=\"T_d79b8_row1_col0\" class=\"data row1 col0\" >-0.016762</td>\n",
              "      <td id=\"T_d79b8_row1_col1\" class=\"data row1 col1\" >1.000000</td>\n",
              "      <td id=\"T_d79b8_row1_col2\" class=\"data row1 col2\" >0.308350</td>\n",
              "      <td id=\"T_d79b8_row1_col3\" class=\"data row1 col3\" >0.525138</td>\n",
              "      <td id=\"T_d79b8_row1_col4\" class=\"data row1 col4\" >0.702035</td>\n",
              "      <td id=\"T_d79b8_row1_col5\" class=\"data row1 col5\" >0.089661</td>\n",
              "      <td id=\"T_d79b8_row1_col6\" class=\"data row1 col6\" >0.256794</td>\n",
              "      <td id=\"T_d79b8_row1_col7\" class=\"data row1 col7\" >0.266369</td>\n",
              "      <td id=\"T_d79b8_row1_col8\" class=\"data row1 col8\" >0.397293</td>\n",
              "      <td id=\"T_d79b8_row1_col9\" class=\"data row1 col9\" >0.036362</td>\n",
              "      <td id=\"T_d79b8_row1_col10\" class=\"data row1 col10\" >0.667434</td>\n",
              "      <td id=\"T_d79b8_row1_col11\" class=\"data row1 col11\" >0.605567</td>\n",
              "      <td id=\"T_d79b8_row1_col12\" class=\"data row1 col12\" >0.323816</td>\n",
              "      <td id=\"T_d79b8_row1_col13\" class=\"data row1 col13\" >0.054012</td>\n",
              "      <td id=\"T_d79b8_row1_col14\" class=\"data row1 col14\" >0.126434</td>\n",
              "      <td id=\"T_d79b8_row1_col15\" class=\"data row1 col15\" >-0.053203</td>\n",
              "      <td id=\"T_d79b8_row1_col16\" class=\"data row1 col16\" >0.307003</td>\n",
              "      <td id=\"T_d79b8_row1_col17\" class=\"data row1 col17\" >0.021626</td>\n",
              "      <td id=\"T_d79b8_row1_col18\" class=\"data row1 col18\" >0.585379</td>\n",
              "      <td id=\"T_d79b8_row1_col19\" class=\"data row1 col19\" >0.082447</td>\n",
              "    </tr>\n",
              "    <tr>\n",
              "      <th id=\"T_d79b8_level0_row2\" class=\"row_heading level0 row2\" >bedrooms</th>\n",
              "      <td id=\"T_d79b8_row2_col0\" class=\"data row2 col0\" >0.001286</td>\n",
              "      <td id=\"T_d79b8_row2_col1\" class=\"data row2 col1\" >0.308350</td>\n",
              "      <td id=\"T_d79b8_row2_col2\" class=\"data row2 col2\" >1.000000</td>\n",
              "      <td id=\"T_d79b8_row2_col3\" class=\"data row2 col3\" >0.515884</td>\n",
              "      <td id=\"T_d79b8_row2_col4\" class=\"data row2 col4\" >0.576671</td>\n",
              "      <td id=\"T_d79b8_row2_col5\" class=\"data row2 col5\" >0.031703</td>\n",
              "      <td id=\"T_d79b8_row2_col6\" class=\"data row2 col6\" >0.175429</td>\n",
              "      <td id=\"T_d79b8_row2_col7\" class=\"data row2 col7\" >-0.006582</td>\n",
              "      <td id=\"T_d79b8_row2_col8\" class=\"data row2 col8\" >0.079532</td>\n",
              "      <td id=\"T_d79b8_row2_col9\" class=\"data row2 col9\" >0.028472</td>\n",
              "      <td id=\"T_d79b8_row2_col10\" class=\"data row2 col10\" >0.356967</td>\n",
              "      <td id=\"T_d79b8_row2_col11\" class=\"data row2 col11\" >0.477600</td>\n",
              "      <td id=\"T_d79b8_row2_col12\" class=\"data row2 col12\" >0.303093</td>\n",
              "      <td id=\"T_d79b8_row2_col13\" class=\"data row2 col13\" >0.154178</td>\n",
              "      <td id=\"T_d79b8_row2_col14\" class=\"data row2 col14\" >0.018841</td>\n",
              "      <td id=\"T_d79b8_row2_col15\" class=\"data row2 col15\" >-0.152668</td>\n",
              "      <td id=\"T_d79b8_row2_col16\" class=\"data row2 col16\" >-0.008931</td>\n",
              "      <td id=\"T_d79b8_row2_col17\" class=\"data row2 col17\" >0.129473</td>\n",
              "      <td id=\"T_d79b8_row2_col18\" class=\"data row2 col18\" >0.391638</td>\n",
              "      <td id=\"T_d79b8_row2_col19\" class=\"data row2 col19\" >0.029244</td>\n",
              "    </tr>\n",
              "    <tr>\n",
              "      <th id=\"T_d79b8_level0_row3\" class=\"row_heading level0 row3\" >bathrooms</th>\n",
              "      <td id=\"T_d79b8_row3_col0\" class=\"data row3 col0\" >0.005160</td>\n",
              "      <td id=\"T_d79b8_row3_col1\" class=\"data row3 col1\" >0.525138</td>\n",
              "      <td id=\"T_d79b8_row3_col2\" class=\"data row3 col2\" >0.515884</td>\n",
              "      <td id=\"T_d79b8_row3_col3\" class=\"data row3 col3\" >1.000000</td>\n",
              "      <td id=\"T_d79b8_row3_col4\" class=\"data row3 col4\" >0.754665</td>\n",
              "      <td id=\"T_d79b8_row3_col5\" class=\"data row3 col5\" >0.087740</td>\n",
              "      <td id=\"T_d79b8_row3_col6\" class=\"data row3 col6\" >0.500653</td>\n",
              "      <td id=\"T_d79b8_row3_col7\" class=\"data row3 col7\" >0.063744</td>\n",
              "      <td id=\"T_d79b8_row3_col8\" class=\"data row3 col8\" >0.187737</td>\n",
              "      <td id=\"T_d79b8_row3_col9\" class=\"data row3 col9\" >-0.124982</td>\n",
              "      <td id=\"T_d79b8_row3_col10\" class=\"data row3 col10\" >0.664983</td>\n",
              "      <td id=\"T_d79b8_row3_col11\" class=\"data row3 col11\" >0.685342</td>\n",
              "      <td id=\"T_d79b8_row3_col12\" class=\"data row3 col12\" >0.283770</td>\n",
              "      <td id=\"T_d79b8_row3_col13\" class=\"data row3 col13\" >0.506019</td>\n",
              "      <td id=\"T_d79b8_row3_col14\" class=\"data row3 col14\" >0.050739</td>\n",
              "      <td id=\"T_d79b8_row3_col15\" class=\"data row3 col15\" >-0.203866</td>\n",
              "      <td id=\"T_d79b8_row3_col16\" class=\"data row3 col16\" >0.024573</td>\n",
              "      <td id=\"T_d79b8_row3_col17\" class=\"data row3 col17\" >0.223042</td>\n",
              "      <td id=\"T_d79b8_row3_col18\" class=\"data row3 col18\" >0.568634</td>\n",
              "      <td id=\"T_d79b8_row3_col19\" class=\"data row3 col19\" >0.087175</td>\n",
              "    </tr>\n",
              "    <tr>\n",
              "      <th id=\"T_d79b8_level0_row4\" class=\"row_heading level0 row4\" >sqft_living</th>\n",
              "      <td id=\"T_d79b8_row4_col0\" class=\"data row4 col0\" >-0.012258</td>\n",
              "      <td id=\"T_d79b8_row4_col1\" class=\"data row4 col1\" >0.702035</td>\n",
              "      <td id=\"T_d79b8_row4_col2\" class=\"data row4 col2\" >0.576671</td>\n",
              "      <td id=\"T_d79b8_row4_col3\" class=\"data row4 col3\" >0.754665</td>\n",
              "      <td id=\"T_d79b8_row4_col4\" class=\"data row4 col4\" >1.000000</td>\n",
              "      <td id=\"T_d79b8_row4_col5\" class=\"data row4 col5\" >0.172826</td>\n",
              "      <td id=\"T_d79b8_row4_col6\" class=\"data row4 col6\" >0.353949</td>\n",
              "      <td id=\"T_d79b8_row4_col7\" class=\"data row4 col7\" >0.103818</td>\n",
              "      <td id=\"T_d79b8_row4_col8\" class=\"data row4 col8\" >0.284611</td>\n",
              "      <td id=\"T_d79b8_row4_col9\" class=\"data row4 col9\" >-0.058753</td>\n",
              "      <td id=\"T_d79b8_row4_col10\" class=\"data row4 col10\" >0.762704</td>\n",
              "      <td id=\"T_d79b8_row4_col11\" class=\"data row4 col11\" >0.876597</td>\n",
              "      <td id=\"T_d79b8_row4_col12\" class=\"data row4 col12\" >0.435043</td>\n",
              "      <td id=\"T_d79b8_row4_col13\" class=\"data row4 col13\" >0.318049</td>\n",
              "      <td id=\"T_d79b8_row4_col14\" class=\"data row4 col14\" >0.055363</td>\n",
              "      <td id=\"T_d79b8_row4_col15\" class=\"data row4 col15\" >-0.199430</td>\n",
              "      <td id=\"T_d79b8_row4_col16\" class=\"data row4 col16\" >0.052529</td>\n",
              "      <td id=\"T_d79b8_row4_col17\" class=\"data row4 col17\" >0.240223</td>\n",
              "      <td id=\"T_d79b8_row4_col18\" class=\"data row4 col18\" >0.756420</td>\n",
              "      <td id=\"T_d79b8_row4_col19\" class=\"data row4 col19\" >0.183286</td>\n",
              "    </tr>\n",
              "    <tr>\n",
              "      <th id=\"T_d79b8_level0_row5\" class=\"row_heading level0 row5\" >sqft_lot</th>\n",
              "      <td id=\"T_d79b8_row5_col0\" class=\"data row5 col0\" >-0.132109</td>\n",
              "      <td id=\"T_d79b8_row5_col1\" class=\"data row5 col1\" >0.089661</td>\n",
              "      <td id=\"T_d79b8_row5_col2\" class=\"data row5 col2\" >0.031703</td>\n",
              "      <td id=\"T_d79b8_row5_col3\" class=\"data row5 col3\" >0.087740</td>\n",
              "      <td id=\"T_d79b8_row5_col4\" class=\"data row5 col4\" >0.172826</td>\n",
              "      <td id=\"T_d79b8_row5_col5\" class=\"data row5 col5\" >1.000000</td>\n",
              "      <td id=\"T_d79b8_row5_col6\" class=\"data row5 col6\" >-0.005201</td>\n",
              "      <td id=\"T_d79b8_row5_col7\" class=\"data row5 col7\" >0.021604</td>\n",
              "      <td id=\"T_d79b8_row5_col8\" class=\"data row5 col8\" >0.074710</td>\n",
              "      <td id=\"T_d79b8_row5_col9\" class=\"data row5 col9\" >-0.008958</td>\n",
              "      <td id=\"T_d79b8_row5_col10\" class=\"data row5 col10\" >0.113621</td>\n",
              "      <td id=\"T_d79b8_row5_col11\" class=\"data row5 col11\" >0.183512</td>\n",
              "      <td id=\"T_d79b8_row5_col12\" class=\"data row5 col12\" >0.015286</td>\n",
              "      <td id=\"T_d79b8_row5_col13\" class=\"data row5 col13\" >0.053080</td>\n",
              "      <td id=\"T_d79b8_row5_col14\" class=\"data row5 col14\" >0.007644</td>\n",
              "      <td id=\"T_d79b8_row5_col15\" class=\"data row5 col15\" >-0.129574</td>\n",
              "      <td id=\"T_d79b8_row5_col16\" class=\"data row5 col16\" >-0.085683</td>\n",
              "      <td id=\"T_d79b8_row5_col17\" class=\"data row5 col17\" >0.229521</td>\n",
              "      <td id=\"T_d79b8_row5_col18\" class=\"data row5 col18\" >0.144608</td>\n",
              "      <td id=\"T_d79b8_row5_col19\" class=\"data row5 col19\" >0.718557</td>\n",
              "    </tr>\n",
              "    <tr>\n",
              "      <th id=\"T_d79b8_level0_row6\" class=\"row_heading level0 row6\" >floors</th>\n",
              "      <td id=\"T_d79b8_row6_col0\" class=\"data row6 col0\" >0.018525</td>\n",
              "      <td id=\"T_d79b8_row6_col1\" class=\"data row6 col1\" >0.256794</td>\n",
              "      <td id=\"T_d79b8_row6_col2\" class=\"data row6 col2\" >0.175429</td>\n",
              "      <td id=\"T_d79b8_row6_col3\" class=\"data row6 col3\" >0.500653</td>\n",
              "      <td id=\"T_d79b8_row6_col4\" class=\"data row6 col4\" >0.353949</td>\n",
              "      <td id=\"T_d79b8_row6_col5\" class=\"data row6 col5\" >-0.005201</td>\n",
              "      <td id=\"T_d79b8_row6_col6\" class=\"data row6 col6\" >1.000000</td>\n",
              "      <td id=\"T_d79b8_row6_col7\" class=\"data row6 col7\" >0.023698</td>\n",
              "      <td id=\"T_d79b8_row6_col8\" class=\"data row6 col8\" >0.029444</td>\n",
              "      <td id=\"T_d79b8_row6_col9\" class=\"data row6 col9\" >-0.263768</td>\n",
              "      <td id=\"T_d79b8_row6_col10\" class=\"data row6 col10\" >0.458183</td>\n",
              "      <td id=\"T_d79b8_row6_col11\" class=\"data row6 col11\" >0.523885</td>\n",
              "      <td id=\"T_d79b8_row6_col12\" class=\"data row6 col12\" >-0.245705</td>\n",
              "      <td id=\"T_d79b8_row6_col13\" class=\"data row6 col13\" >0.489319</td>\n",
              "      <td id=\"T_d79b8_row6_col14\" class=\"data row6 col14\" >0.006338</td>\n",
              "      <td id=\"T_d79b8_row6_col15\" class=\"data row6 col15\" >-0.059121</td>\n",
              "      <td id=\"T_d79b8_row6_col16\" class=\"data row6 col16\" >0.049614</td>\n",
              "      <td id=\"T_d79b8_row6_col17\" class=\"data row6 col17\" >0.125419</td>\n",
              "      <td id=\"T_d79b8_row6_col18\" class=\"data row6 col18\" >0.279885</td>\n",
              "      <td id=\"T_d79b8_row6_col19\" class=\"data row6 col19\" >-0.011269</td>\n",
              "    </tr>\n",
              "    <tr>\n",
              "      <th id=\"T_d79b8_level0_row7\" class=\"row_heading level0 row7\" >waterfront</th>\n",
              "      <td id=\"T_d79b8_row7_col0\" class=\"data row7 col0\" >-0.002721</td>\n",
              "      <td id=\"T_d79b8_row7_col1\" class=\"data row7 col1\" >0.266369</td>\n",
              "      <td id=\"T_d79b8_row7_col2\" class=\"data row7 col2\" >-0.006582</td>\n",
              "      <td id=\"T_d79b8_row7_col3\" class=\"data row7 col3\" >0.063744</td>\n",
              "      <td id=\"T_d79b8_row7_col4\" class=\"data row7 col4\" >0.103818</td>\n",
              "      <td id=\"T_d79b8_row7_col5\" class=\"data row7 col5\" >0.021604</td>\n",
              "      <td id=\"T_d79b8_row7_col6\" class=\"data row7 col6\" >0.023698</td>\n",
              "      <td id=\"T_d79b8_row7_col7\" class=\"data row7 col7\" >1.000000</td>\n",
              "      <td id=\"T_d79b8_row7_col8\" class=\"data row7 col8\" >0.401857</td>\n",
              "      <td id=\"T_d79b8_row7_col9\" class=\"data row7 col9\" >0.016653</td>\n",
              "      <td id=\"T_d79b8_row7_col10\" class=\"data row7 col10\" >0.082775</td>\n",
              "      <td id=\"T_d79b8_row7_col11\" class=\"data row7 col11\" >0.072075</td>\n",
              "      <td id=\"T_d79b8_row7_col12\" class=\"data row7 col12\" >0.080588</td>\n",
              "      <td id=\"T_d79b8_row7_col13\" class=\"data row7 col13\" >-0.026161</td>\n",
              "      <td id=\"T_d79b8_row7_col14\" class=\"data row7 col14\" >0.092885</td>\n",
              "      <td id=\"T_d79b8_row7_col15\" class=\"data row7 col15\" >0.030285</td>\n",
              "      <td id=\"T_d79b8_row7_col16\" class=\"data row7 col16\" >-0.014274</td>\n",
              "      <td id=\"T_d79b8_row7_col17\" class=\"data row7 col17\" >-0.041910</td>\n",
              "      <td id=\"T_d79b8_row7_col18\" class=\"data row7 col18\" >0.086463</td>\n",
              "      <td id=\"T_d79b8_row7_col19\" class=\"data row7 col19\" >0.030703</td>\n",
              "    </tr>\n",
              "    <tr>\n",
              "      <th id=\"T_d79b8_level0_row8\" class=\"row_heading level0 row8\" >view</th>\n",
              "      <td id=\"T_d79b8_row8_col0\" class=\"data row8 col0\" >0.011592</td>\n",
              "      <td id=\"T_d79b8_row8_col1\" class=\"data row8 col1\" >0.397293</td>\n",
              "      <td id=\"T_d79b8_row8_col2\" class=\"data row8 col2\" >0.079532</td>\n",
              "      <td id=\"T_d79b8_row8_col3\" class=\"data row8 col3\" >0.187737</td>\n",
              "      <td id=\"T_d79b8_row8_col4\" class=\"data row8 col4\" >0.284611</td>\n",
              "      <td id=\"T_d79b8_row8_col5\" class=\"data row8 col5\" >0.074710</td>\n",
              "      <td id=\"T_d79b8_row8_col6\" class=\"data row8 col6\" >0.029444</td>\n",
              "      <td id=\"T_d79b8_row8_col7\" class=\"data row8 col7\" >0.401857</td>\n",
              "      <td id=\"T_d79b8_row8_col8\" class=\"data row8 col8\" >1.000000</td>\n",
              "      <td id=\"T_d79b8_row8_col9\" class=\"data row8 col9\" >0.045990</td>\n",
              "      <td id=\"T_d79b8_row8_col10\" class=\"data row8 col10\" >0.251321</td>\n",
              "      <td id=\"T_d79b8_row8_col11\" class=\"data row8 col11\" >0.167649</td>\n",
              "      <td id=\"T_d79b8_row8_col12\" class=\"data row8 col12\" >0.276947</td>\n",
              "      <td id=\"T_d79b8_row8_col13\" class=\"data row8 col13\" >-0.053440</td>\n",
              "      <td id=\"T_d79b8_row8_col14\" class=\"data row8 col14\" >0.103917</td>\n",
              "      <td id=\"T_d79b8_row8_col15\" class=\"data row8 col15\" >0.084827</td>\n",
              "      <td id=\"T_d79b8_row8_col16\" class=\"data row8 col16\" >0.006157</td>\n",
              "      <td id=\"T_d79b8_row8_col17\" class=\"data row8 col17\" >-0.078400</td>\n",
              "      <td id=\"T_d79b8_row8_col18\" class=\"data row8 col18\" >0.280439</td>\n",
              "      <td id=\"T_d79b8_row8_col19\" class=\"data row8 col19\" >0.072575</td>\n",
              "    </tr>\n",
              "    <tr>\n",
              "      <th id=\"T_d79b8_level0_row9\" class=\"row_heading level0 row9\" >condition</th>\n",
              "      <td id=\"T_d79b8_row9_col0\" class=\"data row9 col0\" >-0.023783</td>\n",
              "      <td id=\"T_d79b8_row9_col1\" class=\"data row9 col1\" >0.036362</td>\n",
              "      <td id=\"T_d79b8_row9_col2\" class=\"data row9 col2\" >0.028472</td>\n",
              "      <td id=\"T_d79b8_row9_col3\" class=\"data row9 col3\" >-0.124982</td>\n",
              "      <td id=\"T_d79b8_row9_col4\" class=\"data row9 col4\" >-0.058753</td>\n",
              "      <td id=\"T_d79b8_row9_col5\" class=\"data row9 col5\" >-0.008958</td>\n",
              "      <td id=\"T_d79b8_row9_col6\" class=\"data row9 col6\" >-0.263768</td>\n",
              "      <td id=\"T_d79b8_row9_col7\" class=\"data row9 col7\" >0.016653</td>\n",
              "      <td id=\"T_d79b8_row9_col8\" class=\"data row9 col8\" >0.045990</td>\n",
              "      <td id=\"T_d79b8_row9_col9\" class=\"data row9 col9\" >1.000000</td>\n",
              "      <td id=\"T_d79b8_row9_col10\" class=\"data row9 col10\" >-0.144674</td>\n",
              "      <td id=\"T_d79b8_row9_col11\" class=\"data row9 col11\" >-0.158214</td>\n",
              "      <td id=\"T_d79b8_row9_col12\" class=\"data row9 col12\" >0.174105</td>\n",
              "      <td id=\"T_d79b8_row9_col13\" class=\"data row9 col13\" >-0.361417</td>\n",
              "      <td id=\"T_d79b8_row9_col14\" class=\"data row9 col14\" >-0.060618</td>\n",
              "      <td id=\"T_d79b8_row9_col15\" class=\"data row9 col15\" >0.003026</td>\n",
              "      <td id=\"T_d79b8_row9_col16\" class=\"data row9 col16\" >-0.014941</td>\n",
              "      <td id=\"T_d79b8_row9_col17\" class=\"data row9 col17\" >-0.106500</td>\n",
              "      <td id=\"T_d79b8_row9_col18\" class=\"data row9 col18\" >-0.092824</td>\n",
              "      <td id=\"T_d79b8_row9_col19\" class=\"data row9 col19\" >-0.003406</td>\n",
              "    </tr>\n",
              "    <tr>\n",
              "      <th id=\"T_d79b8_level0_row10\" class=\"row_heading level0 row10\" >grade</th>\n",
              "      <td id=\"T_d79b8_row10_col0\" class=\"data row10 col0\" >0.008130</td>\n",
              "      <td id=\"T_d79b8_row10_col1\" class=\"data row10 col1\" >0.667434</td>\n",
              "      <td id=\"T_d79b8_row10_col2\" class=\"data row10 col2\" >0.356967</td>\n",
              "      <td id=\"T_d79b8_row10_col3\" class=\"data row10 col3\" >0.664983</td>\n",
              "      <td id=\"T_d79b8_row10_col4\" class=\"data row10 col4\" >0.762704</td>\n",
              "      <td id=\"T_d79b8_row10_col5\" class=\"data row10 col5\" >0.113621</td>\n",
              "      <td id=\"T_d79b8_row10_col6\" class=\"data row10 col6\" >0.458183</td>\n",
              "      <td id=\"T_d79b8_row10_col7\" class=\"data row10 col7\" >0.082775</td>\n",
              "      <td id=\"T_d79b8_row10_col8\" class=\"data row10 col8\" >0.251321</td>\n",
              "      <td id=\"T_d79b8_row10_col9\" class=\"data row10 col9\" >-0.144674</td>\n",
              "      <td id=\"T_d79b8_row10_col10\" class=\"data row10 col10\" >1.000000</td>\n",
              "      <td id=\"T_d79b8_row10_col11\" class=\"data row10 col11\" >0.755923</td>\n",
              "      <td id=\"T_d79b8_row10_col12\" class=\"data row10 col12\" >0.168392</td>\n",
              "      <td id=\"T_d79b8_row10_col13\" class=\"data row10 col13\" >0.446963</td>\n",
              "      <td id=\"T_d79b8_row10_col14\" class=\"data row10 col14\" >0.014414</td>\n",
              "      <td id=\"T_d79b8_row10_col15\" class=\"data row10 col15\" >-0.184862</td>\n",
              "      <td id=\"T_d79b8_row10_col16\" class=\"data row10 col16\" >0.114084</td>\n",
              "      <td id=\"T_d79b8_row10_col17\" class=\"data row10 col17\" >0.198372</td>\n",
              "      <td id=\"T_d79b8_row10_col18\" class=\"data row10 col18\" >0.713202</td>\n",
              "      <td id=\"T_d79b8_row10_col19\" class=\"data row10 col19\" >0.119248</td>\n",
              "    </tr>\n",
              "    <tr>\n",
              "      <th id=\"T_d79b8_level0_row11\" class=\"row_heading level0 row11\" >sqft_above</th>\n",
              "      <td id=\"T_d79b8_row11_col0\" class=\"data row11 col0\" >-0.010842</td>\n",
              "      <td id=\"T_d79b8_row11_col1\" class=\"data row11 col1\" >0.605567</td>\n",
              "      <td id=\"T_d79b8_row11_col2\" class=\"data row11 col2\" >0.477600</td>\n",
              "      <td id=\"T_d79b8_row11_col3\" class=\"data row11 col3\" >0.685342</td>\n",
              "      <td id=\"T_d79b8_row11_col4\" class=\"data row11 col4\" >0.876597</td>\n",
              "      <td id=\"T_d79b8_row11_col5\" class=\"data row11 col5\" >0.183512</td>\n",
              "      <td id=\"T_d79b8_row11_col6\" class=\"data row11 col6\" >0.523885</td>\n",
              "      <td id=\"T_d79b8_row11_col7\" class=\"data row11 col7\" >0.072075</td>\n",
              "      <td id=\"T_d79b8_row11_col8\" class=\"data row11 col8\" >0.167649</td>\n",
              "      <td id=\"T_d79b8_row11_col9\" class=\"data row11 col9\" >-0.158214</td>\n",
              "      <td id=\"T_d79b8_row11_col10\" class=\"data row11 col10\" >0.755923</td>\n",
              "      <td id=\"T_d79b8_row11_col11\" class=\"data row11 col11\" >1.000000</td>\n",
              "      <td id=\"T_d79b8_row11_col12\" class=\"data row11 col12\" >-0.051943</td>\n",
              "      <td id=\"T_d79b8_row11_col13\" class=\"data row11 col13\" >0.423898</td>\n",
              "      <td id=\"T_d79b8_row11_col14\" class=\"data row11 col14\" >0.023285</td>\n",
              "      <td id=\"T_d79b8_row11_col15\" class=\"data row11 col15\" >-0.261190</td>\n",
              "      <td id=\"T_d79b8_row11_col16\" class=\"data row11 col16\" >-0.000816</td>\n",
              "      <td id=\"T_d79b8_row11_col17\" class=\"data row11 col17\" >0.343803</td>\n",
              "      <td id=\"T_d79b8_row11_col18\" class=\"data row11 col18\" >0.731870</td>\n",
              "      <td id=\"T_d79b8_row11_col19\" class=\"data row11 col19\" >0.194050</td>\n",
              "    </tr>\n",
              "    <tr>\n",
              "      <th id=\"T_d79b8_level0_row12\" class=\"row_heading level0 row12\" >sqft_basement</th>\n",
              "      <td id=\"T_d79b8_row12_col0\" class=\"data row12 col0\" >-0.005151</td>\n",
              "      <td id=\"T_d79b8_row12_col1\" class=\"data row12 col1\" >0.323816</td>\n",
              "      <td id=\"T_d79b8_row12_col2\" class=\"data row12 col2\" >0.303093</td>\n",
              "      <td id=\"T_d79b8_row12_col3\" class=\"data row12 col3\" >0.283770</td>\n",
              "      <td id=\"T_d79b8_row12_col4\" class=\"data row12 col4\" >0.435043</td>\n",
              "      <td id=\"T_d79b8_row12_col5\" class=\"data row12 col5\" >0.015286</td>\n",
              "      <td id=\"T_d79b8_row12_col6\" class=\"data row12 col6\" >-0.245705</td>\n",
              "      <td id=\"T_d79b8_row12_col7\" class=\"data row12 col7\" >0.080588</td>\n",
              "      <td id=\"T_d79b8_row12_col8\" class=\"data row12 col8\" >0.276947</td>\n",
              "      <td id=\"T_d79b8_row12_col9\" class=\"data row12 col9\" >0.174105</td>\n",
              "      <td id=\"T_d79b8_row12_col10\" class=\"data row12 col10\" >0.168392</td>\n",
              "      <td id=\"T_d79b8_row12_col11\" class=\"data row12 col11\" >-0.051943</td>\n",
              "      <td id=\"T_d79b8_row12_col12\" class=\"data row12 col12\" >1.000000</td>\n",
              "      <td id=\"T_d79b8_row12_col13\" class=\"data row12 col13\" >-0.133124</td>\n",
              "      <td id=\"T_d79b8_row12_col14\" class=\"data row12 col14\" >0.071323</td>\n",
              "      <td id=\"T_d79b8_row12_col15\" class=\"data row12 col15\" >0.074845</td>\n",
              "      <td id=\"T_d79b8_row12_col16\" class=\"data row12 col16\" >0.110538</td>\n",
              "      <td id=\"T_d79b8_row12_col17\" class=\"data row12 col17\" >-0.144765</td>\n",
              "      <td id=\"T_d79b8_row12_col18\" class=\"data row12 col18\" >0.200355</td>\n",
              "      <td id=\"T_d79b8_row12_col19\" class=\"data row12 col19\" >0.017276</td>\n",
              "    </tr>\n",
              "    <tr>\n",
              "      <th id=\"T_d79b8_level0_row13\" class=\"row_heading level0 row13\" >yr_built</th>\n",
              "      <td id=\"T_d79b8_row13_col0\" class=\"data row13 col0\" >0.021380</td>\n",
              "      <td id=\"T_d79b8_row13_col1\" class=\"data row13 col1\" >0.054012</td>\n",
              "      <td id=\"T_d79b8_row13_col2\" class=\"data row13 col2\" >0.154178</td>\n",
              "      <td id=\"T_d79b8_row13_col3\" class=\"data row13 col3\" >0.506019</td>\n",
              "      <td id=\"T_d79b8_row13_col4\" class=\"data row13 col4\" >0.318049</td>\n",
              "      <td id=\"T_d79b8_row13_col5\" class=\"data row13 col5\" >0.053080</td>\n",
              "      <td id=\"T_d79b8_row13_col6\" class=\"data row13 col6\" >0.489319</td>\n",
              "      <td id=\"T_d79b8_row13_col7\" class=\"data row13 col7\" >-0.026161</td>\n",
              "      <td id=\"T_d79b8_row13_col8\" class=\"data row13 col8\" >-0.053440</td>\n",
              "      <td id=\"T_d79b8_row13_col9\" class=\"data row13 col9\" >-0.361417</td>\n",
              "      <td id=\"T_d79b8_row13_col10\" class=\"data row13 col10\" >0.446963</td>\n",
              "      <td id=\"T_d79b8_row13_col11\" class=\"data row13 col11\" >0.423898</td>\n",
              "      <td id=\"T_d79b8_row13_col12\" class=\"data row13 col12\" >-0.133124</td>\n",
              "      <td id=\"T_d79b8_row13_col13\" class=\"data row13 col13\" >1.000000</td>\n",
              "      <td id=\"T_d79b8_row13_col14\" class=\"data row13 col14\" >-0.224874</td>\n",
              "      <td id=\"T_d79b8_row13_col15\" class=\"data row13 col15\" >-0.346869</td>\n",
              "      <td id=\"T_d79b8_row13_col16\" class=\"data row13 col16\" >-0.148122</td>\n",
              "      <td id=\"T_d79b8_row13_col17\" class=\"data row13 col17\" >0.409356</td>\n",
              "      <td id=\"T_d79b8_row13_col18\" class=\"data row13 col18\" >0.326229</td>\n",
              "      <td id=\"T_d79b8_row13_col19\" class=\"data row13 col19\" >0.070958</td>\n",
              "    </tr>\n",
              "    <tr>\n",
              "      <th id=\"T_d79b8_level0_row14\" class=\"row_heading level0 row14\" >yr_renovated</th>\n",
              "      <td id=\"T_d79b8_row14_col0\" class=\"data row14 col0\" >-0.016907</td>\n",
              "      <td id=\"T_d79b8_row14_col1\" class=\"data row14 col1\" >0.126434</td>\n",
              "      <td id=\"T_d79b8_row14_col2\" class=\"data row14 col2\" >0.018841</td>\n",
              "      <td id=\"T_d79b8_row14_col3\" class=\"data row14 col3\" >0.050739</td>\n",
              "      <td id=\"T_d79b8_row14_col4\" class=\"data row14 col4\" >0.055363</td>\n",
              "      <td id=\"T_d79b8_row14_col5\" class=\"data row14 col5\" >0.007644</td>\n",
              "      <td id=\"T_d79b8_row14_col6\" class=\"data row14 col6\" >0.006338</td>\n",
              "      <td id=\"T_d79b8_row14_col7\" class=\"data row14 col7\" >0.092885</td>\n",
              "      <td id=\"T_d79b8_row14_col8\" class=\"data row14 col8\" >0.103917</td>\n",
              "      <td id=\"T_d79b8_row14_col9\" class=\"data row14 col9\" >-0.060618</td>\n",
              "      <td id=\"T_d79b8_row14_col10\" class=\"data row14 col10\" >0.014414</td>\n",
              "      <td id=\"T_d79b8_row14_col11\" class=\"data row14 col11\" >0.023285</td>\n",
              "      <td id=\"T_d79b8_row14_col12\" class=\"data row14 col12\" >0.071323</td>\n",
              "      <td id=\"T_d79b8_row14_col13\" class=\"data row14 col13\" >-0.224874</td>\n",
              "      <td id=\"T_d79b8_row14_col14\" class=\"data row14 col14\" >1.000000</td>\n",
              "      <td id=\"T_d79b8_row14_col15\" class=\"data row14 col15\" >0.064357</td>\n",
              "      <td id=\"T_d79b8_row14_col16\" class=\"data row14 col16\" >0.029398</td>\n",
              "      <td id=\"T_d79b8_row14_col17\" class=\"data row14 col17\" >-0.068372</td>\n",
              "      <td id=\"T_d79b8_row14_col18\" class=\"data row14 col18\" >-0.002673</td>\n",
              "      <td id=\"T_d79b8_row14_col19\" class=\"data row14 col19\" >0.007854</td>\n",
              "    </tr>\n",
              "    <tr>\n",
              "      <th id=\"T_d79b8_level0_row15\" class=\"row_heading level0 row15\" >zipcode</th>\n",
              "      <td id=\"T_d79b8_row15_col0\" class=\"data row15 col0\" >-0.008224</td>\n",
              "      <td id=\"T_d79b8_row15_col1\" class=\"data row15 col1\" >-0.053203</td>\n",
              "      <td id=\"T_d79b8_row15_col2\" class=\"data row15 col2\" >-0.152668</td>\n",
              "      <td id=\"T_d79b8_row15_col3\" class=\"data row15 col3\" >-0.203866</td>\n",
              "      <td id=\"T_d79b8_row15_col4\" class=\"data row15 col4\" >-0.199430</td>\n",
              "      <td id=\"T_d79b8_row15_col5\" class=\"data row15 col5\" >-0.129574</td>\n",
              "      <td id=\"T_d79b8_row15_col6\" class=\"data row15 col6\" >-0.059121</td>\n",
              "      <td id=\"T_d79b8_row15_col7\" class=\"data row15 col7\" >0.030285</td>\n",
              "      <td id=\"T_d79b8_row15_col8\" class=\"data row15 col8\" >0.084827</td>\n",
              "      <td id=\"T_d79b8_row15_col9\" class=\"data row15 col9\" >0.003026</td>\n",
              "      <td id=\"T_d79b8_row15_col10\" class=\"data row15 col10\" >-0.184862</td>\n",
              "      <td id=\"T_d79b8_row15_col11\" class=\"data row15 col11\" >-0.261190</td>\n",
              "      <td id=\"T_d79b8_row15_col12\" class=\"data row15 col12\" >0.074845</td>\n",
              "      <td id=\"T_d79b8_row15_col13\" class=\"data row15 col13\" >-0.346869</td>\n",
              "      <td id=\"T_d79b8_row15_col14\" class=\"data row15 col14\" >0.064357</td>\n",
              "      <td id=\"T_d79b8_row15_col15\" class=\"data row15 col15\" >1.000000</td>\n",
              "      <td id=\"T_d79b8_row15_col16\" class=\"data row15 col16\" >0.267048</td>\n",
              "      <td id=\"T_d79b8_row15_col17\" class=\"data row15 col17\" >-0.564072</td>\n",
              "      <td id=\"T_d79b8_row15_col18\" class=\"data row15 col18\" >-0.279033</td>\n",
              "      <td id=\"T_d79b8_row15_col19\" class=\"data row15 col19\" >-0.147221</td>\n",
              "    </tr>\n",
              "    <tr>\n",
              "      <th id=\"T_d79b8_level0_row16\" class=\"row_heading level0 row16\" >lat</th>\n",
              "      <td id=\"T_d79b8_row16_col0\" class=\"data row16 col0\" >-0.001891</td>\n",
              "      <td id=\"T_d79b8_row16_col1\" class=\"data row16 col1\" >0.307003</td>\n",
              "      <td id=\"T_d79b8_row16_col2\" class=\"data row16 col2\" >-0.008931</td>\n",
              "      <td id=\"T_d79b8_row16_col3\" class=\"data row16 col3\" >0.024573</td>\n",
              "      <td id=\"T_d79b8_row16_col4\" class=\"data row16 col4\" >0.052529</td>\n",
              "      <td id=\"T_d79b8_row16_col5\" class=\"data row16 col5\" >-0.085683</td>\n",
              "      <td id=\"T_d79b8_row16_col6\" class=\"data row16 col6\" >0.049614</td>\n",
              "      <td id=\"T_d79b8_row16_col7\" class=\"data row16 col7\" >-0.014274</td>\n",
              "      <td id=\"T_d79b8_row16_col8\" class=\"data row16 col8\" >0.006157</td>\n",
              "      <td id=\"T_d79b8_row16_col9\" class=\"data row16 col9\" >-0.014941</td>\n",
              "      <td id=\"T_d79b8_row16_col10\" class=\"data row16 col10\" >0.114084</td>\n",
              "      <td id=\"T_d79b8_row16_col11\" class=\"data row16 col11\" >-0.000816</td>\n",
              "      <td id=\"T_d79b8_row16_col12\" class=\"data row16 col12\" >0.110538</td>\n",
              "      <td id=\"T_d79b8_row16_col13\" class=\"data row16 col13\" >-0.148122</td>\n",
              "      <td id=\"T_d79b8_row16_col14\" class=\"data row16 col14\" >0.029398</td>\n",
              "      <td id=\"T_d79b8_row16_col15\" class=\"data row16 col15\" >0.267048</td>\n",
              "      <td id=\"T_d79b8_row16_col16\" class=\"data row16 col16\" >1.000000</td>\n",
              "      <td id=\"T_d79b8_row16_col17\" class=\"data row16 col17\" >-0.135512</td>\n",
              "      <td id=\"T_d79b8_row16_col18\" class=\"data row16 col18\" >0.048858</td>\n",
              "      <td id=\"T_d79b8_row16_col19\" class=\"data row16 col19\" >-0.086419</td>\n",
              "    </tr>\n",
              "    <tr>\n",
              "      <th id=\"T_d79b8_level0_row17\" class=\"row_heading level0 row17\" >long</th>\n",
              "      <td id=\"T_d79b8_row17_col0\" class=\"data row17 col0\" >0.020799</td>\n",
              "      <td id=\"T_d79b8_row17_col1\" class=\"data row17 col1\" >0.021626</td>\n",
              "      <td id=\"T_d79b8_row17_col2\" class=\"data row17 col2\" >0.129473</td>\n",
              "      <td id=\"T_d79b8_row17_col3\" class=\"data row17 col3\" >0.223042</td>\n",
              "      <td id=\"T_d79b8_row17_col4\" class=\"data row17 col4\" >0.240223</td>\n",
              "      <td id=\"T_d79b8_row17_col5\" class=\"data row17 col5\" >0.229521</td>\n",
              "      <td id=\"T_d79b8_row17_col6\" class=\"data row17 col6\" >0.125419</td>\n",
              "      <td id=\"T_d79b8_row17_col7\" class=\"data row17 col7\" >-0.041910</td>\n",
              "      <td id=\"T_d79b8_row17_col8\" class=\"data row17 col8\" >-0.078400</td>\n",
              "      <td id=\"T_d79b8_row17_col9\" class=\"data row17 col9\" >-0.106500</td>\n",
              "      <td id=\"T_d79b8_row17_col10\" class=\"data row17 col10\" >0.198372</td>\n",
              "      <td id=\"T_d79b8_row17_col11\" class=\"data row17 col11\" >0.343803</td>\n",
              "      <td id=\"T_d79b8_row17_col12\" class=\"data row17 col12\" >-0.144765</td>\n",
              "      <td id=\"T_d79b8_row17_col13\" class=\"data row17 col13\" >0.409356</td>\n",
              "      <td id=\"T_d79b8_row17_col14\" class=\"data row17 col14\" >-0.068372</td>\n",
              "      <td id=\"T_d79b8_row17_col15\" class=\"data row17 col15\" >-0.564072</td>\n",
              "      <td id=\"T_d79b8_row17_col16\" class=\"data row17 col16\" >-0.135512</td>\n",
              "      <td id=\"T_d79b8_row17_col17\" class=\"data row17 col17\" >1.000000</td>\n",
              "      <td id=\"T_d79b8_row17_col18\" class=\"data row17 col18\" >0.334605</td>\n",
              "      <td id=\"T_d79b8_row17_col19\" class=\"data row17 col19\" >0.254451</td>\n",
              "    </tr>\n",
              "    <tr>\n",
              "      <th id=\"T_d79b8_level0_row18\" class=\"row_heading level0 row18\" >sqft_living15</th>\n",
              "      <td id=\"T_d79b8_row18_col0\" class=\"data row18 col0\" >-0.002901</td>\n",
              "      <td id=\"T_d79b8_row18_col1\" class=\"data row18 col1\" >0.585379</td>\n",
              "      <td id=\"T_d79b8_row18_col2\" class=\"data row18 col2\" >0.391638</td>\n",
              "      <td id=\"T_d79b8_row18_col3\" class=\"data row18 col3\" >0.568634</td>\n",
              "      <td id=\"T_d79b8_row18_col4\" class=\"data row18 col4\" >0.756420</td>\n",
              "      <td id=\"T_d79b8_row18_col5\" class=\"data row18 col5\" >0.144608</td>\n",
              "      <td id=\"T_d79b8_row18_col6\" class=\"data row18 col6\" >0.279885</td>\n",
              "      <td id=\"T_d79b8_row18_col7\" class=\"data row18 col7\" >0.086463</td>\n",
              "      <td id=\"T_d79b8_row18_col8\" class=\"data row18 col8\" >0.280439</td>\n",
              "      <td id=\"T_d79b8_row18_col9\" class=\"data row18 col9\" >-0.092824</td>\n",
              "      <td id=\"T_d79b8_row18_col10\" class=\"data row18 col10\" >0.713202</td>\n",
              "      <td id=\"T_d79b8_row18_col11\" class=\"data row18 col11\" >0.731870</td>\n",
              "      <td id=\"T_d79b8_row18_col12\" class=\"data row18 col12\" >0.200355</td>\n",
              "      <td id=\"T_d79b8_row18_col13\" class=\"data row18 col13\" >0.326229</td>\n",
              "      <td id=\"T_d79b8_row18_col14\" class=\"data row18 col14\" >-0.002673</td>\n",
              "      <td id=\"T_d79b8_row18_col15\" class=\"data row18 col15\" >-0.279033</td>\n",
              "      <td id=\"T_d79b8_row18_col16\" class=\"data row18 col16\" >0.048858</td>\n",
              "      <td id=\"T_d79b8_row18_col17\" class=\"data row18 col17\" >0.334605</td>\n",
              "      <td id=\"T_d79b8_row18_col18\" class=\"data row18 col18\" >1.000000</td>\n",
              "      <td id=\"T_d79b8_row18_col19\" class=\"data row18 col19\" >0.183192</td>\n",
              "    </tr>\n",
              "    <tr>\n",
              "      <th id=\"T_d79b8_level0_row19\" class=\"row_heading level0 row19\" >sqft_lot15</th>\n",
              "      <td id=\"T_d79b8_row19_col0\" class=\"data row19 col0\" >-0.138798</td>\n",
              "      <td id=\"T_d79b8_row19_col1\" class=\"data row19 col1\" >0.082447</td>\n",
              "      <td id=\"T_d79b8_row19_col2\" class=\"data row19 col2\" >0.029244</td>\n",
              "      <td id=\"T_d79b8_row19_col3\" class=\"data row19 col3\" >0.087175</td>\n",
              "      <td id=\"T_d79b8_row19_col4\" class=\"data row19 col4\" >0.183286</td>\n",
              "      <td id=\"T_d79b8_row19_col5\" class=\"data row19 col5\" >0.718557</td>\n",
              "      <td id=\"T_d79b8_row19_col6\" class=\"data row19 col6\" >-0.011269</td>\n",
              "      <td id=\"T_d79b8_row19_col7\" class=\"data row19 col7\" >0.030703</td>\n",
              "      <td id=\"T_d79b8_row19_col8\" class=\"data row19 col8\" >0.072575</td>\n",
              "      <td id=\"T_d79b8_row19_col9\" class=\"data row19 col9\" >-0.003406</td>\n",
              "      <td id=\"T_d79b8_row19_col10\" class=\"data row19 col10\" >0.119248</td>\n",
              "      <td id=\"T_d79b8_row19_col11\" class=\"data row19 col11\" >0.194050</td>\n",
              "      <td id=\"T_d79b8_row19_col12\" class=\"data row19 col12\" >0.017276</td>\n",
              "      <td id=\"T_d79b8_row19_col13\" class=\"data row19 col13\" >0.070958</td>\n",
              "      <td id=\"T_d79b8_row19_col14\" class=\"data row19 col14\" >0.007854</td>\n",
              "      <td id=\"T_d79b8_row19_col15\" class=\"data row19 col15\" >-0.147221</td>\n",
              "      <td id=\"T_d79b8_row19_col16\" class=\"data row19 col16\" >-0.086419</td>\n",
              "      <td id=\"T_d79b8_row19_col17\" class=\"data row19 col17\" >0.254451</td>\n",
              "      <td id=\"T_d79b8_row19_col18\" class=\"data row19 col18\" >0.183192</td>\n",
              "      <td id=\"T_d79b8_row19_col19\" class=\"data row19 col19\" >1.000000</td>\n",
              "    </tr>\n",
              "  </tbody>\n",
              "</table>\n"
            ]
          },
          "metadata": {},
          "execution_count": 8
        }
      ]
    },
    {
      "cell_type": "code",
      "source": [
        "corr_sort= corr.sort_values(by='price', ascending=False)\n",
        "corr_sort.style.background_gradient(cmap='coolwarm').format(precision=3)"
      ],
      "metadata": {
        "colab": {
          "base_uri": "https://localhost:8080/",
          "height": 696
        },
        "id": "QbDQm6-b0Ipm",
        "outputId": "7faf1534-6c0f-44e3-c6e5-0cb864cf1507"
      },
      "execution_count": 9,
      "outputs": [
        {
          "output_type": "execute_result",
          "data": {
            "text/plain": [
              "<pandas.io.formats.style.Styler at 0x7fd24b88c150>"
            ],
            "text/html": [
              "<style type=\"text/css\">\n",
              "#T_86632_row0_col0, #T_86632_row12_col0, #T_86632_row16_col5 {\n",
              "  background-color: #5b7ae5;\n",
              "  color: #f1f1f1;\n",
              "}\n",
              "#T_86632_row0_col1, #T_86632_row1_col4, #T_86632_row2_col10, #T_86632_row3_col11, #T_86632_row4_col18, #T_86632_row5_col3, #T_86632_row6_col8, #T_86632_row7_col12, #T_86632_row8_col2, #T_86632_row9_col16, #T_86632_row10_col7, #T_86632_row11_col6, #T_86632_row12_col14, #T_86632_row13_col5, #T_86632_row14_col19, #T_86632_row15_col13, #T_86632_row16_col9, #T_86632_row17_col17, #T_86632_row18_col0, #T_86632_row19_col15 {\n",
              "  background-color: #b40426;\n",
              "  color: #f1f1f1;\n",
              "}\n",
              "#T_86632_row0_col2, #T_86632_row12_col15 {\n",
              "  background-color: #c0d4f5;\n",
              "  color: #000000;\n",
              "}\n",
              "#T_86632_row0_col3, #T_86632_row4_col1 {\n",
              "  background-color: #f2c9b4;\n",
              "  color: #000000;\n",
              "}\n",
              "#T_86632_row0_col4, #T_86632_row5_col11, #T_86632_row14_col5 {\n",
              "  background-color: #f4987a;\n",
              "  color: #000000;\n",
              "}\n",
              "#T_86632_row0_col5, #T_86632_row2_col14, #T_86632_row4_col9, #T_86632_row8_col14, #T_86632_row18_col11 {\n",
              "  background-color: #7a9df8;\n",
              "  color: #f1f1f1;\n",
              "}\n",
              "#T_86632_row0_col6 {\n",
              "  background-color: #c4d5f3;\n",
              "  color: #000000;\n",
              "}\n",
              "#T_86632_row0_col7, #T_86632_row11_col1 {\n",
              "  background-color: #9dbdff;\n",
              "  color: #000000;\n",
              "}\n",
              "#T_86632_row0_col8, #T_86632_row8_col12, #T_86632_row11_col17 {\n",
              "  background-color: #ccd9ed;\n",
              "  color: #000000;\n",
              "}\n",
              "#T_86632_row0_col9, #T_86632_row16_col17 {\n",
              "  background-color: #9bbcff;\n",
              "  color: #000000;\n",
              "}\n",
              "#T_86632_row0_col10, #T_86632_row2_col3 {\n",
              "  background-color: #f6a586;\n",
              "  color: #000000;\n",
              "}\n",
              "#T_86632_row0_col11, #T_86632_row2_col1 {\n",
              "  background-color: #f7b194;\n",
              "  color: #000000;\n",
              "}\n",
              "#T_86632_row0_col12, #T_86632_row8_col10 {\n",
              "  background-color: #d2dbe8;\n",
              "  color: #000000;\n",
              "}\n",
              "#T_86632_row0_col13, #T_86632_row2_col8, #T_86632_row17_col6 {\n",
              "  background-color: #a1c0ff;\n",
              "  color: #000000;\n",
              "}\n",
              "#T_86632_row0_col14, #T_86632_row1_col19, #T_86632_row4_col19, #T_86632_row8_col9, #T_86632_row9_col12, #T_86632_row10_col18 {\n",
              "  background-color: #9abbff;\n",
              "  color: #000000;\n",
              "}\n",
              "#T_86632_row0_col15, #T_86632_row6_col3 {\n",
              "  background-color: #a7c5fe;\n",
              "  color: #000000;\n",
              "}\n",
              "#T_86632_row0_col16, #T_86632_row7_col2 {\n",
              "  background-color: #bfd3f6;\n",
              "  color: #000000;\n",
              "}\n",
              "#T_86632_row0_col17, #T_86632_row7_col18, #T_86632_row18_col17 {\n",
              "  background-color: #b7cff9;\n",
              "  color: #000000;\n",
              "}\n",
              "#T_86632_row0_col18 {\n",
              "  background-color: #f7b497;\n",
              "  color: #000000;\n",
              "}\n",
              "#T_86632_row0_col19, #T_86632_row3_col14, #T_86632_row6_col2, #T_86632_row14_col6 {\n",
              "  background-color: #7b9ff9;\n",
              "  color: #f1f1f1;\n",
              "}\n",
              "#T_86632_row1_col0, #T_86632_row3_col0, #T_86632_row3_col7, #T_86632_row11_col5 {\n",
              "  background-color: #5d7ce6;\n",
              "  color: #f1f1f1;\n",
              "}\n",
              "#T_86632_row1_col1, #T_86632_row5_col10 {\n",
              "  background-color: #f7a688;\n",
              "  color: #000000;\n",
              "}\n",
              "#T_86632_row1_col2 {\n",
              "  background-color: #f5c2aa;\n",
              "  color: #000000;\n",
              "}\n",
              "#T_86632_row1_col3, #T_86632_row3_col10, #T_86632_row5_col4 {\n",
              "  background-color: #ee8669;\n",
              "  color: #f1f1f1;\n",
              "}\n",
              "#T_86632_row1_col5, #T_86632_row6_col14, #T_86632_row7_col17, #T_86632_row14_col15, #T_86632_row15_col2, #T_86632_row19_col9 {\n",
              "  background-color: #93b5fe;\n",
              "  color: #000000;\n",
              "}\n",
              "#T_86632_row1_col6 {\n",
              "  background-color: #dadce0;\n",
              "  color: #000000;\n",
              "}\n",
              "#T_86632_row1_col7, #T_86632_row11_col0, #T_86632_row14_col8, #T_86632_row15_col15, #T_86632_row17_col0 {\n",
              "  background-color: #6687ed;\n",
              "  color: #f1f1f1;\n",
              "}\n",
              "#T_86632_row1_col8, #T_86632_row16_col12 {\n",
              "  background-color: #abc8fd;\n",
              "  color: #000000;\n",
              "}\n",
              "#T_86632_row1_col9, #T_86632_row10_col3, #T_86632_row12_col9 {\n",
              "  background-color: #82a6fb;\n",
              "  color: #f1f1f1;\n",
              "}\n",
              "#T_86632_row1_col10, #T_86632_row4_col4 {\n",
              "  background-color: #ee8468;\n",
              "  color: #f1f1f1;\n",
              "}\n",
              "#T_86632_row1_col11 {\n",
              "  background-color: #d65244;\n",
              "  color: #f1f1f1;\n",
              "}\n",
              "#T_86632_row1_col12, #T_86632_row3_col2, #T_86632_row15_col11 {\n",
              "  background-color: #e8d6cc;\n",
              "  color: #000000;\n",
              "}\n",
              "#T_86632_row1_col13 {\n",
              "  background-color: #dcdddd;\n",
              "  color: #000000;\n",
              "}\n",
              "#T_86632_row1_col14, #T_86632_row2_col16, #T_86632_row3_col8, #T_86632_row5_col15, #T_86632_row10_col6 {\n",
              "  background-color: #85a8fc;\n",
              "  color: #f1f1f1;\n",
              "}\n",
              "#T_86632_row1_col15, #T_86632_row2_col19, #T_86632_row6_col6 {\n",
              "  background-color: #86a9fc;\n",
              "  color: #f1f1f1;\n",
              "}\n",
              "#T_86632_row1_col16, #T_86632_row5_col9, #T_86632_row11_col16, #T_86632_row18_col3 {\n",
              "  background-color: #7295f4;\n",
              "  color: #f1f1f1;\n",
              "}\n",
              "#T_86632_row1_col17 {\n",
              "  background-color: #e0dbd8;\n",
              "  color: #000000;\n",
              "}\n",
              "#T_86632_row1_col18 {\n",
              "  background-color: #ec7f63;\n",
              "  color: #f1f1f1;\n",
              "}\n",
              "#T_86632_row2_col0, #T_86632_row6_col0, #T_86632_row7_col5, #T_86632_row12_col7 {\n",
              "  background-color: #6384eb;\n",
              "  color: #f1f1f1;\n",
              "}\n",
              "#T_86632_row2_col2, #T_86632_row8_col17 {\n",
              "  background-color: #cdd9ec;\n",
              "  color: #000000;\n",
              "}\n",
              "#T_86632_row2_col4 {\n",
              "  background-color: #ed8366;\n",
              "  color: #f1f1f1;\n",
              "}\n",
              "#T_86632_row2_col5, #T_86632_row12_col18, #T_86632_row18_col18 {\n",
              "  background-color: #81a4fb;\n",
              "  color: #f1f1f1;\n",
              "}\n",
              "#T_86632_row2_col6 {\n",
              "  background-color: #edd1c2;\n",
              "  color: #000000;\n",
              "}\n",
              "#T_86632_row2_col7, #T_86632_row4_col0, #T_86632_row7_col0, #T_86632_row7_col7, #T_86632_row9_col0, #T_86632_row10_col0, #T_86632_row11_col19, #T_86632_row16_col4 {\n",
              "  background-color: #5f7fe8;\n",
              "  color: #f1f1f1;\n",
              "}\n",
              "#T_86632_row2_col9, #T_86632_row9_col13, #T_86632_row13_col2, #T_86632_row14_col2, #T_86632_row16_col2 {\n",
              "  background-color: #6c8ff1;\n",
              "  color: #f1f1f1;\n",
              "}\n",
              "#T_86632_row2_col11 {\n",
              "  background-color: #ec8165;\n",
              "  color: #f1f1f1;\n",
              "}\n",
              "#T_86632_row2_col12, #T_86632_row4_col8, #T_86632_row10_col17 {\n",
              "  background-color: #aac7fd;\n",
              "  color: #000000;\n",
              "}\n",
              "#T_86632_row2_col13, #T_86632_row15_col6 {\n",
              "  background-color: #f1ccb8;\n",
              "  color: #000000;\n",
              "}\n",
              "#T_86632_row2_col15, #T_86632_row4_col5, #T_86632_row13_col3, #T_86632_row17_col2 {\n",
              "  background-color: #8badfd;\n",
              "  color: #000000;\n",
              "}\n",
              "#T_86632_row2_col17 {\n",
              "  background-color: #d9dce1;\n",
              "  color: #000000;\n",
              "}\n",
              "#T_86632_row2_col18 {\n",
              "  background-color: #f18f71;\n",
              "  color: #f1f1f1;\n",
              "}\n",
              "#T_86632_row3_col1 {\n",
              "  background-color: #f5c4ac;\n",
              "  color: #000000;\n",
              "}\n",
              "#T_86632_row3_col3 {\n",
              "  background-color: #f59d7e;\n",
              "  color: #000000;\n",
              "}\n",
              "#T_86632_row3_col4 {\n",
              "  background-color: #d75445;\n",
              "  color: #f1f1f1;\n",
              "}\n",
              "#T_86632_row3_col5, #T_86632_row10_col9, #T_86632_row13_col15, #T_86632_row18_col13 {\n",
              "  background-color: #97b8ff;\n",
              "  color: #000000;\n",
              "}\n",
              "#T_86632_row3_col6, #T_86632_row11_col11, #T_86632_row11_col13, #T_86632_row15_col17 {\n",
              "  background-color: #f4c5ad;\n",
              "  color: #000000;\n",
              "}\n",
              "#T_86632_row3_col9, #T_86632_row5_col16, #T_86632_row12_col2, #T_86632_row19_col8 {\n",
              "  background-color: #6a8bef;\n",
              "  color: #f1f1f1;\n",
              "}\n",
              "#T_86632_row3_col12, #T_86632_row8_col19, #T_86632_row10_col19, #T_86632_row12_col16, #T_86632_row18_col4 {\n",
              "  background-color: #6b8df0;\n",
              "  color: #f1f1f1;\n",
              "}\n",
              "#T_86632_row3_col13, #T_86632_row4_col17 {\n",
              "  background-color: #eed0c0;\n",
              "  color: #000000;\n",
              "}\n",
              "#T_86632_row3_col15, #T_86632_row5_col5, #T_86632_row6_col19, #T_86632_row18_col12 {\n",
              "  background-color: #799cf8;\n",
              "  color: #f1f1f1;\n",
              "}\n",
              "#T_86632_row3_col16, #T_86632_row5_col0, #T_86632_row10_col2, #T_86632_row14_col1, #T_86632_row16_col19, #T_86632_row17_col14, #T_86632_row18_col16 {\n",
              "  background-color: #6282ea;\n",
              "  color: #f1f1f1;\n",
              "}\n",
              "#T_86632_row3_col17, #T_86632_row5_col2 {\n",
              "  background-color: #efcfbf;\n",
              "  color: #000000;\n",
              "}\n",
              "#T_86632_row3_col18 {\n",
              "  background-color: #ef886b;\n",
              "  color: #f1f1f1;\n",
              "}\n",
              "#T_86632_row3_col19, #T_86632_row6_col9, #T_86632_row7_col10 {\n",
              "  background-color: #9ebeff;\n",
              "  color: #000000;\n",
              "}\n",
              "#T_86632_row4_col2 {\n",
              "  background-color: #d5dbe5;\n",
              "  color: #000000;\n",
              "}\n",
              "#T_86632_row4_col3 {\n",
              "  background-color: #f6bfa6;\n",
              "  color: #000000;\n",
              "}\n",
              "#T_86632_row4_col6, #T_86632_row15_col4 {\n",
              "  background-color: #cad8ef;\n",
              "  color: #000000;\n",
              "}\n",
              "#T_86632_row4_col7, #T_86632_row8_col0, #T_86632_row8_col16, #T_86632_row9_col2, #T_86632_row12_col5 {\n",
              "  background-color: #6180e9;\n",
              "  color: #f1f1f1;\n",
              "}\n",
              "#T_86632_row4_col10 {\n",
              "  background-color: #f39577;\n",
              "  color: #000000;\n",
              "}\n",
              "#T_86632_row4_col11 {\n",
              "  background-color: #f08a6c;\n",
              "  color: #f1f1f1;\n",
              "}\n",
              "#T_86632_row4_col12, #T_86632_row7_col1 {\n",
              "  background-color: #b2ccfb;\n",
              "  color: #000000;\n",
              "}\n",
              "#T_86632_row4_col13, #T_86632_row13_col17 {\n",
              "  background-color: #dedcdb;\n",
              "  color: #000000;\n",
              "}\n",
              "#T_86632_row4_col14, #T_86632_row4_col15, #T_86632_row6_col5 {\n",
              "  background-color: #7597f6;\n",
              "  color: #f1f1f1;\n",
              "}\n",
              "#T_86632_row4_col16, #T_86632_row12_col1, #T_86632_row12_col8, #T_86632_row12_col10, #T_86632_row18_col14 {\n",
              "  background-color: #7093f3;\n",
              "  color: #f1f1f1;\n",
              "}\n",
              "#T_86632_row5_col1 {\n",
              "  background-color: #e9d5cb;\n",
              "  color: #000000;\n",
              "}\n",
              "#T_86632_row5_col6 {\n",
              "  background-color: #f2cab5;\n",
              "  color: #000000;\n",
              "}\n",
              "#T_86632_row5_col7, #T_86632_row11_col8, #T_86632_row12_col13, #T_86632_row16_col0 {\n",
              "  background-color: #5977e3;\n",
              "  color: #f1f1f1;\n",
              "}\n",
              "#T_86632_row5_col8, #T_86632_row9_col6, #T_86632_row10_col13, #T_86632_row18_col9 {\n",
              "  background-color: #8caffe;\n",
              "  color: #000000;\n",
              "}\n",
              "#T_86632_row5_col12 {\n",
              "  background-color: #c7d7f0;\n",
              "  color: #000000;\n",
              "}\n",
              "#T_86632_row5_col13 {\n",
              "  background-color: #f5c0a7;\n",
              "  color: #000000;\n",
              "}\n",
              "#T_86632_row5_col14, #T_86632_row6_col13, #T_86632_row7_col16, #T_86632_row10_col10, #T_86632_row12_col11, #T_86632_row18_col6 {\n",
              "  background-color: #84a7fc;\n",
              "  color: #f1f1f1;\n",
              "}\n",
              "#T_86632_row5_col17 {\n",
              "  background-color: #dddcdc;\n",
              "  color: #000000;\n",
              "}\n",
              "#T_86632_row5_col18 {\n",
              "  background-color: #f7b99e;\n",
              "  color: #000000;\n",
              "}\n",
              "#T_86632_row5_col19, #T_86632_row9_col11, #T_86632_row13_col6 {\n",
              "  background-color: #7da0f9;\n",
              "  color: #f1f1f1;\n",
              "}\n",
              "#T_86632_row6_col1, #T_86632_row6_col7 {\n",
              "  background-color: #c9d7f0;\n",
              "  color: #000000;\n",
              "}\n",
              "#T_86632_row6_col4, #T_86632_row7_col3 {\n",
              "  background-color: #c1d4f4;\n",
              "  color: #000000;\n",
              "}\n",
              "#T_86632_row6_col10 {\n",
              "  background-color: #b6cefa;\n",
              "  color: #000000;\n",
              "}\n",
              "#T_86632_row6_col11, #T_86632_row8_col1, #T_86632_row9_col1 {\n",
              "  background-color: #adc9fd;\n",
              "  color: #000000;\n",
              "}\n",
              "#T_86632_row6_col12 {\n",
              "  background-color: #c6d6f1;\n",
              "  color: #000000;\n",
              "}\n",
              "#T_86632_row6_col15 {\n",
              "  background-color: #c5d6f2;\n",
              "  color: #000000;\n",
              "}\n",
              "#T_86632_row6_col16, #T_86632_row10_col5, #T_86632_row12_col19, #T_86632_row13_col1, #T_86632_row16_col14, #T_86632_row18_col2 {\n",
              "  background-color: #6485ec;\n",
              "  color: #f1f1f1;\n",
              "}\n",
              "#T_86632_row6_col17, #T_86632_row13_col4 {\n",
              "  background-color: #a2c1ff;\n",
              "  color: #000000;\n",
              "}\n",
              "#T_86632_row6_col18, #T_86632_row11_col18 {\n",
              "  background-color: #cbd8ee;\n",
              "  color: #000000;\n",
              "}\n",
              "#T_86632_row7_col4 {\n",
              "  background-color: #e4d9d2;\n",
              "  color: #000000;\n",
              "}\n",
              "#T_86632_row7_col6, #T_86632_row15_col7 {\n",
              "  background-color: #3e51c5;\n",
              "  color: #f1f1f1;\n",
              "}\n",
              "#T_86632_row7_col8, #T_86632_row13_col18 {\n",
              "  background-color: #a9c6fd;\n",
              "  color: #000000;\n",
              "}\n",
              "#T_86632_row7_col9 {\n",
              "  background-color: #bed2f6;\n",
              "  color: #000000;\n",
              "}\n",
              "#T_86632_row7_col11, #T_86632_row7_col13 {\n",
              "  background-color: #6f92f3;\n",
              "  color: #f1f1f1;\n",
              "}\n",
              "#T_86632_row7_col14, #T_86632_row14_col3 {\n",
              "  background-color: #89acfd;\n",
              "  color: #000000;\n",
              "}\n",
              "#T_86632_row7_col15 {\n",
              "  background-color: #c3d5f4;\n",
              "  color: #000000;\n",
              "}\n",
              "#T_86632_row7_col19, #T_86632_row13_col8, #T_86632_row15_col0 {\n",
              "  background-color: #6788ee;\n",
              "  color: #f1f1f1;\n",
              "}\n",
              "#T_86632_row8_col3 {\n",
              "  background-color: #f2cbb7;\n",
              "  color: #000000;\n",
              "}\n",
              "#T_86632_row8_col4 {\n",
              "  background-color: #f6bea4;\n",
              "  color: #000000;\n",
              "}\n",
              "#T_86632_row8_col5, #T_86632_row8_col8, #T_86632_row16_col18 {\n",
              "  background-color: #688aef;\n",
              "  color: #f1f1f1;\n",
              "}\n",
              "#T_86632_row8_col6 {\n",
              "  background-color: #aec9fc;\n",
              "  color: #000000;\n",
              "}\n",
              "#T_86632_row8_col7, #T_86632_row16_col10, #T_86632_row18_col1 {\n",
              "  background-color: #445acc;\n",
              "  color: #f1f1f1;\n",
              "}\n",
              "#T_86632_row8_col11, #T_86632_row11_col3 {\n",
              "  background-color: #efcebd;\n",
              "  color: #000000;\n",
              "}\n",
              "#T_86632_row8_col13 {\n",
              "  background-color: #b9d0f9;\n",
              "  color: #000000;\n",
              "}\n",
              "#T_86632_row8_col15, #T_86632_row10_col11, #T_86632_row10_col12, #T_86632_row14_col9 {\n",
              "  background-color: #92b4fe;\n",
              "  color: #000000;\n",
              "}\n",
              "#T_86632_row8_col18 {\n",
              "  background-color: #e3d9d3;\n",
              "  color: #000000;\n",
              "}\n",
              "#T_86632_row9_col3, #T_86632_row11_col14, #T_86632_row13_col14, #T_86632_row14_col14, #T_86632_row15_col19 {\n",
              "  background-color: #779af7;\n",
              "  color: #f1f1f1;\n",
              "}\n",
              "#T_86632_row9_col4, #T_86632_row9_col14, #T_86632_row13_col12 {\n",
              "  background-color: #7ea1fa;\n",
              "  color: #f1f1f1;\n",
              "}\n",
              "#T_86632_row9_col5 {\n",
              "  background-color: #465ecf;\n",
              "  color: #f1f1f1;\n",
              "}\n",
              "#T_86632_row9_col7 {\n",
              "  background-color: #4257c9;\n",
              "  color: #f1f1f1;\n",
              "}\n",
              "#T_86632_row9_col8, #T_86632_row16_col11, #T_86632_row17_col12 {\n",
              "  background-color: #536edd;\n",
              "  color: #f1f1f1;\n",
              "}\n",
              "#T_86632_row9_col9, #T_86632_row9_col18, #T_86632_row12_col12, #T_86632_row14_col10, #T_86632_row19_col12 {\n",
              "  background-color: #8fb1fe;\n",
              "  color: #000000;\n",
              "}\n",
              "#T_86632_row9_col10, #T_86632_row10_col4, #T_86632_row13_col10 {\n",
              "  background-color: #8db0fe;\n",
              "  color: #000000;\n",
              "}\n",
              "#T_86632_row9_col15, #T_86632_row15_col10 {\n",
              "  background-color: #e5d8d1;\n",
              "  color: #000000;\n",
              "}\n",
              "#T_86632_row9_col17 {\n",
              "  background-color: #96b7ff;\n",
              "  color: #000000;\n",
              "}\n",
              "#T_86632_row9_col19, #T_86632_row13_col16, #T_86632_row14_col16 {\n",
              "  background-color: #4a63d3;\n",
              "  color: #f1f1f1;\n",
              "}\n",
              "#T_86632_row10_col1, #T_86632_row13_col13 {\n",
              "  background-color: #9fbfff;\n",
              "  color: #000000;\n",
              "}\n",
              "#T_86632_row10_col8 {\n",
              "  background-color: #cedaeb;\n",
              "  color: #000000;\n",
              "}\n",
              "#T_86632_row10_col14, #T_86632_row13_col9 {\n",
              "  background-color: #90b2fe;\n",
              "  color: #000000;\n",
              "}\n",
              "#T_86632_row10_col15 {\n",
              "  background-color: #bad0f8;\n",
              "  color: #000000;\n",
              "}\n",
              "#T_86632_row10_col16, #T_86632_row16_col8, #T_86632_row16_col16, #T_86632_row19_col0 {\n",
              "  background-color: #5e7de7;\n",
              "  color: #f1f1f1;\n",
              "}\n",
              "#T_86632_row11_col2 {\n",
              "  background-color: #98b9ff;\n",
              "  color: #000000;\n",
              "}\n",
              "#T_86632_row11_col4 {\n",
              "  background-color: #d3dbe7;\n",
              "  color: #000000;\n",
              "}\n",
              "#T_86632_row11_col7, #T_86632_row16_col3 {\n",
              "  background-color: #4e68d8;\n",
              "  color: #f1f1f1;\n",
              "}\n",
              "#T_86632_row11_col9, #T_86632_row17_col1 {\n",
              "  background-color: #506bda;\n",
              "  color: #f1f1f1;\n",
              "}\n",
              "#T_86632_row11_col10 {\n",
              "  background-color: #e7d7ce;\n",
              "  color: #000000;\n",
              "}\n",
              "#T_86632_row11_col12, #T_86632_row14_col0, #T_86632_row15_col9, #T_86632_row15_col14, #T_86632_row15_col16, #T_86632_row16_col6, #T_86632_row16_col13, #T_86632_row17_col7, #T_86632_row17_col8, #T_86632_row17_col15, #T_86632_row18_col5, #T_86632_row19_col1, #T_86632_row19_col2, #T_86632_row19_col3, #T_86632_row19_col4, #T_86632_row19_col5, #T_86632_row19_col10, #T_86632_row19_col11, #T_86632_row19_col17, #T_86632_row19_col18, #T_86632_row19_col19 {\n",
              "  background-color: #3b4cc0;\n",
              "  color: #f1f1f1;\n",
              "}\n",
              "#T_86632_row11_col15, #T_86632_row17_col10 {\n",
              "  background-color: #a6c4fe;\n",
              "  color: #000000;\n",
              "}\n",
              "#T_86632_row12_col3, #T_86632_row12_col4, #T_86632_row12_col6, #T_86632_row14_col12 {\n",
              "  background-color: #80a3fa;\n",
              "  color: #f1f1f1;\n",
              "}\n",
              "#T_86632_row12_col17, #T_86632_row14_col4, #T_86632_row14_col13, #T_86632_row17_col5 {\n",
              "  background-color: #a5c3fe;\n",
              "  color: #000000;\n",
              "}\n",
              "#T_86632_row13_col0, #T_86632_row18_col19 {\n",
              "  background-color: #3c4ec2;\n",
              "  color: #f1f1f1;\n",
              "}\n",
              "#T_86632_row13_col7 {\n",
              "  background-color: #4c66d6;\n",
              "  color: #f1f1f1;\n",
              "}\n",
              "#T_86632_row13_col11, #T_86632_row17_col3, #T_86632_row18_col15 {\n",
              "  background-color: #b1cbfc;\n",
              "  color: #000000;\n",
              "}\n",
              "#T_86632_row13_col19 {\n",
              "  background-color: #f39778;\n",
              "  color: #000000;\n",
              "}\n",
              "#T_86632_row14_col7, #T_86632_row19_col7 {\n",
              "  background-color: #4f69d9;\n",
              "  color: #f1f1f1;\n",
              "}\n",
              "#T_86632_row14_col11, #T_86632_row14_col18, #T_86632_row16_col15, #T_86632_row19_col16 {\n",
              "  background-color: #b3cdfb;\n",
              "  color: #000000;\n",
              "}\n",
              "#T_86632_row14_col17 {\n",
              "  background-color: #e2dad5;\n",
              "  color: #000000;\n",
              "}\n",
              "#T_86632_row15_col1 {\n",
              "  background-color: #5a78e4;\n",
              "  color: #f1f1f1;\n",
              "}\n",
              "#T_86632_row15_col3 {\n",
              "  background-color: #f0cdbb;\n",
              "  color: #000000;\n",
              "}\n",
              "#T_86632_row15_col5, #T_86632_row18_col10, #T_86632_row19_col6 {\n",
              "  background-color: #6e90f2;\n",
              "  color: #f1f1f1;\n",
              "}\n",
              "#T_86632_row15_col8 {\n",
              "  background-color: #4055c8;\n",
              "  color: #f1f1f1;\n",
              "}\n",
              "#T_86632_row15_col12 {\n",
              "  background-color: #5673e0;\n",
              "  color: #f1f1f1;\n",
              "}\n",
              "#T_86632_row15_col18 {\n",
              "  background-color: #d6dce4;\n",
              "  color: #000000;\n",
              "}\n",
              "#T_86632_row16_col1, #T_86632_row18_col8 {\n",
              "  background-color: #5470de;\n",
              "  color: #f1f1f1;\n",
              "}\n",
              "#T_86632_row16_col7 {\n",
              "  background-color: #4b64d5;\n",
              "  color: #f1f1f1;\n",
              "}\n",
              "#T_86632_row17_col4 {\n",
              "  background-color: #b5cdfa;\n",
              "  color: #000000;\n",
              "}\n",
              "#T_86632_row17_col9 {\n",
              "  background-color: #7699f6;\n",
              "  color: #f1f1f1;\n",
              "}\n",
              "#T_86632_row17_col11, #T_86632_row17_col18 {\n",
              "  background-color: #d7dce3;\n",
              "  color: #000000;\n",
              "}\n",
              "#T_86632_row17_col13 {\n",
              "  background-color: #ecd3c5;\n",
              "  color: #000000;\n",
              "}\n",
              "#T_86632_row17_col16, #T_86632_row19_col13 {\n",
              "  background-color: #3d50c3;\n",
              "  color: #f1f1f1;\n",
              "}\n",
              "#T_86632_row17_col19 {\n",
              "  background-color: #afcafc;\n",
              "  color: #000000;\n",
              "}\n",
              "#T_86632_row18_col7 {\n",
              "  background-color: #455cce;\n",
              "  color: #f1f1f1;\n",
              "}\n",
              "#T_86632_row19_col14 {\n",
              "  background-color: #88abfd;\n",
              "  color: #000000;\n",
              "}\n",
              "</style>\n",
              "<table id=\"T_86632_\" class=\"dataframe\">\n",
              "  <thead>\n",
              "    <tr>\n",
              "      <th class=\"blank level0\" >&nbsp;</th>\n",
              "      <th class=\"col_heading level0 col0\" >id</th>\n",
              "      <th class=\"col_heading level0 col1\" >price</th>\n",
              "      <th class=\"col_heading level0 col2\" >bedrooms</th>\n",
              "      <th class=\"col_heading level0 col3\" >bathrooms</th>\n",
              "      <th class=\"col_heading level0 col4\" >sqft_living</th>\n",
              "      <th class=\"col_heading level0 col5\" >sqft_lot</th>\n",
              "      <th class=\"col_heading level0 col6\" >floors</th>\n",
              "      <th class=\"col_heading level0 col7\" >waterfront</th>\n",
              "      <th class=\"col_heading level0 col8\" >view</th>\n",
              "      <th class=\"col_heading level0 col9\" >condition</th>\n",
              "      <th class=\"col_heading level0 col10\" >grade</th>\n",
              "      <th class=\"col_heading level0 col11\" >sqft_above</th>\n",
              "      <th class=\"col_heading level0 col12\" >sqft_basement</th>\n",
              "      <th class=\"col_heading level0 col13\" >yr_built</th>\n",
              "      <th class=\"col_heading level0 col14\" >yr_renovated</th>\n",
              "      <th class=\"col_heading level0 col15\" >zipcode</th>\n",
              "      <th class=\"col_heading level0 col16\" >lat</th>\n",
              "      <th class=\"col_heading level0 col17\" >long</th>\n",
              "      <th class=\"col_heading level0 col18\" >sqft_living15</th>\n",
              "      <th class=\"col_heading level0 col19\" >sqft_lot15</th>\n",
              "    </tr>\n",
              "  </thead>\n",
              "  <tbody>\n",
              "    <tr>\n",
              "      <th id=\"T_86632_level0_row0\" class=\"row_heading level0 row0\" >price</th>\n",
              "      <td id=\"T_86632_row0_col0\" class=\"data row0 col0\" >-0.017</td>\n",
              "      <td id=\"T_86632_row0_col1\" class=\"data row0 col1\" >1.000</td>\n",
              "      <td id=\"T_86632_row0_col2\" class=\"data row0 col2\" >0.308</td>\n",
              "      <td id=\"T_86632_row0_col3\" class=\"data row0 col3\" >0.525</td>\n",
              "      <td id=\"T_86632_row0_col4\" class=\"data row0 col4\" >0.702</td>\n",
              "      <td id=\"T_86632_row0_col5\" class=\"data row0 col5\" >0.090</td>\n",
              "      <td id=\"T_86632_row0_col6\" class=\"data row0 col6\" >0.257</td>\n",
              "      <td id=\"T_86632_row0_col7\" class=\"data row0 col7\" >0.266</td>\n",
              "      <td id=\"T_86632_row0_col8\" class=\"data row0 col8\" >0.397</td>\n",
              "      <td id=\"T_86632_row0_col9\" class=\"data row0 col9\" >0.036</td>\n",
              "      <td id=\"T_86632_row0_col10\" class=\"data row0 col10\" >0.667</td>\n",
              "      <td id=\"T_86632_row0_col11\" class=\"data row0 col11\" >0.606</td>\n",
              "      <td id=\"T_86632_row0_col12\" class=\"data row0 col12\" >0.324</td>\n",
              "      <td id=\"T_86632_row0_col13\" class=\"data row0 col13\" >0.054</td>\n",
              "      <td id=\"T_86632_row0_col14\" class=\"data row0 col14\" >0.126</td>\n",
              "      <td id=\"T_86632_row0_col15\" class=\"data row0 col15\" >-0.053</td>\n",
              "      <td id=\"T_86632_row0_col16\" class=\"data row0 col16\" >0.307</td>\n",
              "      <td id=\"T_86632_row0_col17\" class=\"data row0 col17\" >0.022</td>\n",
              "      <td id=\"T_86632_row0_col18\" class=\"data row0 col18\" >0.585</td>\n",
              "      <td id=\"T_86632_row0_col19\" class=\"data row0 col19\" >0.082</td>\n",
              "    </tr>\n",
              "    <tr>\n",
              "      <th id=\"T_86632_level0_row1\" class=\"row_heading level0 row1\" >sqft_living</th>\n",
              "      <td id=\"T_86632_row1_col0\" class=\"data row1 col0\" >-0.012</td>\n",
              "      <td id=\"T_86632_row1_col1\" class=\"data row1 col1\" >0.702</td>\n",
              "      <td id=\"T_86632_row1_col2\" class=\"data row1 col2\" >0.577</td>\n",
              "      <td id=\"T_86632_row1_col3\" class=\"data row1 col3\" >0.755</td>\n",
              "      <td id=\"T_86632_row1_col4\" class=\"data row1 col4\" >1.000</td>\n",
              "      <td id=\"T_86632_row1_col5\" class=\"data row1 col5\" >0.173</td>\n",
              "      <td id=\"T_86632_row1_col6\" class=\"data row1 col6\" >0.354</td>\n",
              "      <td id=\"T_86632_row1_col7\" class=\"data row1 col7\" >0.104</td>\n",
              "      <td id=\"T_86632_row1_col8\" class=\"data row1 col8\" >0.285</td>\n",
              "      <td id=\"T_86632_row1_col9\" class=\"data row1 col9\" >-0.059</td>\n",
              "      <td id=\"T_86632_row1_col10\" class=\"data row1 col10\" >0.763</td>\n",
              "      <td id=\"T_86632_row1_col11\" class=\"data row1 col11\" >0.877</td>\n",
              "      <td id=\"T_86632_row1_col12\" class=\"data row1 col12\" >0.435</td>\n",
              "      <td id=\"T_86632_row1_col13\" class=\"data row1 col13\" >0.318</td>\n",
              "      <td id=\"T_86632_row1_col14\" class=\"data row1 col14\" >0.055</td>\n",
              "      <td id=\"T_86632_row1_col15\" class=\"data row1 col15\" >-0.199</td>\n",
              "      <td id=\"T_86632_row1_col16\" class=\"data row1 col16\" >0.053</td>\n",
              "      <td id=\"T_86632_row1_col17\" class=\"data row1 col17\" >0.240</td>\n",
              "      <td id=\"T_86632_row1_col18\" class=\"data row1 col18\" >0.756</td>\n",
              "      <td id=\"T_86632_row1_col19\" class=\"data row1 col19\" >0.183</td>\n",
              "    </tr>\n",
              "    <tr>\n",
              "      <th id=\"T_86632_level0_row2\" class=\"row_heading level0 row2\" >grade</th>\n",
              "      <td id=\"T_86632_row2_col0\" class=\"data row2 col0\" >0.008</td>\n",
              "      <td id=\"T_86632_row2_col1\" class=\"data row2 col1\" >0.667</td>\n",
              "      <td id=\"T_86632_row2_col2\" class=\"data row2 col2\" >0.357</td>\n",
              "      <td id=\"T_86632_row2_col3\" class=\"data row2 col3\" >0.665</td>\n",
              "      <td id=\"T_86632_row2_col4\" class=\"data row2 col4\" >0.763</td>\n",
              "      <td id=\"T_86632_row2_col5\" class=\"data row2 col5\" >0.114</td>\n",
              "      <td id=\"T_86632_row2_col6\" class=\"data row2 col6\" >0.458</td>\n",
              "      <td id=\"T_86632_row2_col7\" class=\"data row2 col7\" >0.083</td>\n",
              "      <td id=\"T_86632_row2_col8\" class=\"data row2 col8\" >0.251</td>\n",
              "      <td id=\"T_86632_row2_col9\" class=\"data row2 col9\" >-0.145</td>\n",
              "      <td id=\"T_86632_row2_col10\" class=\"data row2 col10\" >1.000</td>\n",
              "      <td id=\"T_86632_row2_col11\" class=\"data row2 col11\" >0.756</td>\n",
              "      <td id=\"T_86632_row2_col12\" class=\"data row2 col12\" >0.168</td>\n",
              "      <td id=\"T_86632_row2_col13\" class=\"data row2 col13\" >0.447</td>\n",
              "      <td id=\"T_86632_row2_col14\" class=\"data row2 col14\" >0.014</td>\n",
              "      <td id=\"T_86632_row2_col15\" class=\"data row2 col15\" >-0.185</td>\n",
              "      <td id=\"T_86632_row2_col16\" class=\"data row2 col16\" >0.114</td>\n",
              "      <td id=\"T_86632_row2_col17\" class=\"data row2 col17\" >0.198</td>\n",
              "      <td id=\"T_86632_row2_col18\" class=\"data row2 col18\" >0.713</td>\n",
              "      <td id=\"T_86632_row2_col19\" class=\"data row2 col19\" >0.119</td>\n",
              "    </tr>\n",
              "    <tr>\n",
              "      <th id=\"T_86632_level0_row3\" class=\"row_heading level0 row3\" >sqft_above</th>\n",
              "      <td id=\"T_86632_row3_col0\" class=\"data row3 col0\" >-0.011</td>\n",
              "      <td id=\"T_86632_row3_col1\" class=\"data row3 col1\" >0.606</td>\n",
              "      <td id=\"T_86632_row3_col2\" class=\"data row3 col2\" >0.478</td>\n",
              "      <td id=\"T_86632_row3_col3\" class=\"data row3 col3\" >0.685</td>\n",
              "      <td id=\"T_86632_row3_col4\" class=\"data row3 col4\" >0.877</td>\n",
              "      <td id=\"T_86632_row3_col5\" class=\"data row3 col5\" >0.184</td>\n",
              "      <td id=\"T_86632_row3_col6\" class=\"data row3 col6\" >0.524</td>\n",
              "      <td id=\"T_86632_row3_col7\" class=\"data row3 col7\" >0.072</td>\n",
              "      <td id=\"T_86632_row3_col8\" class=\"data row3 col8\" >0.168</td>\n",
              "      <td id=\"T_86632_row3_col9\" class=\"data row3 col9\" >-0.158</td>\n",
              "      <td id=\"T_86632_row3_col10\" class=\"data row3 col10\" >0.756</td>\n",
              "      <td id=\"T_86632_row3_col11\" class=\"data row3 col11\" >1.000</td>\n",
              "      <td id=\"T_86632_row3_col12\" class=\"data row3 col12\" >-0.052</td>\n",
              "      <td id=\"T_86632_row3_col13\" class=\"data row3 col13\" >0.424</td>\n",
              "      <td id=\"T_86632_row3_col14\" class=\"data row3 col14\" >0.023</td>\n",
              "      <td id=\"T_86632_row3_col15\" class=\"data row3 col15\" >-0.261</td>\n",
              "      <td id=\"T_86632_row3_col16\" class=\"data row3 col16\" >-0.001</td>\n",
              "      <td id=\"T_86632_row3_col17\" class=\"data row3 col17\" >0.344</td>\n",
              "      <td id=\"T_86632_row3_col18\" class=\"data row3 col18\" >0.732</td>\n",
              "      <td id=\"T_86632_row3_col19\" class=\"data row3 col19\" >0.194</td>\n",
              "    </tr>\n",
              "    <tr>\n",
              "      <th id=\"T_86632_level0_row4\" class=\"row_heading level0 row4\" >sqft_living15</th>\n",
              "      <td id=\"T_86632_row4_col0\" class=\"data row4 col0\" >-0.003</td>\n",
              "      <td id=\"T_86632_row4_col1\" class=\"data row4 col1\" >0.585</td>\n",
              "      <td id=\"T_86632_row4_col2\" class=\"data row4 col2\" >0.392</td>\n",
              "      <td id=\"T_86632_row4_col3\" class=\"data row4 col3\" >0.569</td>\n",
              "      <td id=\"T_86632_row4_col4\" class=\"data row4 col4\" >0.756</td>\n",
              "      <td id=\"T_86632_row4_col5\" class=\"data row4 col5\" >0.145</td>\n",
              "      <td id=\"T_86632_row4_col6\" class=\"data row4 col6\" >0.280</td>\n",
              "      <td id=\"T_86632_row4_col7\" class=\"data row4 col7\" >0.086</td>\n",
              "      <td id=\"T_86632_row4_col8\" class=\"data row4 col8\" >0.280</td>\n",
              "      <td id=\"T_86632_row4_col9\" class=\"data row4 col9\" >-0.093</td>\n",
              "      <td id=\"T_86632_row4_col10\" class=\"data row4 col10\" >0.713</td>\n",
              "      <td id=\"T_86632_row4_col11\" class=\"data row4 col11\" >0.732</td>\n",
              "      <td id=\"T_86632_row4_col12\" class=\"data row4 col12\" >0.200</td>\n",
              "      <td id=\"T_86632_row4_col13\" class=\"data row4 col13\" >0.326</td>\n",
              "      <td id=\"T_86632_row4_col14\" class=\"data row4 col14\" >-0.003</td>\n",
              "      <td id=\"T_86632_row4_col15\" class=\"data row4 col15\" >-0.279</td>\n",
              "      <td id=\"T_86632_row4_col16\" class=\"data row4 col16\" >0.049</td>\n",
              "      <td id=\"T_86632_row4_col17\" class=\"data row4 col17\" >0.335</td>\n",
              "      <td id=\"T_86632_row4_col18\" class=\"data row4 col18\" >1.000</td>\n",
              "      <td id=\"T_86632_row4_col19\" class=\"data row4 col19\" >0.183</td>\n",
              "    </tr>\n",
              "    <tr>\n",
              "      <th id=\"T_86632_level0_row5\" class=\"row_heading level0 row5\" >bathrooms</th>\n",
              "      <td id=\"T_86632_row5_col0\" class=\"data row5 col0\" >0.005</td>\n",
              "      <td id=\"T_86632_row5_col1\" class=\"data row5 col1\" >0.525</td>\n",
              "      <td id=\"T_86632_row5_col2\" class=\"data row5 col2\" >0.516</td>\n",
              "      <td id=\"T_86632_row5_col3\" class=\"data row5 col3\" >1.000</td>\n",
              "      <td id=\"T_86632_row5_col4\" class=\"data row5 col4\" >0.755</td>\n",
              "      <td id=\"T_86632_row5_col5\" class=\"data row5 col5\" >0.088</td>\n",
              "      <td id=\"T_86632_row5_col6\" class=\"data row5 col6\" >0.501</td>\n",
              "      <td id=\"T_86632_row5_col7\" class=\"data row5 col7\" >0.064</td>\n",
              "      <td id=\"T_86632_row5_col8\" class=\"data row5 col8\" >0.188</td>\n",
              "      <td id=\"T_86632_row5_col9\" class=\"data row5 col9\" >-0.125</td>\n",
              "      <td id=\"T_86632_row5_col10\" class=\"data row5 col10\" >0.665</td>\n",
              "      <td id=\"T_86632_row5_col11\" class=\"data row5 col11\" >0.685</td>\n",
              "      <td id=\"T_86632_row5_col12\" class=\"data row5 col12\" >0.284</td>\n",
              "      <td id=\"T_86632_row5_col13\" class=\"data row5 col13\" >0.506</td>\n",
              "      <td id=\"T_86632_row5_col14\" class=\"data row5 col14\" >0.051</td>\n",
              "      <td id=\"T_86632_row5_col15\" class=\"data row5 col15\" >-0.204</td>\n",
              "      <td id=\"T_86632_row5_col16\" class=\"data row5 col16\" >0.025</td>\n",
              "      <td id=\"T_86632_row5_col17\" class=\"data row5 col17\" >0.223</td>\n",
              "      <td id=\"T_86632_row5_col18\" class=\"data row5 col18\" >0.569</td>\n",
              "      <td id=\"T_86632_row5_col19\" class=\"data row5 col19\" >0.087</td>\n",
              "    </tr>\n",
              "    <tr>\n",
              "      <th id=\"T_86632_level0_row6\" class=\"row_heading level0 row6\" >view</th>\n",
              "      <td id=\"T_86632_row6_col0\" class=\"data row6 col0\" >0.012</td>\n",
              "      <td id=\"T_86632_row6_col1\" class=\"data row6 col1\" >0.397</td>\n",
              "      <td id=\"T_86632_row6_col2\" class=\"data row6 col2\" >0.080</td>\n",
              "      <td id=\"T_86632_row6_col3\" class=\"data row6 col3\" >0.188</td>\n",
              "      <td id=\"T_86632_row6_col4\" class=\"data row6 col4\" >0.285</td>\n",
              "      <td id=\"T_86632_row6_col5\" class=\"data row6 col5\" >0.075</td>\n",
              "      <td id=\"T_86632_row6_col6\" class=\"data row6 col6\" >0.029</td>\n",
              "      <td id=\"T_86632_row6_col7\" class=\"data row6 col7\" >0.402</td>\n",
              "      <td id=\"T_86632_row6_col8\" class=\"data row6 col8\" >1.000</td>\n",
              "      <td id=\"T_86632_row6_col9\" class=\"data row6 col9\" >0.046</td>\n",
              "      <td id=\"T_86632_row6_col10\" class=\"data row6 col10\" >0.251</td>\n",
              "      <td id=\"T_86632_row6_col11\" class=\"data row6 col11\" >0.168</td>\n",
              "      <td id=\"T_86632_row6_col12\" class=\"data row6 col12\" >0.277</td>\n",
              "      <td id=\"T_86632_row6_col13\" class=\"data row6 col13\" >-0.053</td>\n",
              "      <td id=\"T_86632_row6_col14\" class=\"data row6 col14\" >0.104</td>\n",
              "      <td id=\"T_86632_row6_col15\" class=\"data row6 col15\" >0.085</td>\n",
              "      <td id=\"T_86632_row6_col16\" class=\"data row6 col16\" >0.006</td>\n",
              "      <td id=\"T_86632_row6_col17\" class=\"data row6 col17\" >-0.078</td>\n",
              "      <td id=\"T_86632_row6_col18\" class=\"data row6 col18\" >0.280</td>\n",
              "      <td id=\"T_86632_row6_col19\" class=\"data row6 col19\" >0.073</td>\n",
              "    </tr>\n",
              "    <tr>\n",
              "      <th id=\"T_86632_level0_row7\" class=\"row_heading level0 row7\" >sqft_basement</th>\n",
              "      <td id=\"T_86632_row7_col0\" class=\"data row7 col0\" >-0.005</td>\n",
              "      <td id=\"T_86632_row7_col1\" class=\"data row7 col1\" >0.324</td>\n",
              "      <td id=\"T_86632_row7_col2\" class=\"data row7 col2\" >0.303</td>\n",
              "      <td id=\"T_86632_row7_col3\" class=\"data row7 col3\" >0.284</td>\n",
              "      <td id=\"T_86632_row7_col4\" class=\"data row7 col4\" >0.435</td>\n",
              "      <td id=\"T_86632_row7_col5\" class=\"data row7 col5\" >0.015</td>\n",
              "      <td id=\"T_86632_row7_col6\" class=\"data row7 col6\" >-0.246</td>\n",
              "      <td id=\"T_86632_row7_col7\" class=\"data row7 col7\" >0.081</td>\n",
              "      <td id=\"T_86632_row7_col8\" class=\"data row7 col8\" >0.277</td>\n",
              "      <td id=\"T_86632_row7_col9\" class=\"data row7 col9\" >0.174</td>\n",
              "      <td id=\"T_86632_row7_col10\" class=\"data row7 col10\" >0.168</td>\n",
              "      <td id=\"T_86632_row7_col11\" class=\"data row7 col11\" >-0.052</td>\n",
              "      <td id=\"T_86632_row7_col12\" class=\"data row7 col12\" >1.000</td>\n",
              "      <td id=\"T_86632_row7_col13\" class=\"data row7 col13\" >-0.133</td>\n",
              "      <td id=\"T_86632_row7_col14\" class=\"data row7 col14\" >0.071</td>\n",
              "      <td id=\"T_86632_row7_col15\" class=\"data row7 col15\" >0.075</td>\n",
              "      <td id=\"T_86632_row7_col16\" class=\"data row7 col16\" >0.111</td>\n",
              "      <td id=\"T_86632_row7_col17\" class=\"data row7 col17\" >-0.145</td>\n",
              "      <td id=\"T_86632_row7_col18\" class=\"data row7 col18\" >0.200</td>\n",
              "      <td id=\"T_86632_row7_col19\" class=\"data row7 col19\" >0.017</td>\n",
              "    </tr>\n",
              "    <tr>\n",
              "      <th id=\"T_86632_level0_row8\" class=\"row_heading level0 row8\" >bedrooms</th>\n",
              "      <td id=\"T_86632_row8_col0\" class=\"data row8 col0\" >0.001</td>\n",
              "      <td id=\"T_86632_row8_col1\" class=\"data row8 col1\" >0.308</td>\n",
              "      <td id=\"T_86632_row8_col2\" class=\"data row8 col2\" >1.000</td>\n",
              "      <td id=\"T_86632_row8_col3\" class=\"data row8 col3\" >0.516</td>\n",
              "      <td id=\"T_86632_row8_col4\" class=\"data row8 col4\" >0.577</td>\n",
              "      <td id=\"T_86632_row8_col5\" class=\"data row8 col5\" >0.032</td>\n",
              "      <td id=\"T_86632_row8_col6\" class=\"data row8 col6\" >0.175</td>\n",
              "      <td id=\"T_86632_row8_col7\" class=\"data row8 col7\" >-0.007</td>\n",
              "      <td id=\"T_86632_row8_col8\" class=\"data row8 col8\" >0.080</td>\n",
              "      <td id=\"T_86632_row8_col9\" class=\"data row8 col9\" >0.028</td>\n",
              "      <td id=\"T_86632_row8_col10\" class=\"data row8 col10\" >0.357</td>\n",
              "      <td id=\"T_86632_row8_col11\" class=\"data row8 col11\" >0.478</td>\n",
              "      <td id=\"T_86632_row8_col12\" class=\"data row8 col12\" >0.303</td>\n",
              "      <td id=\"T_86632_row8_col13\" class=\"data row8 col13\" >0.154</td>\n",
              "      <td id=\"T_86632_row8_col14\" class=\"data row8 col14\" >0.019</td>\n",
              "      <td id=\"T_86632_row8_col15\" class=\"data row8 col15\" >-0.153</td>\n",
              "      <td id=\"T_86632_row8_col16\" class=\"data row8 col16\" >-0.009</td>\n",
              "      <td id=\"T_86632_row8_col17\" class=\"data row8 col17\" >0.129</td>\n",
              "      <td id=\"T_86632_row8_col18\" class=\"data row8 col18\" >0.392</td>\n",
              "      <td id=\"T_86632_row8_col19\" class=\"data row8 col19\" >0.029</td>\n",
              "    </tr>\n",
              "    <tr>\n",
              "      <th id=\"T_86632_level0_row9\" class=\"row_heading level0 row9\" >lat</th>\n",
              "      <td id=\"T_86632_row9_col0\" class=\"data row9 col0\" >-0.002</td>\n",
              "      <td id=\"T_86632_row9_col1\" class=\"data row9 col1\" >0.307</td>\n",
              "      <td id=\"T_86632_row9_col2\" class=\"data row9 col2\" >-0.009</td>\n",
              "      <td id=\"T_86632_row9_col3\" class=\"data row9 col3\" >0.025</td>\n",
              "      <td id=\"T_86632_row9_col4\" class=\"data row9 col4\" >0.053</td>\n",
              "      <td id=\"T_86632_row9_col5\" class=\"data row9 col5\" >-0.086</td>\n",
              "      <td id=\"T_86632_row9_col6\" class=\"data row9 col6\" >0.050</td>\n",
              "      <td id=\"T_86632_row9_col7\" class=\"data row9 col7\" >-0.014</td>\n",
              "      <td id=\"T_86632_row9_col8\" class=\"data row9 col8\" >0.006</td>\n",
              "      <td id=\"T_86632_row9_col9\" class=\"data row9 col9\" >-0.015</td>\n",
              "      <td id=\"T_86632_row9_col10\" class=\"data row9 col10\" >0.114</td>\n",
              "      <td id=\"T_86632_row9_col11\" class=\"data row9 col11\" >-0.001</td>\n",
              "      <td id=\"T_86632_row9_col12\" class=\"data row9 col12\" >0.111</td>\n",
              "      <td id=\"T_86632_row9_col13\" class=\"data row9 col13\" >-0.148</td>\n",
              "      <td id=\"T_86632_row9_col14\" class=\"data row9 col14\" >0.029</td>\n",
              "      <td id=\"T_86632_row9_col15\" class=\"data row9 col15\" >0.267</td>\n",
              "      <td id=\"T_86632_row9_col16\" class=\"data row9 col16\" >1.000</td>\n",
              "      <td id=\"T_86632_row9_col17\" class=\"data row9 col17\" >-0.136</td>\n",
              "      <td id=\"T_86632_row9_col18\" class=\"data row9 col18\" >0.049</td>\n",
              "      <td id=\"T_86632_row9_col19\" class=\"data row9 col19\" >-0.086</td>\n",
              "    </tr>\n",
              "    <tr>\n",
              "      <th id=\"T_86632_level0_row10\" class=\"row_heading level0 row10\" >waterfront</th>\n",
              "      <td id=\"T_86632_row10_col0\" class=\"data row10 col0\" >-0.003</td>\n",
              "      <td id=\"T_86632_row10_col1\" class=\"data row10 col1\" >0.266</td>\n",
              "      <td id=\"T_86632_row10_col2\" class=\"data row10 col2\" >-0.007</td>\n",
              "      <td id=\"T_86632_row10_col3\" class=\"data row10 col3\" >0.064</td>\n",
              "      <td id=\"T_86632_row10_col4\" class=\"data row10 col4\" >0.104</td>\n",
              "      <td id=\"T_86632_row10_col5\" class=\"data row10 col5\" >0.022</td>\n",
              "      <td id=\"T_86632_row10_col6\" class=\"data row10 col6\" >0.024</td>\n",
              "      <td id=\"T_86632_row10_col7\" class=\"data row10 col7\" >1.000</td>\n",
              "      <td id=\"T_86632_row10_col8\" class=\"data row10 col8\" >0.402</td>\n",
              "      <td id=\"T_86632_row10_col9\" class=\"data row10 col9\" >0.017</td>\n",
              "      <td id=\"T_86632_row10_col10\" class=\"data row10 col10\" >0.083</td>\n",
              "      <td id=\"T_86632_row10_col11\" class=\"data row10 col11\" >0.072</td>\n",
              "      <td id=\"T_86632_row10_col12\" class=\"data row10 col12\" >0.081</td>\n",
              "      <td id=\"T_86632_row10_col13\" class=\"data row10 col13\" >-0.026</td>\n",
              "      <td id=\"T_86632_row10_col14\" class=\"data row10 col14\" >0.093</td>\n",
              "      <td id=\"T_86632_row10_col15\" class=\"data row10 col15\" >0.030</td>\n",
              "      <td id=\"T_86632_row10_col16\" class=\"data row10 col16\" >-0.014</td>\n",
              "      <td id=\"T_86632_row10_col17\" class=\"data row10 col17\" >-0.042</td>\n",
              "      <td id=\"T_86632_row10_col18\" class=\"data row10 col18\" >0.086</td>\n",
              "      <td id=\"T_86632_row10_col19\" class=\"data row10 col19\" >0.031</td>\n",
              "    </tr>\n",
              "    <tr>\n",
              "      <th id=\"T_86632_level0_row11\" class=\"row_heading level0 row11\" >floors</th>\n",
              "      <td id=\"T_86632_row11_col0\" class=\"data row11 col0\" >0.019</td>\n",
              "      <td id=\"T_86632_row11_col1\" class=\"data row11 col1\" >0.257</td>\n",
              "      <td id=\"T_86632_row11_col2\" class=\"data row11 col2\" >0.175</td>\n",
              "      <td id=\"T_86632_row11_col3\" class=\"data row11 col3\" >0.501</td>\n",
              "      <td id=\"T_86632_row11_col4\" class=\"data row11 col4\" >0.354</td>\n",
              "      <td id=\"T_86632_row11_col5\" class=\"data row11 col5\" >-0.005</td>\n",
              "      <td id=\"T_86632_row11_col6\" class=\"data row11 col6\" >1.000</td>\n",
              "      <td id=\"T_86632_row11_col7\" class=\"data row11 col7\" >0.024</td>\n",
              "      <td id=\"T_86632_row11_col8\" class=\"data row11 col8\" >0.029</td>\n",
              "      <td id=\"T_86632_row11_col9\" class=\"data row11 col9\" >-0.264</td>\n",
              "      <td id=\"T_86632_row11_col10\" class=\"data row11 col10\" >0.458</td>\n",
              "      <td id=\"T_86632_row11_col11\" class=\"data row11 col11\" >0.524</td>\n",
              "      <td id=\"T_86632_row11_col12\" class=\"data row11 col12\" >-0.246</td>\n",
              "      <td id=\"T_86632_row11_col13\" class=\"data row11 col13\" >0.489</td>\n",
              "      <td id=\"T_86632_row11_col14\" class=\"data row11 col14\" >0.006</td>\n",
              "      <td id=\"T_86632_row11_col15\" class=\"data row11 col15\" >-0.059</td>\n",
              "      <td id=\"T_86632_row11_col16\" class=\"data row11 col16\" >0.050</td>\n",
              "      <td id=\"T_86632_row11_col17\" class=\"data row11 col17\" >0.125</td>\n",
              "      <td id=\"T_86632_row11_col18\" class=\"data row11 col18\" >0.280</td>\n",
              "      <td id=\"T_86632_row11_col19\" class=\"data row11 col19\" >-0.011</td>\n",
              "    </tr>\n",
              "    <tr>\n",
              "      <th id=\"T_86632_level0_row12\" class=\"row_heading level0 row12\" >yr_renovated</th>\n",
              "      <td id=\"T_86632_row12_col0\" class=\"data row12 col0\" >-0.017</td>\n",
              "      <td id=\"T_86632_row12_col1\" class=\"data row12 col1\" >0.126</td>\n",
              "      <td id=\"T_86632_row12_col2\" class=\"data row12 col2\" >0.019</td>\n",
              "      <td id=\"T_86632_row12_col3\" class=\"data row12 col3\" >0.051</td>\n",
              "      <td id=\"T_86632_row12_col4\" class=\"data row12 col4\" >0.055</td>\n",
              "      <td id=\"T_86632_row12_col5\" class=\"data row12 col5\" >0.008</td>\n",
              "      <td id=\"T_86632_row12_col6\" class=\"data row12 col6\" >0.006</td>\n",
              "      <td id=\"T_86632_row12_col7\" class=\"data row12 col7\" >0.093</td>\n",
              "      <td id=\"T_86632_row12_col8\" class=\"data row12 col8\" >0.104</td>\n",
              "      <td id=\"T_86632_row12_col9\" class=\"data row12 col9\" >-0.061</td>\n",
              "      <td id=\"T_86632_row12_col10\" class=\"data row12 col10\" >0.014</td>\n",
              "      <td id=\"T_86632_row12_col11\" class=\"data row12 col11\" >0.023</td>\n",
              "      <td id=\"T_86632_row12_col12\" class=\"data row12 col12\" >0.071</td>\n",
              "      <td id=\"T_86632_row12_col13\" class=\"data row12 col13\" >-0.225</td>\n",
              "      <td id=\"T_86632_row12_col14\" class=\"data row12 col14\" >1.000</td>\n",
              "      <td id=\"T_86632_row12_col15\" class=\"data row12 col15\" >0.064</td>\n",
              "      <td id=\"T_86632_row12_col16\" class=\"data row12 col16\" >0.029</td>\n",
              "      <td id=\"T_86632_row12_col17\" class=\"data row12 col17\" >-0.068</td>\n",
              "      <td id=\"T_86632_row12_col18\" class=\"data row12 col18\" >-0.003</td>\n",
              "      <td id=\"T_86632_row12_col19\" class=\"data row12 col19\" >0.008</td>\n",
              "    </tr>\n",
              "    <tr>\n",
              "      <th id=\"T_86632_level0_row13\" class=\"row_heading level0 row13\" >sqft_lot</th>\n",
              "      <td id=\"T_86632_row13_col0\" class=\"data row13 col0\" >-0.132</td>\n",
              "      <td id=\"T_86632_row13_col1\" class=\"data row13 col1\" >0.090</td>\n",
              "      <td id=\"T_86632_row13_col2\" class=\"data row13 col2\" >0.032</td>\n",
              "      <td id=\"T_86632_row13_col3\" class=\"data row13 col3\" >0.088</td>\n",
              "      <td id=\"T_86632_row13_col4\" class=\"data row13 col4\" >0.173</td>\n",
              "      <td id=\"T_86632_row13_col5\" class=\"data row13 col5\" >1.000</td>\n",
              "      <td id=\"T_86632_row13_col6\" class=\"data row13 col6\" >-0.005</td>\n",
              "      <td id=\"T_86632_row13_col7\" class=\"data row13 col7\" >0.022</td>\n",
              "      <td id=\"T_86632_row13_col8\" class=\"data row13 col8\" >0.075</td>\n",
              "      <td id=\"T_86632_row13_col9\" class=\"data row13 col9\" >-0.009</td>\n",
              "      <td id=\"T_86632_row13_col10\" class=\"data row13 col10\" >0.114</td>\n",
              "      <td id=\"T_86632_row13_col11\" class=\"data row13 col11\" >0.184</td>\n",
              "      <td id=\"T_86632_row13_col12\" class=\"data row13 col12\" >0.015</td>\n",
              "      <td id=\"T_86632_row13_col13\" class=\"data row13 col13\" >0.053</td>\n",
              "      <td id=\"T_86632_row13_col14\" class=\"data row13 col14\" >0.008</td>\n",
              "      <td id=\"T_86632_row13_col15\" class=\"data row13 col15\" >-0.130</td>\n",
              "      <td id=\"T_86632_row13_col16\" class=\"data row13 col16\" >-0.086</td>\n",
              "      <td id=\"T_86632_row13_col17\" class=\"data row13 col17\" >0.230</td>\n",
              "      <td id=\"T_86632_row13_col18\" class=\"data row13 col18\" >0.145</td>\n",
              "      <td id=\"T_86632_row13_col19\" class=\"data row13 col19\" >0.719</td>\n",
              "    </tr>\n",
              "    <tr>\n",
              "      <th id=\"T_86632_level0_row14\" class=\"row_heading level0 row14\" >sqft_lot15</th>\n",
              "      <td id=\"T_86632_row14_col0\" class=\"data row14 col0\" >-0.139</td>\n",
              "      <td id=\"T_86632_row14_col1\" class=\"data row14 col1\" >0.082</td>\n",
              "      <td id=\"T_86632_row14_col2\" class=\"data row14 col2\" >0.029</td>\n",
              "      <td id=\"T_86632_row14_col3\" class=\"data row14 col3\" >0.087</td>\n",
              "      <td id=\"T_86632_row14_col4\" class=\"data row14 col4\" >0.183</td>\n",
              "      <td id=\"T_86632_row14_col5\" class=\"data row14 col5\" >0.719</td>\n",
              "      <td id=\"T_86632_row14_col6\" class=\"data row14 col6\" >-0.011</td>\n",
              "      <td id=\"T_86632_row14_col7\" class=\"data row14 col7\" >0.031</td>\n",
              "      <td id=\"T_86632_row14_col8\" class=\"data row14 col8\" >0.073</td>\n",
              "      <td id=\"T_86632_row14_col9\" class=\"data row14 col9\" >-0.003</td>\n",
              "      <td id=\"T_86632_row14_col10\" class=\"data row14 col10\" >0.119</td>\n",
              "      <td id=\"T_86632_row14_col11\" class=\"data row14 col11\" >0.194</td>\n",
              "      <td id=\"T_86632_row14_col12\" class=\"data row14 col12\" >0.017</td>\n",
              "      <td id=\"T_86632_row14_col13\" class=\"data row14 col13\" >0.071</td>\n",
              "      <td id=\"T_86632_row14_col14\" class=\"data row14 col14\" >0.008</td>\n",
              "      <td id=\"T_86632_row14_col15\" class=\"data row14 col15\" >-0.147</td>\n",
              "      <td id=\"T_86632_row14_col16\" class=\"data row14 col16\" >-0.086</td>\n",
              "      <td id=\"T_86632_row14_col17\" class=\"data row14 col17\" >0.254</td>\n",
              "      <td id=\"T_86632_row14_col18\" class=\"data row14 col18\" >0.183</td>\n",
              "      <td id=\"T_86632_row14_col19\" class=\"data row14 col19\" >1.000</td>\n",
              "    </tr>\n",
              "    <tr>\n",
              "      <th id=\"T_86632_level0_row15\" class=\"row_heading level0 row15\" >yr_built</th>\n",
              "      <td id=\"T_86632_row15_col0\" class=\"data row15 col0\" >0.021</td>\n",
              "      <td id=\"T_86632_row15_col1\" class=\"data row15 col1\" >0.054</td>\n",
              "      <td id=\"T_86632_row15_col2\" class=\"data row15 col2\" >0.154</td>\n",
              "      <td id=\"T_86632_row15_col3\" class=\"data row15 col3\" >0.506</td>\n",
              "      <td id=\"T_86632_row15_col4\" class=\"data row15 col4\" >0.318</td>\n",
              "      <td id=\"T_86632_row15_col5\" class=\"data row15 col5\" >0.053</td>\n",
              "      <td id=\"T_86632_row15_col6\" class=\"data row15 col6\" >0.489</td>\n",
              "      <td id=\"T_86632_row15_col7\" class=\"data row15 col7\" >-0.026</td>\n",
              "      <td id=\"T_86632_row15_col8\" class=\"data row15 col8\" >-0.053</td>\n",
              "      <td id=\"T_86632_row15_col9\" class=\"data row15 col9\" >-0.361</td>\n",
              "      <td id=\"T_86632_row15_col10\" class=\"data row15 col10\" >0.447</td>\n",
              "      <td id=\"T_86632_row15_col11\" class=\"data row15 col11\" >0.424</td>\n",
              "      <td id=\"T_86632_row15_col12\" class=\"data row15 col12\" >-0.133</td>\n",
              "      <td id=\"T_86632_row15_col13\" class=\"data row15 col13\" >1.000</td>\n",
              "      <td id=\"T_86632_row15_col14\" class=\"data row15 col14\" >-0.225</td>\n",
              "      <td id=\"T_86632_row15_col15\" class=\"data row15 col15\" >-0.347</td>\n",
              "      <td id=\"T_86632_row15_col16\" class=\"data row15 col16\" >-0.148</td>\n",
              "      <td id=\"T_86632_row15_col17\" class=\"data row15 col17\" >0.409</td>\n",
              "      <td id=\"T_86632_row15_col18\" class=\"data row15 col18\" >0.326</td>\n",
              "      <td id=\"T_86632_row15_col19\" class=\"data row15 col19\" >0.071</td>\n",
              "    </tr>\n",
              "    <tr>\n",
              "      <th id=\"T_86632_level0_row16\" class=\"row_heading level0 row16\" >condition</th>\n",
              "      <td id=\"T_86632_row16_col0\" class=\"data row16 col0\" >-0.024</td>\n",
              "      <td id=\"T_86632_row16_col1\" class=\"data row16 col1\" >0.036</td>\n",
              "      <td id=\"T_86632_row16_col2\" class=\"data row16 col2\" >0.028</td>\n",
              "      <td id=\"T_86632_row16_col3\" class=\"data row16 col3\" >-0.125</td>\n",
              "      <td id=\"T_86632_row16_col4\" class=\"data row16 col4\" >-0.059</td>\n",
              "      <td id=\"T_86632_row16_col5\" class=\"data row16 col5\" >-0.009</td>\n",
              "      <td id=\"T_86632_row16_col6\" class=\"data row16 col6\" >-0.264</td>\n",
              "      <td id=\"T_86632_row16_col7\" class=\"data row16 col7\" >0.017</td>\n",
              "      <td id=\"T_86632_row16_col8\" class=\"data row16 col8\" >0.046</td>\n",
              "      <td id=\"T_86632_row16_col9\" class=\"data row16 col9\" >1.000</td>\n",
              "      <td id=\"T_86632_row16_col10\" class=\"data row16 col10\" >-0.145</td>\n",
              "      <td id=\"T_86632_row16_col11\" class=\"data row16 col11\" >-0.158</td>\n",
              "      <td id=\"T_86632_row16_col12\" class=\"data row16 col12\" >0.174</td>\n",
              "      <td id=\"T_86632_row16_col13\" class=\"data row16 col13\" >-0.361</td>\n",
              "      <td id=\"T_86632_row16_col14\" class=\"data row16 col14\" >-0.061</td>\n",
              "      <td id=\"T_86632_row16_col15\" class=\"data row16 col15\" >0.003</td>\n",
              "      <td id=\"T_86632_row16_col16\" class=\"data row16 col16\" >-0.015</td>\n",
              "      <td id=\"T_86632_row16_col17\" class=\"data row16 col17\" >-0.107</td>\n",
              "      <td id=\"T_86632_row16_col18\" class=\"data row16 col18\" >-0.093</td>\n",
              "      <td id=\"T_86632_row16_col19\" class=\"data row16 col19\" >-0.003</td>\n",
              "    </tr>\n",
              "    <tr>\n",
              "      <th id=\"T_86632_level0_row17\" class=\"row_heading level0 row17\" >long</th>\n",
              "      <td id=\"T_86632_row17_col0\" class=\"data row17 col0\" >0.021</td>\n",
              "      <td id=\"T_86632_row17_col1\" class=\"data row17 col1\" >0.022</td>\n",
              "      <td id=\"T_86632_row17_col2\" class=\"data row17 col2\" >0.129</td>\n",
              "      <td id=\"T_86632_row17_col3\" class=\"data row17 col3\" >0.223</td>\n",
              "      <td id=\"T_86632_row17_col4\" class=\"data row17 col4\" >0.240</td>\n",
              "      <td id=\"T_86632_row17_col5\" class=\"data row17 col5\" >0.230</td>\n",
              "      <td id=\"T_86632_row17_col6\" class=\"data row17 col6\" >0.125</td>\n",
              "      <td id=\"T_86632_row17_col7\" class=\"data row17 col7\" >-0.042</td>\n",
              "      <td id=\"T_86632_row17_col8\" class=\"data row17 col8\" >-0.078</td>\n",
              "      <td id=\"T_86632_row17_col9\" class=\"data row17 col9\" >-0.107</td>\n",
              "      <td id=\"T_86632_row17_col10\" class=\"data row17 col10\" >0.198</td>\n",
              "      <td id=\"T_86632_row17_col11\" class=\"data row17 col11\" >0.344</td>\n",
              "      <td id=\"T_86632_row17_col12\" class=\"data row17 col12\" >-0.145</td>\n",
              "      <td id=\"T_86632_row17_col13\" class=\"data row17 col13\" >0.409</td>\n",
              "      <td id=\"T_86632_row17_col14\" class=\"data row17 col14\" >-0.068</td>\n",
              "      <td id=\"T_86632_row17_col15\" class=\"data row17 col15\" >-0.564</td>\n",
              "      <td id=\"T_86632_row17_col16\" class=\"data row17 col16\" >-0.136</td>\n",
              "      <td id=\"T_86632_row17_col17\" class=\"data row17 col17\" >1.000</td>\n",
              "      <td id=\"T_86632_row17_col18\" class=\"data row17 col18\" >0.335</td>\n",
              "      <td id=\"T_86632_row17_col19\" class=\"data row17 col19\" >0.254</td>\n",
              "    </tr>\n",
              "    <tr>\n",
              "      <th id=\"T_86632_level0_row18\" class=\"row_heading level0 row18\" >id</th>\n",
              "      <td id=\"T_86632_row18_col0\" class=\"data row18 col0\" >1.000</td>\n",
              "      <td id=\"T_86632_row18_col1\" class=\"data row18 col1\" >-0.017</td>\n",
              "      <td id=\"T_86632_row18_col2\" class=\"data row18 col2\" >0.001</td>\n",
              "      <td id=\"T_86632_row18_col3\" class=\"data row18 col3\" >0.005</td>\n",
              "      <td id=\"T_86632_row18_col4\" class=\"data row18 col4\" >-0.012</td>\n",
              "      <td id=\"T_86632_row18_col5\" class=\"data row18 col5\" >-0.132</td>\n",
              "      <td id=\"T_86632_row18_col6\" class=\"data row18 col6\" >0.019</td>\n",
              "      <td id=\"T_86632_row18_col7\" class=\"data row18 col7\" >-0.003</td>\n",
              "      <td id=\"T_86632_row18_col8\" class=\"data row18 col8\" >0.012</td>\n",
              "      <td id=\"T_86632_row18_col9\" class=\"data row18 col9\" >-0.024</td>\n",
              "      <td id=\"T_86632_row18_col10\" class=\"data row18 col10\" >0.008</td>\n",
              "      <td id=\"T_86632_row18_col11\" class=\"data row18 col11\" >-0.011</td>\n",
              "      <td id=\"T_86632_row18_col12\" class=\"data row18 col12\" >-0.005</td>\n",
              "      <td id=\"T_86632_row18_col13\" class=\"data row18 col13\" >0.021</td>\n",
              "      <td id=\"T_86632_row18_col14\" class=\"data row18 col14\" >-0.017</td>\n",
              "      <td id=\"T_86632_row18_col15\" class=\"data row18 col15\" >-0.008</td>\n",
              "      <td id=\"T_86632_row18_col16\" class=\"data row18 col16\" >-0.002</td>\n",
              "      <td id=\"T_86632_row18_col17\" class=\"data row18 col17\" >0.021</td>\n",
              "      <td id=\"T_86632_row18_col18\" class=\"data row18 col18\" >-0.003</td>\n",
              "      <td id=\"T_86632_row18_col19\" class=\"data row18 col19\" >-0.139</td>\n",
              "    </tr>\n",
              "    <tr>\n",
              "      <th id=\"T_86632_level0_row19\" class=\"row_heading level0 row19\" >zipcode</th>\n",
              "      <td id=\"T_86632_row19_col0\" class=\"data row19 col0\" >-0.008</td>\n",
              "      <td id=\"T_86632_row19_col1\" class=\"data row19 col1\" >-0.053</td>\n",
              "      <td id=\"T_86632_row19_col2\" class=\"data row19 col2\" >-0.153</td>\n",
              "      <td id=\"T_86632_row19_col3\" class=\"data row19 col3\" >-0.204</td>\n",
              "      <td id=\"T_86632_row19_col4\" class=\"data row19 col4\" >-0.199</td>\n",
              "      <td id=\"T_86632_row19_col5\" class=\"data row19 col5\" >-0.130</td>\n",
              "      <td id=\"T_86632_row19_col6\" class=\"data row19 col6\" >-0.059</td>\n",
              "      <td id=\"T_86632_row19_col7\" class=\"data row19 col7\" >0.030</td>\n",
              "      <td id=\"T_86632_row19_col8\" class=\"data row19 col8\" >0.085</td>\n",
              "      <td id=\"T_86632_row19_col9\" class=\"data row19 col9\" >0.003</td>\n",
              "      <td id=\"T_86632_row19_col10\" class=\"data row19 col10\" >-0.185</td>\n",
              "      <td id=\"T_86632_row19_col11\" class=\"data row19 col11\" >-0.261</td>\n",
              "      <td id=\"T_86632_row19_col12\" class=\"data row19 col12\" >0.075</td>\n",
              "      <td id=\"T_86632_row19_col13\" class=\"data row19 col13\" >-0.347</td>\n",
              "      <td id=\"T_86632_row19_col14\" class=\"data row19 col14\" >0.064</td>\n",
              "      <td id=\"T_86632_row19_col15\" class=\"data row19 col15\" >1.000</td>\n",
              "      <td id=\"T_86632_row19_col16\" class=\"data row19 col16\" >0.267</td>\n",
              "      <td id=\"T_86632_row19_col17\" class=\"data row19 col17\" >-0.564</td>\n",
              "      <td id=\"T_86632_row19_col18\" class=\"data row19 col18\" >-0.279</td>\n",
              "      <td id=\"T_86632_row19_col19\" class=\"data row19 col19\" >-0.147</td>\n",
              "    </tr>\n",
              "  </tbody>\n",
              "</table>\n"
            ]
          },
          "metadata": {},
          "execution_count": 9
        }
      ]
    },
    {
      "cell_type": "code",
      "source": [
        "corr_sort.iloc[:,1:2].style.background_gradient(cmap='coolwarm').format(precision=3)"
      ],
      "metadata": {
        "colab": {
          "base_uri": "https://localhost:8080/",
          "height": 676
        },
        "id": "Y69uGqiDz3Mm",
        "outputId": "9afc0e17-ca28-47e2-edad-dde73efa2a03"
      },
      "execution_count": 10,
      "outputs": [
        {
          "output_type": "execute_result",
          "data": {
            "text/plain": [
              "<pandas.io.formats.style.Styler at 0x7fd24b892550>"
            ],
            "text/html": [
              "<style type=\"text/css\">\n",
              "#T_30c3d_row0_col0 {\n",
              "  background-color: #b40426;\n",
              "  color: #f1f1f1;\n",
              "}\n",
              "#T_30c3d_row1_col0 {\n",
              "  background-color: #f7a688;\n",
              "  color: #000000;\n",
              "}\n",
              "#T_30c3d_row2_col0 {\n",
              "  background-color: #f7b194;\n",
              "  color: #000000;\n",
              "}\n",
              "#T_30c3d_row3_col0 {\n",
              "  background-color: #f5c4ac;\n",
              "  color: #000000;\n",
              "}\n",
              "#T_30c3d_row4_col0 {\n",
              "  background-color: #f2c9b4;\n",
              "  color: #000000;\n",
              "}\n",
              "#T_30c3d_row5_col0 {\n",
              "  background-color: #e9d5cb;\n",
              "  color: #000000;\n",
              "}\n",
              "#T_30c3d_row6_col0 {\n",
              "  background-color: #c9d7f0;\n",
              "  color: #000000;\n",
              "}\n",
              "#T_30c3d_row7_col0 {\n",
              "  background-color: #b2ccfb;\n",
              "  color: #000000;\n",
              "}\n",
              "#T_30c3d_row8_col0, #T_30c3d_row9_col0 {\n",
              "  background-color: #adc9fd;\n",
              "  color: #000000;\n",
              "}\n",
              "#T_30c3d_row10_col0 {\n",
              "  background-color: #9fbfff;\n",
              "  color: #000000;\n",
              "}\n",
              "#T_30c3d_row11_col0 {\n",
              "  background-color: #9dbdff;\n",
              "  color: #000000;\n",
              "}\n",
              "#T_30c3d_row12_col0 {\n",
              "  background-color: #7093f3;\n",
              "  color: #f1f1f1;\n",
              "}\n",
              "#T_30c3d_row13_col0 {\n",
              "  background-color: #6485ec;\n",
              "  color: #f1f1f1;\n",
              "}\n",
              "#T_30c3d_row14_col0 {\n",
              "  background-color: #6282ea;\n",
              "  color: #f1f1f1;\n",
              "}\n",
              "#T_30c3d_row15_col0 {\n",
              "  background-color: #5a78e4;\n",
              "  color: #f1f1f1;\n",
              "}\n",
              "#T_30c3d_row16_col0 {\n",
              "  background-color: #5470de;\n",
              "  color: #f1f1f1;\n",
              "}\n",
              "#T_30c3d_row17_col0 {\n",
              "  background-color: #506bda;\n",
              "  color: #f1f1f1;\n",
              "}\n",
              "#T_30c3d_row18_col0 {\n",
              "  background-color: #445acc;\n",
              "  color: #f1f1f1;\n",
              "}\n",
              "#T_30c3d_row19_col0 {\n",
              "  background-color: #3b4cc0;\n",
              "  color: #f1f1f1;\n",
              "}\n",
              "</style>\n",
              "<table id=\"T_30c3d_\" class=\"dataframe\">\n",
              "  <thead>\n",
              "    <tr>\n",
              "      <th class=\"blank level0\" >&nbsp;</th>\n",
              "      <th class=\"col_heading level0 col0\" >price</th>\n",
              "    </tr>\n",
              "  </thead>\n",
              "  <tbody>\n",
              "    <tr>\n",
              "      <th id=\"T_30c3d_level0_row0\" class=\"row_heading level0 row0\" >price</th>\n",
              "      <td id=\"T_30c3d_row0_col0\" class=\"data row0 col0\" >1.000</td>\n",
              "    </tr>\n",
              "    <tr>\n",
              "      <th id=\"T_30c3d_level0_row1\" class=\"row_heading level0 row1\" >sqft_living</th>\n",
              "      <td id=\"T_30c3d_row1_col0\" class=\"data row1 col0\" >0.702</td>\n",
              "    </tr>\n",
              "    <tr>\n",
              "      <th id=\"T_30c3d_level0_row2\" class=\"row_heading level0 row2\" >grade</th>\n",
              "      <td id=\"T_30c3d_row2_col0\" class=\"data row2 col0\" >0.667</td>\n",
              "    </tr>\n",
              "    <tr>\n",
              "      <th id=\"T_30c3d_level0_row3\" class=\"row_heading level0 row3\" >sqft_above</th>\n",
              "      <td id=\"T_30c3d_row3_col0\" class=\"data row3 col0\" >0.606</td>\n",
              "    </tr>\n",
              "    <tr>\n",
              "      <th id=\"T_30c3d_level0_row4\" class=\"row_heading level0 row4\" >sqft_living15</th>\n",
              "      <td id=\"T_30c3d_row4_col0\" class=\"data row4 col0\" >0.585</td>\n",
              "    </tr>\n",
              "    <tr>\n",
              "      <th id=\"T_30c3d_level0_row5\" class=\"row_heading level0 row5\" >bathrooms</th>\n",
              "      <td id=\"T_30c3d_row5_col0\" class=\"data row5 col0\" >0.525</td>\n",
              "    </tr>\n",
              "    <tr>\n",
              "      <th id=\"T_30c3d_level0_row6\" class=\"row_heading level0 row6\" >view</th>\n",
              "      <td id=\"T_30c3d_row6_col0\" class=\"data row6 col0\" >0.397</td>\n",
              "    </tr>\n",
              "    <tr>\n",
              "      <th id=\"T_30c3d_level0_row7\" class=\"row_heading level0 row7\" >sqft_basement</th>\n",
              "      <td id=\"T_30c3d_row7_col0\" class=\"data row7 col0\" >0.324</td>\n",
              "    </tr>\n",
              "    <tr>\n",
              "      <th id=\"T_30c3d_level0_row8\" class=\"row_heading level0 row8\" >bedrooms</th>\n",
              "      <td id=\"T_30c3d_row8_col0\" class=\"data row8 col0\" >0.308</td>\n",
              "    </tr>\n",
              "    <tr>\n",
              "      <th id=\"T_30c3d_level0_row9\" class=\"row_heading level0 row9\" >lat</th>\n",
              "      <td id=\"T_30c3d_row9_col0\" class=\"data row9 col0\" >0.307</td>\n",
              "    </tr>\n",
              "    <tr>\n",
              "      <th id=\"T_30c3d_level0_row10\" class=\"row_heading level0 row10\" >waterfront</th>\n",
              "      <td id=\"T_30c3d_row10_col0\" class=\"data row10 col0\" >0.266</td>\n",
              "    </tr>\n",
              "    <tr>\n",
              "      <th id=\"T_30c3d_level0_row11\" class=\"row_heading level0 row11\" >floors</th>\n",
              "      <td id=\"T_30c3d_row11_col0\" class=\"data row11 col0\" >0.257</td>\n",
              "    </tr>\n",
              "    <tr>\n",
              "      <th id=\"T_30c3d_level0_row12\" class=\"row_heading level0 row12\" >yr_renovated</th>\n",
              "      <td id=\"T_30c3d_row12_col0\" class=\"data row12 col0\" >0.126</td>\n",
              "    </tr>\n",
              "    <tr>\n",
              "      <th id=\"T_30c3d_level0_row13\" class=\"row_heading level0 row13\" >sqft_lot</th>\n",
              "      <td id=\"T_30c3d_row13_col0\" class=\"data row13 col0\" >0.090</td>\n",
              "    </tr>\n",
              "    <tr>\n",
              "      <th id=\"T_30c3d_level0_row14\" class=\"row_heading level0 row14\" >sqft_lot15</th>\n",
              "      <td id=\"T_30c3d_row14_col0\" class=\"data row14 col0\" >0.082</td>\n",
              "    </tr>\n",
              "    <tr>\n",
              "      <th id=\"T_30c3d_level0_row15\" class=\"row_heading level0 row15\" >yr_built</th>\n",
              "      <td id=\"T_30c3d_row15_col0\" class=\"data row15 col0\" >0.054</td>\n",
              "    </tr>\n",
              "    <tr>\n",
              "      <th id=\"T_30c3d_level0_row16\" class=\"row_heading level0 row16\" >condition</th>\n",
              "      <td id=\"T_30c3d_row16_col0\" class=\"data row16 col0\" >0.036</td>\n",
              "    </tr>\n",
              "    <tr>\n",
              "      <th id=\"T_30c3d_level0_row17\" class=\"row_heading level0 row17\" >long</th>\n",
              "      <td id=\"T_30c3d_row17_col0\" class=\"data row17 col0\" >0.022</td>\n",
              "    </tr>\n",
              "    <tr>\n",
              "      <th id=\"T_30c3d_level0_row18\" class=\"row_heading level0 row18\" >id</th>\n",
              "      <td id=\"T_30c3d_row18_col0\" class=\"data row18 col0\" >-0.017</td>\n",
              "    </tr>\n",
              "    <tr>\n",
              "      <th id=\"T_30c3d_level0_row19\" class=\"row_heading level0 row19\" >zipcode</th>\n",
              "      <td id=\"T_30c3d_row19_col0\" class=\"data row19 col0\" >-0.053</td>\n",
              "    </tr>\n",
              "  </tbody>\n",
              "</table>\n"
            ]
          },
          "metadata": {},
          "execution_count": 10
        }
      ]
    },
    {
      "cell_type": "markdown",
      "source": [
        "### D"
      ],
      "metadata": {
        "id": "raus6UDM0NQ6"
      }
    },
    {
      "cell_type": "code",
      "source": [
        "#visualizing house prices\n",
        "fig = plt.figure(figsize=(10,7))\n",
        "fig.add_subplot(2,1,1)\n",
        "sns.histplot(df['price'])\n",
        "fig.add_subplot(2,1,2)\n",
        "sns.boxplot(df['price'])\n",
        "plt.tight_layout()"
      ],
      "metadata": {
        "colab": {
          "base_uri": "https://localhost:8080/",
          "height": 569
        },
        "id": "p4aAkU4k9QSQ",
        "outputId": "6100e5b1-8334-47d1-967b-2a1be2940174"
      },
      "execution_count": 11,
      "outputs": [
        {
          "output_type": "stream",
          "name": "stderr",
          "text": [
            "/usr/local/lib/python3.7/dist-packages/seaborn/_decorators.py:43: FutureWarning: Pass the following variable as a keyword arg: x. From version 0.12, the only valid positional argument will be `data`, and passing other arguments without an explicit keyword will result in an error or misinterpretation.\n",
            "  FutureWarning\n"
          ]
        },
        {
          "output_type": "display_data",
          "data": {
            "text/plain": [
              "<Figure size 720x504 with 2 Axes>"
            ],
            "image/png": "[encoded data removed]"
          },
          "metadata": {
            "needs_background": "light"
          }
        }
      ]
    },
    {
      "cell_type": "code",
      "source": [
        "df_price_sqft= (df.loc[:,['price','sqft_living']] - df.loc[:,['price','sqft_living']].mean()) / df.loc[:,['price','sqft_living']].std()\n",
        "df_price_sqft"
      ],
      "metadata": {
        "colab": {
          "base_uri": "https://localhost:8080/",
          "height": 424
        },
        "id": "w1jeJVtP0Zjz",
        "outputId": "96affcc3-a8f4-400a-8298-db99aedf9102"
      },
      "execution_count": 12,
      "outputs": [
        {
          "output_type": "execute_result",
          "data": {
            "text/plain": [
              "          price  sqft_living\n",
              "0     -0.866697    -0.979812\n",
              "1     -0.005688     0.533622\n",
              "2     -0.980827    -1.426221\n",
              "3      0.174086    -0.130547\n",
              "4     -0.081956    -0.435412\n",
              "...         ...          ...\n",
              "21608 -0.490533    -0.598732\n",
              "21609 -0.381579     0.250534\n",
              "21610 -0.375856    -1.154021\n",
              "21611 -0.381579    -0.522516\n",
              "21612 -0.585868    -1.154021\n",
              "\n",
              "[21613 rows x 2 columns]"
            ],
            "text/html": [
              "\n",
              "  <div id=\"df-ea6e3c87-c220-44ba-9000-c4eda90356a0\">\n",
              "    <div class=\"colab-df-container\">\n",
              "      <div>\n",
              "<style scoped>\n",
              "    .dataframe tbody tr th:only-of-type {\n",
              "        vertical-align: middle;\n",
              "    }\n",
              "\n",
              "    .dataframe tbody tr th {\n",
              "        vertical-align: top;\n",
              "    }\n",
              "\n",
              "    .dataframe thead th {\n",
              "        text-align: right;\n",
              "    }\n",
              "</style>\n",
              "<table border=\"1\" class=\"dataframe\">\n",
              "  <thead>\n",
              "    <tr style=\"text-align: right;\">\n",
              "      <th></th>\n",
              "      <th>price</th>\n",
              "      <th>sqft_living</th>\n",
              "    </tr>\n",
              "  </thead>\n",
              "  <tbody>\n",
              "    <tr>\n",
              "      <th>0</th>\n",
              "      <td>-0.866697</td>\n",
              "      <td>-0.979812</td>\n",
              "    </tr>\n",
              "    <tr>\n",
              "      <th>1</th>\n",
              "      <td>-0.005688</td>\n",
              "      <td>0.533622</td>\n",
              "    </tr>\n",
              "    <tr>\n",
              "      <th>2</th>\n",
              "      <td>-0.980827</td>\n",
              "      <td>-1.426221</td>\n",
              "    </tr>\n",
              "    <tr>\n",
              "      <th>3</th>\n",
              "      <td>0.174086</td>\n",
              "      <td>-0.130547</td>\n",
              "    </tr>\n",
              "    <tr>\n",
              "      <th>4</th>\n",
              "      <td>-0.081956</td>\n",
              "      <td>-0.435412</td>\n",
              "    </tr>\n",
              "    <tr>\n",
              "      <th>...</th>\n",
              "      <td>...</td>\n",
              "      <td>...</td>\n",
              "    </tr>\n",
              "    <tr>\n",
              "      <th>21608</th>\n",
              "      <td>-0.490533</td>\n",
              "      <td>-0.598732</td>\n",
              "    </tr>\n",
              "    <tr>\n",
              "      <th>21609</th>\n",
              "      <td>-0.381579</td>\n",
              "      <td>0.250534</td>\n",
              "    </tr>\n",
              "    <tr>\n",
              "      <th>21610</th>\n",
              "      <td>-0.375856</td>\n",
              "      <td>-1.154021</td>\n",
              "    </tr>\n",
              "    <tr>\n",
              "      <th>21611</th>\n",
              "      <td>-0.381579</td>\n",
              "      <td>-0.522516</td>\n",
              "    </tr>\n",
              "    <tr>\n",
              "      <th>21612</th>\n",
              "      <td>-0.585868</td>\n",
              "      <td>-1.154021</td>\n",
              "    </tr>\n",
              "  </tbody>\n",
              "</table>\n",
              "<p>21613 rows × 2 columns</p>\n",
              "</div>\n",
              "      <button class=\"colab-df-convert\" onclick=\"convertToInteractive('df-ea6e3c87-c220-44ba-9000-c4eda90356a0')\"\n",
              "              title=\"Convert this dataframe to an interactive table.\"\n",
              "              style=\"display:none;\">\n",
              "        \n",
              "  <svg xmlns=\"http://www.w3.org/2000/svg\" height=\"24px\"viewBox=\"0 0 24 24\"\n",
              "       width=\"24px\">\n",
              "    <path d=\"M0 0h24v24H0V0z\" fill=\"none\"/>\n",
              "    <path d=\"M18.56 5.44l.94 2.06.94-2.06 2.06-.94-2.06-.94-.94-2.06-.94 2.06-2.06.94zm-11 1L8.5 8.5l.94-2.06 2.06-.94-2.06-.94L8.5 2.5l-.94 2.06-2.06.94zm10 10l.94 2.06.94-2.06 2.06-.94-2.06-.94-.94-2.06-.94 2.06-2.06.94z\"/><path d=\"M17.41 7.96l-1.37-1.37c-.4-.4-.92-.59-1.43-.59-.52 0-1.04.2-1.43.59L10.3 9.45l-7.72 7.72c-.78.78-.78 2.05 0 2.83L4 21.41c.39.39.9.59 1.41.59.51 0 1.02-.2 1.41-.59l7.78-7.78 2.81-2.81c.8-.78.8-2.07 0-2.86zM5.41 20L4 18.59l7.72-7.72 1.47 1.35L5.41 20z\"/>\n",
              "  </svg>\n",
              "      </button>\n",
              "      \n",
              "  <style>\n",
              "    .colab-df-container {\n",
              "      display:flex;\n",
              "      flex-wrap:wrap;\n",
              "      gap: 12px;\n",
              "    }\n",
              "\n",
              "    .colab-df-convert {\n",
              "      background-color: #E8F0FE;\n",
              "      border: none;\n",
              "      border-radius: 50%;\n",
              "      cursor: pointer;\n",
              "      display: none;\n",
              "      fill: #1967D2;\n",
              "      height: 32px;\n",
              "      padding: 0 0 0 0;\n",
              "      width: 32px;\n",
              "    }\n",
              "\n",
              "    .colab-df-convert:hover {\n",
              "      background-color: #E2EBFA;\n",
              "      box-shadow: 0px 1px 2px rgba(60, 64, 67, 0.3), 0px 1px 3px 1px rgba(60, 64, 67, 0.15);\n",
              "      fill: #174EA6;\n",
              "    }\n",
              "\n",
              "    [theme=dark] .colab-df-convert {\n",
              "      background-color: #3B4455;\n",
              "      fill: #D2E3FC;\n",
              "    }\n",
              "\n",
              "    [theme=dark] .colab-df-convert:hover {\n",
              "      background-color: #434B5C;\n",
              "      box-shadow: 0px 1px 3px 1px rgba(0, 0, 0, 0.15);\n",
              "      filter: drop-shadow(0px 1px 2px rgba(0, 0, 0, 0.3));\n",
              "      fill: #FFFFFF;\n",
              "    }\n",
              "  </style>\n",
              "\n",
              "      <script>\n",
              "        const buttonEl =\n",
              "          document.querySelector('#df-ea6e3c87-c220-44ba-9000-c4eda90356a0 button.colab-df-convert');\n",
              "        buttonEl.style.display =\n",
              "          google.colab.kernel.accessAllowed ? 'block' : 'none';\n",
              "\n",
              "        async function convertToInteractive(key) {\n",
              "          const element = document.querySelector('#df-ea6e3c87-c220-44ba-9000-c4eda90356a0');\n",
              "          const dataTable =\n",
              "            await google.colab.kernel.invokeFunction('convertToInteractive',\n",
              "                                                     [key], {});\n",
              "          if (!dataTable) return;\n",
              "\n",
              "          const docLinkHtml = 'Like what you see? Visit the ' +\n",
              "            '<a target=\"_blank\" href=https://colab.research.google.com/notebooks/data_table.ipynb>data table notebook</a>'\n",
              "            + ' to learn more about interactive tables.';\n",
              "          element.innerHTML = '';\n",
              "          dataTable['output_type'] = 'display_data';\n",
              "          await google.colab.output.renderOutput(dataTable, element);\n",
              "          const docLink = document.createElement('div');\n",
              "          docLink.innerHTML = docLinkHtml;\n",
              "          element.appendChild(docLink);\n",
              "        }\n",
              "      </script>\n",
              "    </div>\n",
              "  </div>\n",
              "  "
            ]
          },
          "metadata": {},
          "execution_count": 12
        }
      ]
    },
    {
      "cell_type": "code",
      "source": [
        "sns.regplot(x= df_price_sqft['sqft_living'],y= df_price_sqft['price'])"
      ],
      "metadata": {
        "colab": {
          "base_uri": "https://localhost:8080/",
          "height": 298
        },
        "id": "KeQNnRfH1bBc",
        "outputId": "b8ab1e3d-a548-43f4-d8d3-b6da7af5625b"
      },
      "execution_count": 13,
      "outputs": [
        {
          "output_type": "execute_result",
          "data": {
            "text/plain": [
              "<matplotlib.axes._subplots.AxesSubplot at 0x7fd248ad0350>"
            ]
          },
          "metadata": {},
          "execution_count": 13
        },
        {
          "output_type": "display_data",
          "data": {
            "text/plain": [
              "<Figure size 432x288 with 1 Axes>"
            ],
            "image/png": "[encoded data removed]"
          },
          "metadata": {
            "needs_background": "light"
          }
        }
      ]
    },
    {
      "cell_type": "markdown",
      "source": [
        "### E"
      ],
      "metadata": {
        "id": "gQA34kVI39_4"
      }
    },
    {
      "cell_type": "code",
      "source": [
        "df['year']= df.date.apply(lambda x: x[:4])"
      ],
      "metadata": {
        "id": "ywJeVXpH3cx-"
      },
      "execution_count": 14,
      "outputs": []
    },
    {
      "cell_type": "code",
      "source": [
        "df['month']= df.date.apply(lambda x: x[4:6])"
      ],
      "metadata": {
        "id": "9womiKbx4Enu"
      },
      "execution_count": 15,
      "outputs": []
    },
    {
      "cell_type": "code",
      "source": [
        "df.drop('date', axis= 1, inplace= True)"
      ],
      "metadata": {
        "id": "WXUcjlc74G-r"
      },
      "execution_count": 16,
      "outputs": []
    },
    {
      "cell_type": "code",
      "source": [
        "df.year= df.year.astype(int)\n",
        "df.month= df.month.astype(int)"
      ],
      "metadata": {
        "id": "dKSOdDD24JVO"
      },
      "execution_count": 17,
      "outputs": []
    },
    {
      "cell_type": "code",
      "source": [
        "df.head()"
      ],
      "metadata": {
        "colab": {
          "base_uri": "https://localhost:8080/",
          "height": 299
        },
        "id": "J847BKrw4LPM",
        "outputId": "6944aa5b-502e-4c44-fb31-0a55d8970623"
      },
      "execution_count": 18,
      "outputs": [
        {
          "output_type": "execute_result",
          "data": {
            "text/plain": [
              "           id     price  bedrooms  bathrooms  sqft_living  sqft_lot  floors  \\\n",
              "0  7129300520  221900.0         3       1.00         1180      5650     1.0   \n",
              "1  6414100192  538000.0         3       2.25         2570      7242     2.0   \n",
              "2  5631500400  180000.0         2       1.00          770     10000     1.0   \n",
              "3  2487200875  604000.0         4       3.00         1960      5000     1.0   \n",
              "4  1954400510  510000.0         3       2.00         1680      8080     1.0   \n",
              "\n",
              "   waterfront  view  condition  ...  sqft_basement  yr_built  yr_renovated  \\\n",
              "0           0     0          3  ...              0      1955             0   \n",
              "1           0     0          3  ...            400      1951          1991   \n",
              "2           0     0          3  ...              0      1933             0   \n",
              "3           0     0          5  ...            910      1965             0   \n",
              "4           0     0          3  ...              0      1987             0   \n",
              "\n",
              "   zipcode      lat     long  sqft_living15  sqft_lot15  year  month  \n",
              "0    98178  47.5112 -122.257           1340        5650  2014     10  \n",
              "1    98125  47.7210 -122.319           1690        7639  2014     12  \n",
              "2    98028  47.7379 -122.233           2720        8062  2015      2  \n",
              "3    98136  47.5208 -122.393           1360        5000  2014     12  \n",
              "4    98074  47.6168 -122.045           1800        7503  2015      2  \n",
              "\n",
              "[5 rows x 22 columns]"
            ],
            "text/html": [
              "\n",
              "  <div id=\"df-cc2484d7-db5a-4fb4-9ccf-912ddcd2a9e3\">\n",
              "    <div class=\"colab-df-container\">\n",
              "      <div>\n",
              "<style scoped>\n",
              "    .dataframe tbody tr th:only-of-type {\n",
              "        vertical-align: middle;\n",
              "    }\n",
              "\n",
              "    .dataframe tbody tr th {\n",
              "        vertical-align: top;\n",
              "    }\n",
              "\n",
              "    .dataframe thead th {\n",
              "        text-align: right;\n",
              "    }\n",
              "</style>\n",
              "<table border=\"1\" class=\"dataframe\">\n",
              "  <thead>\n",
              "    <tr style=\"text-align: right;\">\n",
              "      <th></th>\n",
              "      <th>id</th>\n",
              "      <th>price</th>\n",
              "      <th>bedrooms</th>\n",
              "      <th>bathrooms</th>\n",
              "      <th>sqft_living</th>\n",
              "      <th>sqft_lot</th>\n",
              "      <th>floors</th>\n",
              "      <th>waterfront</th>\n",
              "      <th>view</th>\n",
              "      <th>condition</th>\n",
              "      <th>...</th>\n",
              "      <th>sqft_basement</th>\n",
              "      <th>yr_built</th>\n",
              "      <th>yr_renovated</th>\n",
              "      <th>zipcode</th>\n",
              "      <th>lat</th>\n",
              "      <th>long</th>\n",
              "      <th>sqft_living15</th>\n",
              "      <th>sqft_lot15</th>\n",
              "      <th>year</th>\n",
              "      <th>month</th>\n",
              "    </tr>\n",
              "  </thead>\n",
              "  <tbody>\n",
              "    <tr>\n",
              "      <th>0</th>\n",
              "      <td>7129300520</td>\n",
              "      <td>221900.0</td>\n",
              "      <td>3</td>\n",
              "      <td>1.00</td>\n",
              "      <td>1180</td>\n",
              "      <td>5650</td>\n",
              "      <td>1.0</td>\n",
              "      <td>0</td>\n",
              "      <td>0</td>\n",
              "      <td>3</td>\n",
              "      <td>...</td>\n",
              "      <td>0</td>\n",
              "      <td>1955</td>\n",
              "      <td>0</td>\n",
              "      <td>98178</td>\n",
              "      <td>47.5112</td>\n",
              "      <td>-122.257</td>\n",
              "      <td>1340</td>\n",
              "      <td>5650</td>\n",
              "      <td>2014</td>\n",
              "      <td>10</td>\n",
              "    </tr>\n",
              "    <tr>\n",
              "      <th>1</th>\n",
              "      <td>6414100192</td>\n",
              "      <td>538000.0</td>\n",
              "      <td>3</td>\n",
              "      <td>2.25</td>\n",
              "      <td>2570</td>\n",
              "      <td>7242</td>\n",
              "      <td>2.0</td>\n",
              "      <td>0</td>\n",
              "      <td>0</td>\n",
              "      <td>3</td>\n",
              "      <td>...</td>\n",
              "      <td>400</td>\n",
              "      <td>1951</td>\n",
              "      <td>1991</td>\n",
              "      <td>98125</td>\n",
              "      <td>47.7210</td>\n",
              "      <td>-122.319</td>\n",
              "      <td>1690</td>\n",
              "      <td>7639</td>\n",
              "      <td>2014</td>\n",
              "      <td>12</td>\n",
              "    </tr>\n",
              "    <tr>\n",
              "      <th>2</th>\n",
              "      <td>5631500400</td>\n",
              "      <td>180000.0</td>\n",
              "      <td>2</td>\n",
              "      <td>1.00</td>\n",
              "      <td>770</td>\n",
              "      <td>10000</td>\n",
              "      <td>1.0</td>\n",
              "      <td>0</td>\n",
              "      <td>0</td>\n",
              "      <td>3</td>\n",
              "      <td>...</td>\n",
              "      <td>0</td>\n",
              "      <td>1933</td>\n",
              "      <td>0</td>\n",
              "      <td>98028</td>\n",
              "      <td>47.7379</td>\n",
              "      <td>-122.233</td>\n",
              "      <td>2720</td>\n",
              "      <td>8062</td>\n",
              "      <td>2015</td>\n",
              "      <td>2</td>\n",
              "    </tr>\n",
              "    <tr>\n",
              "      <th>3</th>\n",
              "      <td>2487200875</td>\n",
              "      <td>604000.0</td>\n",
              "      <td>4</td>\n",
              "      <td>3.00</td>\n",
              "      <td>1960</td>\n",
              "      <td>5000</td>\n",
              "      <td>1.0</td>\n",
              "      <td>0</td>\n",
              "      <td>0</td>\n",
              "      <td>5</td>\n",
              "      <td>...</td>\n",
              "      <td>910</td>\n",
              "      <td>1965</td>\n",
              "      <td>0</td>\n",
              "      <td>98136</td>\n",
              "      <td>47.5208</td>\n",
              "      <td>-122.393</td>\n",
              "      <td>1360</td>\n",
              "      <td>5000</td>\n",
              "      <td>2014</td>\n",
              "      <td>12</td>\n",
              "    </tr>\n",
              "    <tr>\n",
              "      <th>4</th>\n",
              "      <td>1954400510</td>\n",
              "      <td>510000.0</td>\n",
              "      <td>3</td>\n",
              "      <td>2.00</td>\n",
              "      <td>1680</td>\n",
              "      <td>8080</td>\n",
              "      <td>1.0</td>\n",
              "      <td>0</td>\n",
              "      <td>0</td>\n",
              "      <td>3</td>\n",
              "      <td>...</td>\n",
              "      <td>0</td>\n",
              "      <td>1987</td>\n",
              "      <td>0</td>\n",
              "      <td>98074</td>\n",
              "      <td>47.6168</td>\n",
              "      <td>-122.045</td>\n",
              "      <td>1800</td>\n",
              "      <td>7503</td>\n",
              "      <td>2015</td>\n",
              "      <td>2</td>\n",
              "    </tr>\n",
              "  </tbody>\n",
              "</table>\n",
              "<p>5 rows × 22 columns</p>\n",
              "</div>\n",
              "      <button class=\"colab-df-convert\" onclick=\"convertToInteractive('df-cc2484d7-db5a-4fb4-9ccf-912ddcd2a9e3')\"\n",
              "              title=\"Convert this dataframe to an interactive table.\"\n",
              "              style=\"display:none;\">\n",
              "        \n",
              "  <svg xmlns=\"http://www.w3.org/2000/svg\" height=\"24px\"viewBox=\"0 0 24 24\"\n",
              "       width=\"24px\">\n",
              "    <path d=\"M0 0h24v24H0V0z\" fill=\"none\"/>\n",
              "    <path d=\"M18.56 5.44l.94 2.06.94-2.06 2.06-.94-2.06-.94-.94-2.06-.94 2.06-2.06.94zm-11 1L8.5 8.5l.94-2.06 2.06-.94-2.06-.94L8.5 2.5l-.94 2.06-2.06.94zm10 10l.94 2.06.94-2.06 2.06-.94-2.06-.94-.94-2.06-.94 2.06-2.06.94z\"/><path d=\"M17.41 7.96l-1.37-1.37c-.4-.4-.92-.59-1.43-.59-.52 0-1.04.2-1.43.59L10.3 9.45l-7.72 7.72c-.78.78-.78 2.05 0 2.83L4 21.41c.39.39.9.59 1.41.59.51 0 1.02-.2 1.41-.59l7.78-7.78 2.81-2.81c.8-.78.8-2.07 0-2.86zM5.41 20L4 18.59l7.72-7.72 1.47 1.35L5.41 20z\"/>\n",
              "  </svg>\n",
              "      </button>\n",
              "      \n",
              "  <style>\n",
              "    .colab-df-container {\n",
              "      display:flex;\n",
              "      flex-wrap:wrap;\n",
              "      gap: 12px;\n",
              "    }\n",
              "\n",
              "    .colab-df-convert {\n",
              "      background-color: #E8F0FE;\n",
              "      border: none;\n",
              "      border-radius: 50%;\n",
              "      cursor: pointer;\n",
              "      display: none;\n",
              "      fill: #1967D2;\n",
              "      height: 32px;\n",
              "      padding: 0 0 0 0;\n",
              "      width: 32px;\n",
              "    }\n",
              "\n",
              "    .colab-df-convert:hover {\n",
              "      background-color: #E2EBFA;\n",
              "      box-shadow: 0px 1px 2px rgba(60, 64, 67, 0.3), 0px 1px 3px 1px rgba(60, 64, 67, 0.15);\n",
              "      fill: #174EA6;\n",
              "    }\n",
              "\n",
              "    [theme=dark] .colab-df-convert {\n",
              "      background-color: #3B4455;\n",
              "      fill: #D2E3FC;\n",
              "    }\n",
              "\n",
              "    [theme=dark] .colab-df-convert:hover {\n",
              "      background-color: #434B5C;\n",
              "      box-shadow: 0px 1px 3px 1px rgba(0, 0, 0, 0.15);\n",
              "      filter: drop-shadow(0px 1px 2px rgba(0, 0, 0, 0.3));\n",
              "      fill: #FFFFFF;\n",
              "    }\n",
              "  </style>\n",
              "\n",
              "      <script>\n",
              "        const buttonEl =\n",
              "          document.querySelector('#df-cc2484d7-db5a-4fb4-9ccf-912ddcd2a9e3 button.colab-df-convert');\n",
              "        buttonEl.style.display =\n",
              "          google.colab.kernel.accessAllowed ? 'block' : 'none';\n",
              "\n",
              "        async function convertToInteractive(key) {\n",
              "          const element = document.querySelector('#df-cc2484d7-db5a-4fb4-9ccf-912ddcd2a9e3');\n",
              "          const dataTable =\n",
              "            await google.colab.kernel.invokeFunction('convertToInteractive',\n",
              "                                                     [key], {});\n",
              "          if (!dataTable) return;\n",
              "\n",
              "          const docLinkHtml = 'Like what you see? Visit the ' +\n",
              "            '<a target=\"_blank\" href=https://colab.research.google.com/notebooks/data_table.ipynb>data table notebook</a>'\n",
              "            + ' to learn more about interactive tables.';\n",
              "          element.innerHTML = '';\n",
              "          dataTable['output_type'] = 'display_data';\n",
              "          await google.colab.output.renderOutput(dataTable, element);\n",
              "          const docLink = document.createElement('div');\n",
              "          docLink.innerHTML = docLinkHtml;\n",
              "          element.appendChild(docLink);\n",
              "        }\n",
              "      </script>\n",
              "    </div>\n",
              "  </div>\n",
              "  "
            ]
          },
          "metadata": {},
          "execution_count": 18
        }
      ]
    },
    {
      "cell_type": "code",
      "source": [
        "fig = plt.figure(figsize=(16,5))\n",
        "fig.add_subplot(1,2,1)\n",
        "df.groupby('year').mean()['price'].plot()\n",
        "\n",
        "fig.add_subplot(1,2,2)\n",
        "df.groupby('month').mean()['price'].plot(color= 'green')\n"
      ],
      "metadata": {
        "id": "sDQlnLnOgtle",
        "colab": {
          "base_uri": "https://localhost:8080/",
          "height": 352
        },
        "outputId": "32de1413-6425-4679-ee8b-2b1fb2d7dc00"
      },
      "execution_count": 19,
      "outputs": [
        {
          "output_type": "execute_result",
          "data": {
            "text/plain": [
              "<matplotlib.axes._subplots.AxesSubplot at 0x7fd24858a390>"
            ]
          },
          "metadata": {},
          "execution_count": 19
        },
        {
          "output_type": "display_data",
          "data": {
            "text/plain": [
              "<Figure size 1152x360 with 2 Axes>"
            ],
            "image/png": "[encoded data removed]"
          },
          "metadata": {
            "needs_background": "light"
          }
        }
      ]
    },
    {
      "cell_type": "markdown",
      "source": [
        "### F"
      ],
      "metadata": {
        "id": "mgoDryde4VPr"
      }
    },
    {
      "cell_type": "code",
      "source": [
        "#split train & test\n",
        "data= np.array(df.iloc[:,1:])\n",
        "np.random.shuffle(data)"
      ],
      "metadata": {
        "id": "ml0pFeiY4O3w"
      },
      "execution_count": 20,
      "outputs": []
    },
    {
      "cell_type": "code",
      "source": [
        "X= data[:,1:]\n",
        "Y= data[:, 0]"
      ],
      "metadata": {
        "id": "ga1JSwU44YIB"
      },
      "execution_count": 21,
      "outputs": []
    },
    {
      "cell_type": "code",
      "source": [
        "split= int(len(data)*0.8)\n",
        "x_train, x_test= X[:split] , X[split:]\n",
        "y_train, y_test= Y[:split] , Y[split:]"
      ],
      "metadata": {
        "id": "Ov2EbrDc4alA"
      },
      "execution_count": 22,
      "outputs": []
    },
    {
      "cell_type": "code",
      "source": [
        "y_train= y_train.reshape((17290,1))\n",
        "y_test= y_test.reshape((4323,1))"
      ],
      "metadata": {
        "id": "glTbwQg04cy1"
      },
      "execution_count": 23,
      "outputs": []
    },
    {
      "cell_type": "code",
      "source": [
        "print(\"shape of X_train : \", x_train.shape)\n",
        "print(\"shape of y_train : \", y_train.shape)\n",
        "\n",
        "print(\"shape of X_test : \", x_test.shape)\n",
        "print(\"shape of y_test : \", y_test.shape)"
      ],
      "metadata": {
        "colab": {
          "base_uri": "https://localhost:8080/"
        },
        "id": "p6TWEhXP4jNh",
        "outputId": "27e3c917-2947-4009-e839-0605f63c3283"
      },
      "execution_count": 24,
      "outputs": [
        {
          "output_type": "stream",
          "name": "stdout",
          "text": [
            "shape of X_train :  (17290, 20)\n",
            "shape of y_train :  (17290, 1)\n",
            "shape of X_test :  (4323, 20)\n",
            "shape of y_test :  (4323, 1)\n"
          ]
        }
      ]
    },
    {
      "cell_type": "markdown",
      "source": [
        "### G"
      ],
      "metadata": {
        "id": "z2KAjvWC4o0h"
      }
    },
    {
      "cell_type": "code",
      "source": [
        "df.dtypes"
      ],
      "metadata": {
        "colab": {
          "base_uri": "https://localhost:8080/"
        },
        "id": "U945Z2gC4l6j",
        "outputId": "976538f1-f0c6-4e23-c221-5512b348ea4e"
      },
      "execution_count": 25,
      "outputs": [
        {
          "output_type": "execute_result",
          "data": {
            "text/plain": [
              "id                 int64\n",
              "price            float64\n",
              "bedrooms           int64\n",
              "bathrooms        float64\n",
              "sqft_living        int64\n",
              "sqft_lot           int64\n",
              "floors           float64\n",
              "waterfront         int64\n",
              "view               int64\n",
              "condition          int64\n",
              "grade              int64\n",
              "sqft_above         int64\n",
              "sqft_basement      int64\n",
              "yr_built           int64\n",
              "yr_renovated       int64\n",
              "zipcode            int64\n",
              "lat              float64\n",
              "long             float64\n",
              "sqft_living15      int64\n",
              "sqft_lot15         int64\n",
              "year               int64\n",
              "month              int64\n",
              "dtype: object"
            ]
          },
          "metadata": {},
          "execution_count": 25
        }
      ]
    },
    {
      "cell_type": "code",
      "source": [
        "from sklearn.preprocessing import MinMaxScaler"
      ],
      "metadata": {
        "id": "7g7NvDkm4r4a"
      },
      "execution_count": 26,
      "outputs": []
    },
    {
      "cell_type": "code",
      "source": [
        "scaler_x= MinMaxScaler().fit(x_train)"
      ],
      "metadata": {
        "id": "0dn07PFt4vFz"
      },
      "execution_count": 27,
      "outputs": []
    },
    {
      "cell_type": "code",
      "source": [],
      "metadata": {
        "id": "0j43hgpaFBPz"
      },
      "execution_count": 27,
      "outputs": []
    },
    {
      "cell_type": "code",
      "source": [
        "x_train_scaled= scaler_x.transform(x_train)\n",
        "x_train_scaled"
      ],
      "metadata": {
        "colab": {
          "base_uri": "https://localhost:8080/"
        },
        "id": "-08a_vvW4xA4",
        "outputId": "4e26fd9a-f0c1-4679-ed8f-c1ad9ddaeb6a"
      },
      "execution_count": 28,
      "outputs": [
        {
          "output_type": "execute_result",
          "data": {
            "text/plain": [
              "array([[0.09090909, 0.21875   , 0.10188679, ..., 0.22992388, 0.        ,\n",
              "        0.54545455],\n",
              "       [0.09090909, 0.125     , 0.11622642, ..., 0.00840849, 0.        ,\n",
              "        0.45454545],\n",
              "       [0.09090909, 0.21875   , 0.15471698, ..., 0.00589973, 1.        ,\n",
              "        0.36363636],\n",
              "       ...,\n",
              "       [0.12121212, 0.3125    , 0.20377358, ..., 0.01328013, 0.        ,\n",
              "        0.54545455],\n",
              "       [0.09090909, 0.21875   , 0.1154717 , ..., 0.0893195 , 1.        ,\n",
              "        0.27272727],\n",
              "       [0.12121212, 0.28125   , 0.18339623, ..., 0.02026767, 0.        ,\n",
              "        0.72727273]])"
            ]
          },
          "metadata": {},
          "execution_count": 28
        }
      ]
    },
    {
      "cell_type": "code",
      "source": [
        "scaler_y= MinMaxScaler().fit(y_train)\n",
        "y_train_scaled= scaler_y.transform(y_train)\n",
        "y_train_scaled"
      ],
      "metadata": {
        "colab": {
          "base_uri": "https://localhost:8080/"
        },
        "id": "tiZ1ScxNx9hb",
        "outputId": "9210fa5f-df3f-48a4-c94a-006b6c0ec1b9"
      },
      "execution_count": 29,
      "outputs": [
        {
          "output_type": "execute_result",
          "data": {
            "text/plain": [
              "array([[0.05536605],\n",
              "       [0.04270533],\n",
              "       [0.05917082],\n",
              "       ...,\n",
              "       [0.08947783],\n",
              "       [0.03042941],\n",
              "       [0.07438992]])"
            ]
          },
          "metadata": {},
          "execution_count": 29
        }
      ]
    },
    {
      "cell_type": "code",
      "source": [
        "x_test_scaled= scaler_x.transform(x_test)\n",
        "x_test_scaled"
      ],
      "metadata": {
        "colab": {
          "base_uri": "https://localhost:8080/"
        },
        "id": "40ZuBBX5412s",
        "outputId": "143ddbc7-cc83-4660-c5e2-8db9d838902b"
      },
      "execution_count": 30,
      "outputs": [
        {
          "output_type": "execute_result",
          "data": {
            "text/plain": [
              "array([[0.06060606, 0.125     , 0.04981132, ..., 0.00624204, 0.        ,\n",
              "        0.45454545],\n",
              "       [0.09090909, 0.21875   , 0.11320755, ..., 0.06742297, 1.        ,\n",
              "        0.27272727],\n",
              "       [0.06060606, 0.1875    , 0.09554717, ..., 0.01910863, 0.        ,\n",
              "        1.        ],\n",
              "       ...,\n",
              "       [0.12121212, 0.25      , 0.1509434 , ..., 0.0028706 , 1.        ,\n",
              "        0.09090909],\n",
              "       [0.12121212, 0.3125    , 0.13207547, ..., 0.02427204, 1.        ,\n",
              "        0.27272727],\n",
              "       [0.09090909, 0.1875    , 0.13811321, ..., 0.00513354, 0.        ,\n",
              "        1.        ]])"
            ]
          },
          "metadata": {},
          "execution_count": 30
        }
      ]
    },
    {
      "cell_type": "code",
      "source": [
        "y_test_scaled= scaler_y.transform(y_test)\n",
        "y_test_scaled"
      ],
      "metadata": {
        "colab": {
          "base_uri": "https://localhost:8080/"
        },
        "id": "RnDy80m50k2c",
        "outputId": "f90532ca-5554-48bf-a1dd-b36c0e324314"
      },
      "execution_count": 31,
      "outputs": [
        {
          "output_type": "execute_result",
          "data": {
            "text/plain": [
              "array([[0.0317502 ],\n",
              "       [0.0317502 ],\n",
              "       [0.01885332],\n",
              "       ...,\n",
              "       [0.07963789],\n",
              "       [0.05156127],\n",
              "       [0.08600105]])"
            ]
          },
          "metadata": {},
          "execution_count": 31
        }
      ]
    },
    {
      "cell_type": "code",
      "source": [
        "split_val= int(len(x_train_scaled)*0.8)\n",
        "xtrain_scaled, x_val= x_train_scaled[:split_val] , x_train_scaled[split_val:]\n",
        "ytrain_scaled, y_val= y_train_scaled[:split_val] , y_train_scaled[split_val:]"
      ],
      "metadata": {
        "id": "-A-7oeZzZdVO"
      },
      "execution_count": 32,
      "outputs": []
    },
    {
      "cell_type": "code",
      "source": [
        "print(\"shape of X_train : \", xtrain_scaled.shape)\n",
        "print(\"shape of y_train : \", ytrain_scaled.shape)\n",
        "\n",
        "print(\"shape of X_val : \", x_val.shape)\n",
        "print(\"shape of y_val : \", y_val.shape)"
      ],
      "metadata": {
        "colab": {
          "base_uri": "https://localhost:8080/"
        },
        "id": "_O_ufQU6cE8N",
        "outputId": "f401e83c-1212-4dcd-de17-ac7520d8c798"
      },
      "execution_count": 33,
      "outputs": [
        {
          "output_type": "stream",
          "name": "stdout",
          "text": [
            "shape of X_train :  (13832, 20)\n",
            "shape of y_train :  (13832, 1)\n",
            "shape of X_val :  (3458, 20)\n",
            "shape of y_val :  (3458, 1)\n"
          ]
        }
      ]
    },
    {
      "cell_type": "markdown",
      "source": [
        "### H"
      ],
      "metadata": {
        "id": "9dY51hvVHj-E"
      }
    },
    {
      "cell_type": "code",
      "source": [
        "import torch\n",
        "import torch.nn as nn\n",
        "import torch.nn.functional as F "
      ],
      "metadata": {
        "id": "kOw1qwx9H8Nx"
      },
      "execution_count": 34,
      "outputs": []
    },
    {
      "cell_type": "code",
      "source": [
        "class MLP(nn.Module):\n",
        "    def __init__(self, in_x, n_h1, n_h2, n_y):\n",
        "        super().__init__()\n",
        "\n",
        "        self.input_fc = nn.Linear(in_x, n_h1)\n",
        "        self.hidden_fc = nn.Linear(n_h1, n_h2)\n",
        "        self.output_fc = nn.Linear(n_h2, n_y)\n",
        "\n",
        "    def forward(self, x):\n",
        "\n",
        "        h_1 = F.relu(self.input_fc(x))\n",
        "\n",
        "        h_2 = F.relu(self.hidden_fc(h_1))\n",
        "\n",
        "        y_pred = self.output_fc(h_2)\n",
        "\n",
        "        return y_pred"
      ],
      "metadata": {
        "id": "lPhbVWULH11V"
      },
      "execution_count": 35,
      "outputs": []
    },
    {
      "cell_type": "markdown",
      "source": [
        "### I"
      ],
      "metadata": {
        "id": "sHTkg7o8IKMv"
      }
    },
    {
      "cell_type": "code",
      "source": [
        "from torch.utils.data import Dataset\n",
        "from torch.utils.data import DataLoader\n",
        "from torch import optim\n",
        "from torch.optim.lr_scheduler import StepLR\n",
        "from tqdm import tqdm"
      ],
      "metadata": {
        "id": "8zylbEsNITI4"
      },
      "execution_count": 36,
      "outputs": []
    },
    {
      "cell_type": "code",
      "source": [
        "class myDataset(Dataset):\n",
        "  '''\n",
        "  Prepare the dataset\n",
        "  '''\n",
        "\n",
        "  def __init__(self, X, y):\n",
        "      self.X = torch.from_numpy(X).float()\n",
        "      self.y = torch.from_numpy(y).float()\n",
        "\n",
        "  def __len__(self):\n",
        "      return len(self.X)\n",
        "\n",
        "  def __getitem__(self, i):\n",
        "      return self.X[i], self.y[i]"
      ],
      "metadata": {
        "id": "YsRwmqZqH-bF"
      },
      "execution_count": 37,
      "outputs": []
    },
    {
      "cell_type": "code",
      "source": [
        "train_data = myDataset(xtrain_scaled, ytrain_scaled)\n",
        "val_data = myDataset(x_val, y_val)\n",
        "test_data = myDataset(x_test_scaled, y_test_scaled)"
      ],
      "metadata": {
        "id": "bR91SK7bIV3r"
      },
      "execution_count": 38,
      "outputs": []
    },
    {
      "cell_type": "code",
      "source": [
        "BATCH_SIZE = 10\n",
        "\n",
        "train_loader = DataLoader(train_data,\n",
        "                                 shuffle=True,\n",
        "                                 batch_size=BATCH_SIZE)\n",
        "\n",
        "val_loader = DataLoader(val_data,\n",
        "                                 batch_size=BATCH_SIZE)\n",
        "\n",
        "test_loader = DataLoader(test_data,\n",
        "                         shuffle=True,\n",
        "                                batch_size=BATCH_SIZE)"
      ],
      "metadata": {
        "id": "ecSnbEofIV0X"
      },
      "execution_count": 39,
      "outputs": []
    },
    {
      "cell_type": "markdown",
      "source": [
        "#### We examine four different modes:"
      ],
      "metadata": {
        "id": "TIpCbLTxU_Ij"
      }
    },
    {
      "cell_type": "code",
      "source": [
        "#1\n",
        "def MSE_SGD(net):\n",
        "    #Mean Squared Error Loss Function\n",
        "    criterion = nn.MSELoss()\n",
        "    # SGD\n",
        "    optimizer = optim.SGD(net.parameters(), lr=10e-4, momentum=0.9,weight_decay=4e-6)\n",
        "    name_loss_optim = 'Train & Validation Loss (Model1: Loss Function= MSE, optimizer= SGD)'\n",
        "    return criterion, optimizer, name_loss_optim"
      ],
      "metadata": {
        "id": "U4MUzLN8jU-w"
      },
      "execution_count": 40,
      "outputs": []
    },
    {
      "cell_type": "code",
      "source": [
        "#2\n",
        "def MSE_ADAM(net):\n",
        "   #Mean Squared Error Loss Function\n",
        "    criterion = nn.MSELoss()\n",
        "    #ADAM\n",
        "    optimizer = optim.Adam(net.parameters())\n",
        "    name_loss_optim = 'Train & Validation Loss (Model2: Loss Function= MSE, optimizer= Adam)'\n",
        "    return criterion, optimizer, name_loss_optim"
      ],
      "metadata": {
        "id": "lfOvm8OsIVuh"
      },
      "execution_count": 41,
      "outputs": []
    },
    {
      "cell_type": "code",
      "source": [
        "#3\n",
        "def L1_SGD(net):\n",
        "    #Mean Absolute Error (L1 Loss Function)\n",
        "    criterion = nn.L1Loss()\n",
        "    # SGD\n",
        "    optimizer = optim.SGD(net.parameters(), lr=10e-4, momentum=0.9,weight_decay=4e-6)\n",
        "    name_loss_optim = 'Train & Validation Loss (Model3: Loss Function= L1, optimizer= SGD)'\n",
        "    return criterion, optimizer, name_loss_optim"
      ],
      "metadata": {
        "id": "C1GUZk0cIVsZ"
      },
      "execution_count": 42,
      "outputs": []
    },
    {
      "cell_type": "code",
      "source": [
        "#4\n",
        "def L1_ADAM(net):\n",
        "    #Mean Absolute Error (L1 Loss Function)\n",
        "    criterion = nn.L1Loss()\n",
        "    #ADAM\n",
        "    optimizer = optim.Adam(net.parameters())\n",
        "    name_loss_optim = 'Train & Validation Loss (Model4: Loss Function= L1, optimizer= Adam)'\n",
        "    return criterion, optimizer, name_loss_optim"
      ],
      "metadata": {
        "id": "4rNrsVUAIVpC"
      },
      "execution_count": 43,
      "outputs": []
    },
    {
      "cell_type": "markdown",
      "source": [
        "### J"
      ],
      "metadata": {
        "id": "MKlgs0YORWA-"
      }
    },
    {
      "cell_type": "code",
      "source": [
        "#model 1"
      ],
      "metadata": {
        "id": "7KZVRkACmAYj"
      },
      "execution_count": 44,
      "outputs": []
    },
    {
      "cell_type": "code",
      "source": [
        "net1= MLP(x_train_scaled.shape[1], 30, 15, y_train.shape[1])"
      ],
      "metadata": {
        "id": "RC2P2Eu1PxV1"
      },
      "execution_count": 45,
      "outputs": []
    },
    {
      "cell_type": "code",
      "source": [
        "criterion, optimizer, name_loss_optim= MSE_SGD(net1)"
      ],
      "metadata": {
        "id": "6qrLRhl0ke9P"
      },
      "execution_count": 46,
      "outputs": []
    },
    {
      "cell_type": "code",
      "source": [
        "scheduler = StepLR(optimizer, step_size=4, gamma=0.5)\n",
        "device = torch.device('cuda:0' if torch.cuda.is_available() else 'cpu')"
      ],
      "metadata": {
        "id": "QWVyPbRllw2R"
      },
      "execution_count": 47,
      "outputs": []
    },
    {
      "cell_type": "code",
      "source": [
        "net1.to(device)\n",
        "total_epochs = 30\n",
        "train_loss = []\n",
        "val_loss = []\n",
        "\n",
        "for epoch in range(total_epochs):\n",
        "    total_train_loss = 0\n",
        "    total_val_loss = 0\n",
        "    \n",
        "    net1.train()\n",
        "    train_batch_number= 1\n",
        "    train_batches = tqdm(train_loader)\n",
        "    for (x,y) in train_batches:\n",
        "        x , y = x.to(device), y.to(device)\n",
        "        net_output = net1(x)\n",
        "        tr_loss = criterion(net_output,y)\n",
        "        optimizer.zero_grad()\n",
        "        tr_loss.backward()\n",
        "        optimizer.step()\n",
        "        total_train_loss += tr_loss.item()\n",
        "        mean_train_loss = total_train_loss/train_batch_number\n",
        "        train_batch_number += 1\n",
        "        \n",
        "        train_batches.set_postfix(loss=mean_train_loss, refresh=True)\n",
        "    train_loss.append(mean_train_loss)\n",
        "  \n",
        "    with torch.no_grad():\n",
        "        net1.eval()\n",
        "        val_batch_number = 1\n",
        "        val_batches = tqdm(val_loader)\n",
        "        for (x,y) in val_batches:\n",
        "            x , y = x.to(device), y.to(device)\n",
        "            net_output = net1(x)\n",
        "            tst_loss = criterion(net_output , y)\n",
        "            total_val_loss += tst_loss.item()\n",
        "            mean_val_loss = total_val_loss / val_batch_number\n",
        "            val_batch_number += 1\n",
        "            \n",
        "            val_batches.set_postfix(loss=mean_val_loss, refresh=True)\n",
        "        val_loss.append(mean_val_loss)\n",
        "        \n",
        "        print(f'at epoch {epoch+1}  train loss is {mean_train_loss}')\n",
        "        print(f'at epoch {epoch+1}  val loss is {mean_val_loss}')\n",
        "    scheduler.step()"
      ],
      "metadata": {
        "colab": {
          "base_uri": "https://localhost:8080/"
        },
        "id": "KY4n3EO1d8Cz",
        "outputId": "cb02118c-c01d-43d3-a4b0-8fe546d589e0"
      },
      "execution_count": 48,
      "outputs": [
        {
          "output_type": "stream",
          "name": "stderr",
          "text": [
            "100%|██████████| 1384/1384 [00:05<00:00, 241.87it/s, loss=0.00258]\n",
            "100%|██████████| 346/346 [00:00<00:00, 361.53it/s, loss=0.00243]\n"
          ]
        },
        {
          "output_type": "stream",
          "name": "stdout",
          "text": [
            "at epoch 1  train loss is 0.0025781873847372902\n",
            "at epoch 1  val loss is 0.0024344990771574056\n"
          ]
        },
        {
          "output_type": "stream",
          "name": "stderr",
          "text": [
            "100%|██████████| 1384/1384 [00:06<00:00, 207.23it/s, loss=0.00209]\n",
            "100%|██████████| 346/346 [00:00<00:00, 421.08it/s, loss=0.00225]\n"
          ]
        },
        {
          "output_type": "stream",
          "name": "stdout",
          "text": [
            "at epoch 2  train loss is 0.0020902055434896013\n",
            "at epoch 2  val loss is 0.002248143888745831\n"
          ]
        },
        {
          "output_type": "stream",
          "name": "stderr",
          "text": [
            "100%|██████████| 1384/1384 [00:06<00:00, 221.14it/s, loss=0.00194]\n",
            "100%|██████████| 346/346 [00:00<00:00, 417.01it/s, loss=0.00212]\n"
          ]
        },
        {
          "output_type": "stream",
          "name": "stdout",
          "text": [
            "at epoch 3  train loss is 0.0019427602436278093\n",
            "at epoch 3  val loss is 0.0021229428661424625\n"
          ]
        },
        {
          "output_type": "stream",
          "name": "stderr",
          "text": [
            "100%|██████████| 1384/1384 [00:06<00:00, 225.05it/s, loss=0.00184]\n",
            "100%|██████████| 346/346 [00:01<00:00, 289.71it/s, loss=0.00203]\n"
          ]
        },
        {
          "output_type": "stream",
          "name": "stdout",
          "text": [
            "at epoch 4  train loss is 0.001835028243923561\n",
            "at epoch 4  val loss is 0.0020266691169542033\n"
          ]
        },
        {
          "output_type": "stream",
          "name": "stderr",
          "text": [
            "100%|██████████| 1384/1384 [00:06<00:00, 207.82it/s, loss=0.00176]\n",
            "100%|██████████| 346/346 [00:00<00:00, 357.76it/s, loss=0.00196]\n"
          ]
        },
        {
          "output_type": "stream",
          "name": "stdout",
          "text": [
            "at epoch 5  train loss is 0.0017637851174133353\n",
            "at epoch 5  val loss is 0.0019645823215906954\n"
          ]
        },
        {
          "output_type": "stream",
          "name": "stderr",
          "text": [
            "100%|██████████| 1384/1384 [00:06<00:00, 203.21it/s, loss=0.00172]\n",
            "100%|██████████| 346/346 [00:00<00:00, 431.25it/s, loss=0.00192]\n"
          ]
        },
        {
          "output_type": "stream",
          "name": "stdout",
          "text": [
            "at epoch 6  train loss is 0.0017178484552359964\n",
            "at epoch 6  val loss is 0.0019175390427934834\n"
          ]
        },
        {
          "output_type": "stream",
          "name": "stderr",
          "text": [
            "100%|██████████| 1384/1384 [00:07<00:00, 196.09it/s, loss=0.00168]\n",
            "100%|██████████| 346/346 [00:00<00:00, 479.34it/s, loss=0.00187]\n"
          ]
        },
        {
          "output_type": "stream",
          "name": "stdout",
          "text": [
            "at epoch 7  train loss is 0.0016753924944847007\n",
            "at epoch 7  val loss is 0.0018720606550899997\n"
          ]
        },
        {
          "output_type": "stream",
          "name": "stderr",
          "text": [
            "100%|██████████| 1384/1384 [00:06<00:00, 200.82it/s, loss=0.00163]\n",
            "100%|██████████| 346/346 [00:00<00:00, 395.48it/s, loss=0.00183]\n"
          ]
        },
        {
          "output_type": "stream",
          "name": "stdout",
          "text": [
            "at epoch 8  train loss is 0.0016339742419115356\n",
            "at epoch 8  val loss is 0.0018310005049997768\n"
          ]
        },
        {
          "output_type": "stream",
          "name": "stderr",
          "text": [
            "100%|██████████| 1384/1384 [00:06<00:00, 216.07it/s, loss=0.0016]\n",
            "100%|██████████| 346/346 [00:01<00:00, 318.06it/s, loss=0.00181]\n"
          ]
        },
        {
          "output_type": "stream",
          "name": "stdout",
          "text": [
            "at epoch 9  train loss is 0.0016041649107999525\n",
            "at epoch 9  val loss is 0.0018072861715790552\n"
          ]
        },
        {
          "output_type": "stream",
          "name": "stderr",
          "text": [
            "100%|██████████| 1384/1384 [00:06<00:00, 226.43it/s, loss=0.00158]\n",
            "100%|██████████| 346/346 [00:01<00:00, 333.46it/s, loss=0.00179]\n"
          ]
        },
        {
          "output_type": "stream",
          "name": "stdout",
          "text": [
            "at epoch 10  train loss is 0.0015846279920406021\n",
            "at epoch 10  val loss is 0.0017870153520256954\n"
          ]
        },
        {
          "output_type": "stream",
          "name": "stderr",
          "text": [
            "100%|██████████| 1384/1384 [00:06<00:00, 222.91it/s, loss=0.00157]\n",
            "100%|██████████| 346/346 [00:01<00:00, 311.34it/s, loss=0.00177]\n"
          ]
        },
        {
          "output_type": "stream",
          "name": "stdout",
          "text": [
            "at epoch 11  train loss is 0.0015650529786014917\n",
            "at epoch 11  val loss is 0.0017664967867043785\n"
          ]
        },
        {
          "output_type": "stream",
          "name": "stderr",
          "text": [
            "100%|██████████| 1384/1384 [00:06<00:00, 207.47it/s, loss=0.00155]\n",
            "100%|██████████| 346/346 [00:00<00:00, 451.18it/s, loss=0.00175]\n"
          ]
        },
        {
          "output_type": "stream",
          "name": "stdout",
          "text": [
            "at epoch 12  train loss is 0.0015468129438510646\n",
            "at epoch 12  val loss is 0.0017453422687050747\n"
          ]
        },
        {
          "output_type": "stream",
          "name": "stderr",
          "text": [
            "100%|██████████| 1384/1384 [00:06<00:00, 204.39it/s, loss=0.00153]\n",
            "100%|██████████| 346/346 [00:00<00:00, 431.72it/s, loss=0.00174]\n"
          ]
        },
        {
          "output_type": "stream",
          "name": "stdout",
          "text": [
            "at epoch 13  train loss is 0.0015332912508642818\n",
            "at epoch 13  val loss is 0.0017355425105241096\n"
          ]
        },
        {
          "output_type": "stream",
          "name": "stderr",
          "text": [
            "100%|██████████| 1384/1384 [00:06<00:00, 230.34it/s, loss=0.00152]\n",
            "100%|██████████| 346/346 [00:01<00:00, 260.45it/s, loss=0.00173]\n"
          ]
        },
        {
          "output_type": "stream",
          "name": "stdout",
          "text": [
            "at epoch 14  train loss is 0.0015239915296634625\n",
            "at epoch 14  val loss is 0.0017266947305202753\n"
          ]
        },
        {
          "output_type": "stream",
          "name": "stderr",
          "text": [
            "100%|██████████| 1384/1384 [00:05<00:00, 232.74it/s, loss=0.00151]\n",
            "100%|██████████| 346/346 [00:01<00:00, 267.72it/s, loss=0.00172]\n"
          ]
        },
        {
          "output_type": "stream",
          "name": "stdout",
          "text": [
            "at epoch 15  train loss is 0.0015147870769391574\n",
            "at epoch 15  val loss is 0.0017159090737529257\n"
          ]
        },
        {
          "output_type": "stream",
          "name": "stderr",
          "text": [
            "100%|██████████| 1384/1384 [00:06<00:00, 226.66it/s, loss=0.00151]\n",
            "100%|██████████| 346/346 [00:01<00:00, 327.67it/s, loss=0.00171]\n"
          ]
        },
        {
          "output_type": "stream",
          "name": "stdout",
          "text": [
            "at epoch 16  train loss is 0.0015060759919649797\n",
            "at epoch 16  val loss is 0.001706532639618041\n"
          ]
        },
        {
          "output_type": "stream",
          "name": "stderr",
          "text": [
            "100%|██████████| 1384/1384 [00:06<00:00, 209.29it/s, loss=0.0015]\n",
            "100%|██████████| 346/346 [00:00<00:00, 373.92it/s, loss=0.0017]\n"
          ]
        },
        {
          "output_type": "stream",
          "name": "stdout",
          "text": [
            "at epoch 17  train loss is 0.0014993491461062916\n",
            "at epoch 17  val loss is 0.0017016962153525521\n"
          ]
        },
        {
          "output_type": "stream",
          "name": "stderr",
          "text": [
            "100%|██████████| 1384/1384 [00:06<00:00, 207.86it/s, loss=0.0015]\n",
            "100%|██████████| 346/346 [00:00<00:00, 480.38it/s, loss=0.0017]\n"
          ]
        },
        {
          "output_type": "stream",
          "name": "stdout",
          "text": [
            "at epoch 18  train loss is 0.0014952990401081079\n",
            "at epoch 18  val loss is 0.0016970322180343885\n"
          ]
        },
        {
          "output_type": "stream",
          "name": "stderr",
          "text": [
            "100%|██████████| 1384/1384 [00:06<00:00, 226.57it/s, loss=0.00149]\n",
            "100%|██████████| 346/346 [00:00<00:00, 348.51it/s, loss=0.00169]\n"
          ]
        },
        {
          "output_type": "stream",
          "name": "stdout",
          "text": [
            "at epoch 19  train loss is 0.0014905231842468611\n",
            "at epoch 19  val loss is 0.0016923838672004412\n"
          ]
        },
        {
          "output_type": "stream",
          "name": "stderr",
          "text": [
            "100%|██████████| 1384/1384 [00:07<00:00, 195.17it/s, loss=0.00149]\n",
            "100%|██████████| 346/346 [00:00<00:00, 351.91it/s, loss=0.00169]\n"
          ]
        },
        {
          "output_type": "stream",
          "name": "stdout",
          "text": [
            "at epoch 20  train loss is 0.0014862790894451955\n",
            "at epoch 20  val loss is 0.0016875054483366538\n"
          ]
        },
        {
          "output_type": "stream",
          "name": "stderr",
          "text": [
            "100%|██████████| 1384/1384 [00:05<00:00, 235.98it/s, loss=0.00148]\n",
            "100%|██████████| 346/346 [00:01<00:00, 273.64it/s, loss=0.00169]\n"
          ]
        },
        {
          "output_type": "stream",
          "name": "stdout",
          "text": [
            "at epoch 21  train loss is 0.0014827552086515456\n",
            "at epoch 21  val loss is 0.001685302252096435\n"
          ]
        },
        {
          "output_type": "stream",
          "name": "stderr",
          "text": [
            "100%|██████████| 1384/1384 [00:05<00:00, 255.08it/s, loss=0.00148]\n",
            "100%|██████████| 346/346 [00:01<00:00, 308.16it/s, loss=0.00168]\n"
          ]
        },
        {
          "output_type": "stream",
          "name": "stdout",
          "text": [
            "at epoch 22  train loss is 0.001480691943449418\n",
            "at epoch 22  val loss is 0.0016830309418107805\n"
          ]
        },
        {
          "output_type": "stream",
          "name": "stderr",
          "text": [
            "100%|██████████| 1384/1384 [00:05<00:00, 242.67it/s, loss=0.00148]\n",
            "100%|██████████| 346/346 [00:01<00:00, 336.87it/s, loss=0.00168]\n"
          ]
        },
        {
          "output_type": "stream",
          "name": "stdout",
          "text": [
            "at epoch 23  train loss is 0.0014784373318623778\n",
            "at epoch 23  val loss is 0.0016807363245510388\n"
          ]
        },
        {
          "output_type": "stream",
          "name": "stderr",
          "text": [
            "100%|██████████| 1384/1384 [00:05<00:00, 243.89it/s, loss=0.00148]\n",
            "100%|██████████| 346/346 [00:00<00:00, 366.71it/s, loss=0.00168]\n"
          ]
        },
        {
          "output_type": "stream",
          "name": "stdout",
          "text": [
            "at epoch 24  train loss is 0.0014766172815069763\n",
            "at epoch 24  val loss is 0.0016783764759129764\n"
          ]
        },
        {
          "output_type": "stream",
          "name": "stderr",
          "text": [
            "100%|██████████| 1384/1384 [00:05<00:00, 237.68it/s, loss=0.00148]\n",
            "100%|██████████| 346/346 [00:00<00:00, 357.25it/s, loss=0.00168]\n"
          ]
        },
        {
          "output_type": "stream",
          "name": "stdout",
          "text": [
            "at epoch 25  train loss is 0.0014785566696456553\n",
            "at epoch 25  val loss is 0.0016772779680666045\n"
          ]
        },
        {
          "output_type": "stream",
          "name": "stderr",
          "text": [
            "100%|██████████| 1384/1384 [00:05<00:00, 247.57it/s, loss=0.00147]\n",
            "100%|██████████| 346/346 [00:01<00:00, 294.70it/s, loss=0.00168]\n"
          ]
        },
        {
          "output_type": "stream",
          "name": "stdout",
          "text": [
            "at epoch 26  train loss is 0.0014741602703302542\n",
            "at epoch 26  val loss is 0.0016760765436713413\n"
          ]
        },
        {
          "output_type": "stream",
          "name": "stderr",
          "text": [
            "100%|██████████| 1384/1384 [00:05<00:00, 261.43it/s, loss=0.00147]\n",
            "100%|██████████| 346/346 [00:01<00:00, 266.91it/s, loss=0.00167]\n"
          ]
        },
        {
          "output_type": "stream",
          "name": "stdout",
          "text": [
            "at epoch 27  train loss is 0.0014726084644417178\n",
            "at epoch 27  val loss is 0.0016749164876163024\n"
          ]
        },
        {
          "output_type": "stream",
          "name": "stderr",
          "text": [
            "100%|██████████| 1384/1384 [00:05<00:00, 235.95it/s, loss=0.00147]\n",
            "100%|██████████| 346/346 [00:01<00:00, 268.63it/s, loss=0.00167]\n"
          ]
        },
        {
          "output_type": "stream",
          "name": "stdout",
          "text": [
            "at epoch 28  train loss is 0.0014715327951113184\n",
            "at epoch 28  val loss is 0.0016737772694412373\n"
          ]
        },
        {
          "output_type": "stream",
          "name": "stderr",
          "text": [
            "100%|██████████| 1384/1384 [00:05<00:00, 234.41it/s, loss=0.00147]\n",
            "100%|██████████| 346/346 [00:01<00:00, 322.36it/s, loss=0.00167]\n"
          ]
        },
        {
          "output_type": "stream",
          "name": "stdout",
          "text": [
            "at epoch 29  train loss is 0.0014708388078550428\n",
            "at epoch 29  val loss is 0.0016732211834148806\n"
          ]
        },
        {
          "output_type": "stream",
          "name": "stderr",
          "text": [
            "100%|██████████| 1384/1384 [00:05<00:00, 242.46it/s, loss=0.00147]\n",
            "100%|██████████| 346/346 [00:00<00:00, 383.34it/s, loss=0.00167]"
          ]
        },
        {
          "output_type": "stream",
          "name": "stdout",
          "text": [
            "at epoch 30  train loss is 0.0014707123638926286\n",
            "at epoch 30  val loss is 0.0016726368997512504\n"
          ]
        },
        {
          "output_type": "stream",
          "name": "stderr",
          "text": [
            "\n"
          ]
        }
      ]
    },
    {
      "cell_type": "code",
      "source": [
        "def plot(train_loss,val_loss):\n",
        "    plt.figure(figsize=(12,8))\n",
        "    plt.plot(list(range(1,len(train_loss)+1)), train_loss,label='Train Loss')\n",
        "    plt.plot(list(range(1,len(train_loss)+1)), val_loss,label='Validation Loss')\n",
        "    plt.title(name_loss_optim)\n",
        "    plt.legend(loc=0)\n",
        "    plt.show()"
      ],
      "metadata": {
        "id": "MMdj3CtUhh83"
      },
      "execution_count": 49,
      "outputs": []
    },
    {
      "cell_type": "code",
      "source": [
        "plot(train_loss,val_loss)"
      ],
      "metadata": {
        "colab": {
          "base_uri": "https://localhost:8080/",
          "height": 499
        },
        "id": "DWC7Jkiehh63",
        "outputId": "eaac74d5-8244-4e41-8fd1-49adaf9ba340"
      },
      "execution_count": 50,
      "outputs": [
        {
          "output_type": "display_data",
          "data": {
            "text/plain": [
              "<Figure size 864x576 with 1 Axes>"
            ],
            "image/png": "[encoded data removed]"
          },
          "metadata": {
            "needs_background": "light"
          }
        }
      ]
    },
    {
      "cell_type": "code",
      "source": [
        "# model 2"
      ],
      "metadata": {
        "id": "oRlj2nZVhh3o"
      },
      "execution_count": 51,
      "outputs": []
    },
    {
      "cell_type": "code",
      "source": [
        "net2= MLP(x_train_scaled.shape[1], 30, 15, y_train.shape[1])"
      ],
      "metadata": {
        "id": "yCCD137TVOTw"
      },
      "execution_count": 52,
      "outputs": []
    },
    {
      "cell_type": "code",
      "source": [
        "criterion, optimizer, name_loss_optim= MSE_ADAM(net2)\n",
        "scheduler = StepLR(optimizer, step_size=4, gamma=0.5)"
      ],
      "metadata": {
        "id": "0uDDdIsOmRzr"
      },
      "execution_count": 53,
      "outputs": []
    },
    {
      "cell_type": "code",
      "source": [
        "net2.to(device)\n",
        "total_epochs = 30\n",
        "train_loss = []\n",
        "val_loss = []\n",
        "\n",
        "for epoch in range(total_epochs):\n",
        "    total_train_loss = 0\n",
        "    total_val_loss = 0\n",
        "    \n",
        "    net2.train()\n",
        "    train_batch_number= 1\n",
        "    train_batches = tqdm(train_loader)\n",
        "    for (x,y) in train_batches:\n",
        "        x , y = x.to(device), y.to(device)\n",
        "        net_output = net2(x)\n",
        "        tr_loss = criterion(net_output,y)\n",
        "        optimizer.zero_grad()\n",
        "        tr_loss.backward()\n",
        "        optimizer.step()\n",
        "        total_train_loss += tr_loss.item()\n",
        "        mean_train_loss = total_train_loss/train_batch_number\n",
        "        train_batch_number += 1\n",
        "        \n",
        "        train_batches.set_postfix(loss=mean_train_loss, refresh=True)\n",
        "    train_loss.append(mean_train_loss)\n",
        "  \n",
        "    with torch.no_grad():\n",
        "        net2.eval()\n",
        "        val_batch_number = 1\n",
        "        val_batches = tqdm(val_loader)\n",
        "        for (x,y) in val_batches:\n",
        "            x , y = x.to(device), y.to(device)\n",
        "            net_output = net2(x)\n",
        "            tst_loss = criterion(net_output , y)\n",
        "            total_val_loss += tst_loss.item()\n",
        "            mean_val_loss = total_val_loss / val_batch_number\n",
        "            val_batch_number += 1\n",
        "            \n",
        "            val_batches.set_postfix(loss=mean_val_loss, refresh=True)\n",
        "        val_loss.append(mean_val_loss)\n",
        "        \n",
        "        print(f'at epoch {epoch+1}  train loss is {mean_train_loss}')\n",
        "        print(f'at epoch {epoch+1}  val loss is {mean_val_loss}')\n",
        "    scheduler.step()"
      ],
      "metadata": {
        "colab": {
          "base_uri": "https://localhost:8080/"
        },
        "outputId": "171b4317-00f3-47c6-ee87-58caa56df38e",
        "id": "DN7cRRzUmiPS"
      },
      "execution_count": 54,
      "outputs": [
        {
          "output_type": "stream",
          "name": "stderr",
          "text": [
            "100%|██████████| 1384/1384 [00:06<00:00, 225.48it/s, loss=0.000856]\n",
            "100%|██████████| 346/346 [00:00<00:00, 382.58it/s, loss=0.000716]\n"
          ]
        },
        {
          "output_type": "stream",
          "name": "stdout",
          "text": [
            "at epoch 1  train loss is 0.0008558858374829211\n",
            "at epoch 1  val loss is 0.000715854307899899\n"
          ]
        },
        {
          "output_type": "stream",
          "name": "stderr",
          "text": [
            "100%|██████████| 1384/1384 [00:07<00:00, 178.89it/s, loss=0.000622]\n",
            "100%|██████████| 346/346 [00:00<00:00, 355.43it/s, loss=0.000574]\n"
          ]
        },
        {
          "output_type": "stream",
          "name": "stdout",
          "text": [
            "at epoch 2  train loss is 0.0006222734806619962\n",
            "at epoch 2  val loss is 0.0005736382439432429\n"
          ]
        },
        {
          "output_type": "stream",
          "name": "stderr",
          "text": [
            "100%|██████████| 1384/1384 [00:07<00:00, 176.20it/s, loss=0.00055]\n",
            "100%|██████████| 346/346 [00:00<00:00, 433.29it/s, loss=0.000601]\n"
          ]
        },
        {
          "output_type": "stream",
          "name": "stdout",
          "text": [
            "at epoch 3  train loss is 0.0005504859701639656\n",
            "at epoch 3  val loss is 0.00060121075974776\n"
          ]
        },
        {
          "output_type": "stream",
          "name": "stderr",
          "text": [
            "100%|██████████| 1384/1384 [00:07<00:00, 177.86it/s, loss=0.000514]\n",
            "100%|██████████| 346/346 [00:00<00:00, 443.61it/s, loss=0.000572]\n"
          ]
        },
        {
          "output_type": "stream",
          "name": "stdout",
          "text": [
            "at epoch 4  train loss is 0.0005135967005216868\n",
            "at epoch 4  val loss is 0.0005720047159445125\n"
          ]
        },
        {
          "output_type": "stream",
          "name": "stderr",
          "text": [
            "100%|██████████| 1384/1384 [00:07<00:00, 178.47it/s, loss=0.000432]\n",
            "100%|██████████| 346/346 [00:00<00:00, 449.85it/s, loss=0.000479]\n"
          ]
        },
        {
          "output_type": "stream",
          "name": "stdout",
          "text": [
            "at epoch 5  train loss is 0.0004316577886476355\n",
            "at epoch 5  val loss is 0.00047852700360157533\n"
          ]
        },
        {
          "output_type": "stream",
          "name": "stderr",
          "text": [
            "100%|██████████| 1384/1384 [00:07<00:00, 180.95it/s, loss=0.000421]\n",
            "100%|██████████| 346/346 [00:00<00:00, 435.73it/s, loss=0.000446]\n"
          ]
        },
        {
          "output_type": "stream",
          "name": "stdout",
          "text": [
            "at epoch 6  train loss is 0.0004206683175282238\n",
            "at epoch 6  val loss is 0.00044618370287346446\n"
          ]
        },
        {
          "output_type": "stream",
          "name": "stderr",
          "text": [
            "100%|██████████| 1384/1384 [00:07<00:00, 176.89it/s, loss=0.000392]\n",
            "100%|██████████| 346/346 [00:00<00:00, 445.78it/s, loss=0.000454]\n"
          ]
        },
        {
          "output_type": "stream",
          "name": "stdout",
          "text": [
            "at epoch 7  train loss is 0.0003920604759603762\n",
            "at epoch 7  val loss is 0.00045353809691943035\n"
          ]
        },
        {
          "output_type": "stream",
          "name": "stderr",
          "text": [
            "100%|██████████| 1384/1384 [00:07<00:00, 177.92it/s, loss=0.000392]\n",
            "100%|██████████| 346/346 [00:00<00:00, 395.36it/s, loss=0.000429]\n"
          ]
        },
        {
          "output_type": "stream",
          "name": "stdout",
          "text": [
            "at epoch 8  train loss is 0.00039155280444644417\n",
            "at epoch 8  val loss is 0.00042948553628759925\n"
          ]
        },
        {
          "output_type": "stream",
          "name": "stderr",
          "text": [
            "100%|██████████| 1384/1384 [00:07<00:00, 177.11it/s, loss=0.000357]\n",
            "100%|██████████| 346/346 [00:00<00:00, 445.26it/s, loss=0.000401]\n"
          ]
        },
        {
          "output_type": "stream",
          "name": "stdout",
          "text": [
            "at epoch 9  train loss is 0.00035676297963061447\n",
            "at epoch 9  val loss is 0.0004011048344066542\n"
          ]
        },
        {
          "output_type": "stream",
          "name": "stderr",
          "text": [
            "100%|██████████| 1384/1384 [00:07<00:00, 178.59it/s, loss=0.000346]\n",
            "100%|██████████| 346/346 [00:00<00:00, 431.45it/s, loss=0.0004]\n"
          ]
        },
        {
          "output_type": "stream",
          "name": "stdout",
          "text": [
            "at epoch 10  train loss is 0.0003459047785114213\n",
            "at epoch 10  val loss is 0.00039974483392185215\n"
          ]
        },
        {
          "output_type": "stream",
          "name": "stderr",
          "text": [
            "100%|██████████| 1384/1384 [00:07<00:00, 179.43it/s, loss=0.000351]\n",
            "100%|██████████| 346/346 [00:00<00:00, 436.44it/s, loss=0.00039]\n"
          ]
        },
        {
          "output_type": "stream",
          "name": "stdout",
          "text": [
            "at epoch 11  train loss is 0.0003507596360107217\n",
            "at epoch 11  val loss is 0.0003903871721571589\n"
          ]
        },
        {
          "output_type": "stream",
          "name": "stderr",
          "text": [
            "100%|██████████| 1384/1384 [00:07<00:00, 177.40it/s, loss=0.000336]\n",
            "100%|██████████| 346/346 [00:00<00:00, 463.17it/s, loss=0.000393]\n"
          ]
        },
        {
          "output_type": "stream",
          "name": "stdout",
          "text": [
            "at epoch 12  train loss is 0.0003364576867819663\n",
            "at epoch 12  val loss is 0.0003932562221488996\n"
          ]
        },
        {
          "output_type": "stream",
          "name": "stderr",
          "text": [
            "100%|██████████| 1384/1384 [00:07<00:00, 177.13it/s, loss=0.000324]\n",
            "100%|██████████| 346/346 [00:00<00:00, 442.20it/s, loss=0.000381]\n"
          ]
        },
        {
          "output_type": "stream",
          "name": "stdout",
          "text": [
            "at epoch 13  train loss is 0.0003235738110174811\n",
            "at epoch 13  val loss is 0.0003807912212244714\n"
          ]
        },
        {
          "output_type": "stream",
          "name": "stderr",
          "text": [
            "100%|██████████| 1384/1384 [00:07<00:00, 185.20it/s, loss=0.000319]\n",
            "100%|██████████| 346/346 [00:00<00:00, 393.27it/s, loss=0.000372]\n"
          ]
        },
        {
          "output_type": "stream",
          "name": "stdout",
          "text": [
            "at epoch 14  train loss is 0.00031935723447557886\n",
            "at epoch 14  val loss is 0.00037243671672276726\n"
          ]
        },
        {
          "output_type": "stream",
          "name": "stderr",
          "text": [
            "100%|██████████| 1384/1384 [00:06<00:00, 201.15it/s, loss=0.00032]\n",
            "100%|██████████| 346/346 [00:01<00:00, 206.57it/s, loss=0.000375]\n"
          ]
        },
        {
          "output_type": "stream",
          "name": "stdout",
          "text": [
            "at epoch 15  train loss is 0.00032021709710329164\n",
            "at epoch 15  val loss is 0.0003750729374324676\n"
          ]
        },
        {
          "output_type": "stream",
          "name": "stderr",
          "text": [
            "100%|██████████| 1384/1384 [00:06<00:00, 218.18it/s, loss=0.000316]\n",
            "100%|██████████| 346/346 [00:00<00:00, 351.31it/s, loss=0.000373]\n"
          ]
        },
        {
          "output_type": "stream",
          "name": "stdout",
          "text": [
            "at epoch 16  train loss is 0.000315618464934085\n",
            "at epoch 16  val loss is 0.0003727280313770369\n"
          ]
        },
        {
          "output_type": "stream",
          "name": "stderr",
          "text": [
            "100%|██████████| 1384/1384 [00:06<00:00, 211.04it/s, loss=0.000309]\n",
            "100%|██████████| 346/346 [00:00<00:00, 346.62it/s, loss=0.000366]\n"
          ]
        },
        {
          "output_type": "stream",
          "name": "stdout",
          "text": [
            "at epoch 17  train loss is 0.0003085083272712232\n",
            "at epoch 17  val loss is 0.00036564972544584566\n"
          ]
        },
        {
          "output_type": "stream",
          "name": "stderr",
          "text": [
            "100%|██████████| 1384/1384 [00:07<00:00, 179.40it/s, loss=0.000307]\n",
            "100%|██████████| 346/346 [00:00<00:00, 370.32it/s, loss=0.000368]\n"
          ]
        },
        {
          "output_type": "stream",
          "name": "stdout",
          "text": [
            "at epoch 18  train loss is 0.0003066172660739035\n",
            "at epoch 18  val loss is 0.0003675519680544869\n"
          ]
        },
        {
          "output_type": "stream",
          "name": "stderr",
          "text": [
            "100%|██████████| 1384/1384 [00:07<00:00, 192.54it/s, loss=0.000311]\n",
            "100%|██████████| 346/346 [00:00<00:00, 448.12it/s, loss=0.000366]\n"
          ]
        },
        {
          "output_type": "stream",
          "name": "stdout",
          "text": [
            "at epoch 19  train loss is 0.00031066175416340046\n",
            "at epoch 19  val loss is 0.0003660452397410002\n"
          ]
        },
        {
          "output_type": "stream",
          "name": "stderr",
          "text": [
            "100%|██████████| 1384/1384 [00:07<00:00, 179.58it/s, loss=0.000305]\n",
            "100%|██████████| 346/346 [00:01<00:00, 314.27it/s, loss=0.000362]\n"
          ]
        },
        {
          "output_type": "stream",
          "name": "stdout",
          "text": [
            "at epoch 20  train loss is 0.00030549193434849074\n",
            "at epoch 20  val loss is 0.0003619593657686771\n"
          ]
        },
        {
          "output_type": "stream",
          "name": "stderr",
          "text": [
            "100%|██████████| 1384/1384 [00:07<00:00, 193.81it/s, loss=0.0003]\n",
            "100%|██████████| 346/346 [00:00<00:00, 439.19it/s, loss=0.000361]\n"
          ]
        },
        {
          "output_type": "stream",
          "name": "stdout",
          "text": [
            "at epoch 21  train loss is 0.0003004202534088886\n",
            "at epoch 21  val loss is 0.00036117548921338626\n"
          ]
        },
        {
          "output_type": "stream",
          "name": "stderr",
          "text": [
            "100%|██████████| 1384/1384 [00:07<00:00, 184.95it/s, loss=0.0003]\n",
            "100%|██████████| 346/346 [00:00<00:00, 504.76it/s, loss=0.000362]\n"
          ]
        },
        {
          "output_type": "stream",
          "name": "stdout",
          "text": [
            "at epoch 22  train loss is 0.00030002789688853877\n",
            "at epoch 22  val loss is 0.00036159254062171004\n"
          ]
        },
        {
          "output_type": "stream",
          "name": "stderr",
          "text": [
            "100%|██████████| 1384/1384 [00:07<00:00, 176.43it/s, loss=0.000298]\n",
            "100%|██████████| 346/346 [00:00<00:00, 436.66it/s, loss=0.000363]\n"
          ]
        },
        {
          "output_type": "stream",
          "name": "stdout",
          "text": [
            "at epoch 23  train loss is 0.00029841666327231806\n",
            "at epoch 23  val loss is 0.0003626441380772063\n"
          ]
        },
        {
          "output_type": "stream",
          "name": "stderr",
          "text": [
            "100%|██████████| 1384/1384 [00:07<00:00, 187.97it/s, loss=0.000298]\n",
            "100%|██████████| 346/346 [00:00<00:00, 460.53it/s, loss=0.00036]\n"
          ]
        },
        {
          "output_type": "stream",
          "name": "stdout",
          "text": [
            "at epoch 24  train loss is 0.0002983641261919261\n",
            "at epoch 24  val loss is 0.000360304498700563\n"
          ]
        },
        {
          "output_type": "stream",
          "name": "stderr",
          "text": [
            "100%|██████████| 1384/1384 [00:07<00:00, 184.82it/s, loss=0.000297]\n",
            "100%|██████████| 346/346 [00:00<00:00, 447.25it/s, loss=0.000359]\n"
          ]
        },
        {
          "output_type": "stream",
          "name": "stdout",
          "text": [
            "at epoch 25  train loss is 0.0002966133178489208\n",
            "at epoch 25  val loss is 0.0003592301118523226\n"
          ]
        },
        {
          "output_type": "stream",
          "name": "stderr",
          "text": [
            "100%|██████████| 1384/1384 [00:07<00:00, 192.65it/s, loss=0.000296]\n",
            "100%|██████████| 346/346 [00:00<00:00, 515.14it/s, loss=0.000358]\n"
          ]
        },
        {
          "output_type": "stream",
          "name": "stdout",
          "text": [
            "at epoch 26  train loss is 0.0002958713471264941\n",
            "at epoch 26  val loss is 0.00035778129228090965\n"
          ]
        },
        {
          "output_type": "stream",
          "name": "stderr",
          "text": [
            "100%|██████████| 1384/1384 [00:06<00:00, 214.82it/s, loss=0.000296]\n",
            "100%|██████████| 346/346 [00:01<00:00, 303.76it/s, loss=0.000357]\n"
          ]
        },
        {
          "output_type": "stream",
          "name": "stdout",
          "text": [
            "at epoch 27  train loss is 0.0002963810261101208\n",
            "at epoch 27  val loss is 0.00035728799823139633\n"
          ]
        },
        {
          "output_type": "stream",
          "name": "stderr",
          "text": [
            "100%|██████████| 1384/1384 [00:06<00:00, 211.14it/s, loss=0.000296]\n",
            "100%|██████████| 346/346 [00:00<00:00, 438.59it/s, loss=0.000358]\n"
          ]
        },
        {
          "output_type": "stream",
          "name": "stdout",
          "text": [
            "at epoch 28  train loss is 0.0002956895740111829\n",
            "at epoch 28  val loss is 0.00035790912814347836\n"
          ]
        },
        {
          "output_type": "stream",
          "name": "stderr",
          "text": [
            "100%|██████████| 1384/1384 [00:06<00:00, 206.79it/s, loss=0.000295]\n",
            "100%|██████████| 346/346 [00:00<00:00, 390.56it/s, loss=0.000357]\n"
          ]
        },
        {
          "output_type": "stream",
          "name": "stdout",
          "text": [
            "at epoch 29  train loss is 0.00029451899713205023\n",
            "at epoch 29  val loss is 0.00035746835474759464\n"
          ]
        },
        {
          "output_type": "stream",
          "name": "stderr",
          "text": [
            "100%|██████████| 1384/1384 [00:07<00:00, 187.08it/s, loss=0.000294]\n",
            "100%|██████████| 346/346 [00:00<00:00, 357.41it/s, loss=0.000358]"
          ]
        },
        {
          "output_type": "stream",
          "name": "stdout",
          "text": [
            "at epoch 30  train loss is 0.00029401714555850133\n",
            "at epoch 30  val loss is 0.00035764604720661\n"
          ]
        },
        {
          "output_type": "stream",
          "name": "stderr",
          "text": [
            "\n"
          ]
        }
      ]
    },
    {
      "cell_type": "code",
      "source": [
        "def plot(train_loss,val_loss):\n",
        "    plt.figure(figsize=(12,8))\n",
        "    plt.plot(list(range(1,len(train_loss)+1)), train_loss,label='Train Loss')\n",
        "    plt.plot(list(range(1,len(train_loss)+1)), val_loss,label='Validation Loss')\n",
        "    plt.title(name_loss_optim)\n",
        "    plt.legend(loc=0)\n",
        "    plt.show()"
      ],
      "metadata": {
        "id": "eERv070JmiPS"
      },
      "execution_count": 55,
      "outputs": []
    },
    {
      "cell_type": "code",
      "source": [
        "plot(train_loss,val_loss)"
      ],
      "metadata": {
        "colab": {
          "base_uri": "https://localhost:8080/",
          "height": 499
        },
        "id": "n7KrKcOfmiPS",
        "outputId": "4fd3ebe0-bbbf-4882-d87c-d4d36590570c"
      },
      "execution_count": 56,
      "outputs": [
        {
          "output_type": "display_data",
          "data": {
            "text/plain": [
              "<Figure size 864x576 with 1 Axes>"
            ],
            "image/png": "[encoded data removed]"
          },
          "metadata": {
            "needs_background": "light"
          }
        }
      ]
    },
    {
      "cell_type": "code",
      "source": [
        "#model 3"
      ],
      "metadata": {
        "id": "BaVSj339mxQO"
      },
      "execution_count": 57,
      "outputs": []
    },
    {
      "cell_type": "code",
      "source": [
        "net3= MLP(x_train_scaled.shape[1], 30, 15, y_train.shape[1])"
      ],
      "metadata": {
        "id": "l31tZeVCVkRn"
      },
      "execution_count": 58,
      "outputs": []
    },
    {
      "cell_type": "code",
      "source": [
        "criterion, optimizer, name_loss_optim= L1_SGD(net3)\n",
        "scheduler = StepLR(optimizer, step_size=4, gamma=0.5)"
      ],
      "metadata": {
        "id": "jzxOpL5WmxQP"
      },
      "execution_count": 59,
      "outputs": []
    },
    {
      "cell_type": "code",
      "source": [
        "net3.to(device)\n",
        "total_epochs = 30\n",
        "train_loss = []\n",
        "val_loss = []\n",
        "\n",
        "for epoch in range(total_epochs):\n",
        "    total_train_loss = 0\n",
        "    total_val_loss = 0\n",
        "    \n",
        "    net3.train()\n",
        "    train_batch_number= 1\n",
        "    train_batches = tqdm(train_loader)\n",
        "    for (x,y) in train_batches:\n",
        "        x , y = x.to(device), y.to(device)\n",
        "        net_output = net3(x)\n",
        "        tr_loss = criterion(net_output,y)\n",
        "        optimizer.zero_grad()\n",
        "        tr_loss.backward()\n",
        "        optimizer.step()\n",
        "        total_train_loss += tr_loss.item()\n",
        "        mean_train_loss = total_train_loss/train_batch_number\n",
        "        train_batch_number += 1\n",
        "        \n",
        "        train_batches.set_postfix(loss=mean_train_loss, refresh=True)\n",
        "    train_loss.append(mean_train_loss)\n",
        "  \n",
        "    with torch.no_grad():\n",
        "        net3.eval()\n",
        "        val_batch_number = 1\n",
        "        val_batches = tqdm(val_loader)\n",
        "        for (x,y) in val_batches:\n",
        "            x , y = x.to(device), y.to(device)\n",
        "            net_output = net3(x)\n",
        "            tst_loss = criterion(net_output , y)\n",
        "            total_val_loss += tst_loss.item()\n",
        "            mean_val_loss = total_val_loss / val_batch_number\n",
        "            val_batch_number += 1\n",
        "            \n",
        "            val_batches.set_postfix(loss=mean_val_loss, refresh=True)\n",
        "        val_loss.append(mean_val_loss)\n",
        "        \n",
        "        print(f'at epoch {epoch+1}  train loss is {mean_train_loss}')\n",
        "        print(f'at epoch {epoch+1}  val loss is {mean_val_loss}')\n",
        "    scheduler.step()"
      ],
      "metadata": {
        "colab": {
          "base_uri": "https://localhost:8080/"
        },
        "outputId": "522715ea-0907-4e74-b518-3cd532e25c36",
        "id": "vo-rtl2nmxQP"
      },
      "execution_count": 60,
      "outputs": [
        {
          "output_type": "stream",
          "name": "stderr",
          "text": [
            "100%|██████████| 1384/1384 [00:06<00:00, 222.83it/s, loss=0.0247]\n",
            "100%|██████████| 346/346 [00:00<00:00, 478.50it/s, loss=0.019]\n"
          ]
        },
        {
          "output_type": "stream",
          "name": "stdout",
          "text": [
            "at epoch 1  train loss is 0.02470881744917762\n",
            "at epoch 1  val loss is 0.018957730087941525\n"
          ]
        },
        {
          "output_type": "stream",
          "name": "stderr",
          "text": [
            "100%|██████████| 1384/1384 [00:06<00:00, 217.35it/s, loss=0.0171]\n",
            "100%|██████████| 346/346 [00:01<00:00, 247.39it/s, loss=0.0169]\n"
          ]
        },
        {
          "output_type": "stream",
          "name": "stdout",
          "text": [
            "at epoch 2  train loss is 0.017138467194523253\n",
            "at epoch 2  val loss is 0.01691656200635123\n"
          ]
        },
        {
          "output_type": "stream",
          "name": "stderr",
          "text": [
            "100%|██████████| 1384/1384 [00:06<00:00, 229.74it/s, loss=0.0162]\n",
            "100%|██████████| 346/346 [00:00<00:00, 354.63it/s, loss=0.0173]\n"
          ]
        },
        {
          "output_type": "stream",
          "name": "stdout",
          "text": [
            "at epoch 3  train loss is 0.01621191819485094\n",
            "at epoch 3  val loss is 0.0173378433962218\n"
          ]
        },
        {
          "output_type": "stream",
          "name": "stderr",
          "text": [
            "100%|██████████| 1384/1384 [00:06<00:00, 201.97it/s, loss=0.016]\n",
            "100%|██████████| 346/346 [00:00<00:00, 402.30it/s, loss=0.0162]\n"
          ]
        },
        {
          "output_type": "stream",
          "name": "stdout",
          "text": [
            "at epoch 4  train loss is 0.01602380702338004\n",
            "at epoch 4  val loss is 0.016197982958835587\n"
          ]
        },
        {
          "output_type": "stream",
          "name": "stderr",
          "text": [
            "100%|██████████| 1384/1384 [00:06<00:00, 207.65it/s, loss=0.0157]\n",
            "100%|██████████| 346/346 [00:00<00:00, 402.01it/s, loss=0.016]\n"
          ]
        },
        {
          "output_type": "stream",
          "name": "stdout",
          "text": [
            "at epoch 5  train loss is 0.01573729306873946\n",
            "at epoch 5  val loss is 0.016012354408030133\n"
          ]
        },
        {
          "output_type": "stream",
          "name": "stderr",
          "text": [
            "100%|██████████| 1384/1384 [00:06<00:00, 218.30it/s, loss=0.0157]\n",
            "100%|██████████| 346/346 [00:00<00:00, 444.59it/s, loss=0.0159]\n"
          ]
        },
        {
          "output_type": "stream",
          "name": "stdout",
          "text": [
            "at epoch 6  train loss is 0.015668616296704643\n",
            "at epoch 6  val loss is 0.015935417478688794\n"
          ]
        },
        {
          "output_type": "stream",
          "name": "stderr",
          "text": [
            "100%|██████████| 1384/1384 [00:06<00:00, 207.05it/s, loss=0.0157]\n",
            "100%|██████████| 346/346 [00:01<00:00, 295.28it/s, loss=0.016]\n"
          ]
        },
        {
          "output_type": "stream",
          "name": "stdout",
          "text": [
            "at epoch 7  train loss is 0.015659139574050494\n",
            "at epoch 7  val loss is 0.01597296155725385\n"
          ]
        },
        {
          "output_type": "stream",
          "name": "stderr",
          "text": [
            "100%|██████████| 1384/1384 [00:06<00:00, 221.55it/s, loss=0.0156]\n",
            "100%|██████████| 346/346 [00:00<00:00, 362.51it/s, loss=0.0158]\n"
          ]
        },
        {
          "output_type": "stream",
          "name": "stdout",
          "text": [
            "at epoch 8  train loss is 0.015620188553403051\n",
            "at epoch 8  val loss is 0.015837747743622416\n"
          ]
        },
        {
          "output_type": "stream",
          "name": "stderr",
          "text": [
            "100%|██████████| 1384/1384 [00:06<00:00, 217.05it/s, loss=0.0155]\n",
            "100%|██████████| 346/346 [00:01<00:00, 333.36it/s, loss=0.0162]\n"
          ]
        },
        {
          "output_type": "stream",
          "name": "stdout",
          "text": [
            "at epoch 9  train loss is 0.015460561048623034\n",
            "at epoch 9  val loss is 0.01619088926051092\n"
          ]
        },
        {
          "output_type": "stream",
          "name": "stderr",
          "text": [
            "100%|██████████| 1384/1384 [00:06<00:00, 217.87it/s, loss=0.0154]\n",
            "100%|██████████| 346/346 [00:01<00:00, 327.98it/s, loss=0.0159]\n"
          ]
        },
        {
          "output_type": "stream",
          "name": "stdout",
          "text": [
            "at epoch 10  train loss is 0.015445470932408134\n",
            "at epoch 10  val loss is 0.01586247885712783\n"
          ]
        },
        {
          "output_type": "stream",
          "name": "stderr",
          "text": [
            "100%|██████████| 1384/1384 [00:06<00:00, 200.71it/s, loss=0.0154]\n",
            "100%|██████████| 346/346 [00:00<00:00, 352.40it/s, loss=0.0158]\n"
          ]
        },
        {
          "output_type": "stream",
          "name": "stdout",
          "text": [
            "at epoch 11  train loss is 0.015396474682957451\n",
            "at epoch 11  val loss is 0.015787991641272356\n"
          ]
        },
        {
          "output_type": "stream",
          "name": "stderr",
          "text": [
            "100%|██████████| 1384/1384 [00:06<00:00, 223.69it/s, loss=0.0154]\n",
            "100%|██████████| 346/346 [00:00<00:00, 370.31it/s, loss=0.0158]\n"
          ]
        },
        {
          "output_type": "stream",
          "name": "stdout",
          "text": [
            "at epoch 12  train loss is 0.015409859692048002\n",
            "at epoch 12  val loss is 0.01576479993130732\n"
          ]
        },
        {
          "output_type": "stream",
          "name": "stderr",
          "text": [
            "100%|██████████| 1384/1384 [00:06<00:00, 221.48it/s, loss=0.0153]\n",
            "100%|██████████| 346/346 [00:01<00:00, 261.51it/s, loss=0.0158]\n"
          ]
        },
        {
          "output_type": "stream",
          "name": "stdout",
          "text": [
            "at epoch 13  train loss is 0.015324069998251285\n",
            "at epoch 13  val loss is 0.015772363500712667\n"
          ]
        },
        {
          "output_type": "stream",
          "name": "stderr",
          "text": [
            "100%|██████████| 1384/1384 [00:06<00:00, 216.30it/s, loss=0.0153]\n",
            "100%|██████████| 346/346 [00:00<00:00, 357.85it/s, loss=0.0158]\n"
          ]
        },
        {
          "output_type": "stream",
          "name": "stdout",
          "text": [
            "at epoch 14  train loss is 0.015313066028709917\n",
            "at epoch 14  val loss is 0.015805051394205304\n"
          ]
        },
        {
          "output_type": "stream",
          "name": "stderr",
          "text": [
            "100%|██████████| 1384/1384 [00:06<00:00, 223.59it/s, loss=0.0153]\n",
            "100%|██████████| 346/346 [00:01<00:00, 249.05it/s, loss=0.0158]\n"
          ]
        },
        {
          "output_type": "stream",
          "name": "stdout",
          "text": [
            "at epoch 15  train loss is 0.015307347448017835\n",
            "at epoch 15  val loss is 0.015778741221928787\n"
          ]
        },
        {
          "output_type": "stream",
          "name": "stderr",
          "text": [
            "100%|██████████| 1384/1384 [00:06<00:00, 210.34it/s, loss=0.0153]\n",
            "100%|██████████| 346/346 [00:00<00:00, 357.50it/s, loss=0.0157]\n"
          ]
        },
        {
          "output_type": "stream",
          "name": "stdout",
          "text": [
            "at epoch 16  train loss is 0.015305177519579735\n",
            "at epoch 16  val loss is 0.015733763323881465\n"
          ]
        },
        {
          "output_type": "stream",
          "name": "stderr",
          "text": [
            "100%|██████████| 1384/1384 [00:06<00:00, 223.34it/s, loss=0.0153]\n",
            "100%|██████████| 346/346 [00:00<00:00, 355.43it/s, loss=0.0159]\n"
          ]
        },
        {
          "output_type": "stream",
          "name": "stdout",
          "text": [
            "at epoch 17  train loss is 0.01526757663942206\n",
            "at epoch 17  val loss is 0.015926028089059484\n"
          ]
        },
        {
          "output_type": "stream",
          "name": "stderr",
          "text": [
            "100%|██████████| 1384/1384 [00:06<00:00, 198.40it/s, loss=0.0153]\n",
            "100%|██████████| 346/346 [00:00<00:00, 403.78it/s, loss=0.0157]\n"
          ]
        },
        {
          "output_type": "stream",
          "name": "stdout",
          "text": [
            "at epoch 18  train loss is 0.015265694934964944\n",
            "at epoch 18  val loss is 0.015697822976060684\n"
          ]
        },
        {
          "output_type": "stream",
          "name": "stderr",
          "text": [
            "100%|██████████| 1384/1384 [00:06<00:00, 204.53it/s, loss=0.0153]\n",
            "100%|██████████| 346/346 [00:00<00:00, 352.44it/s, loss=0.0157]\n"
          ]
        },
        {
          "output_type": "stream",
          "name": "stdout",
          "text": [
            "at epoch 19  train loss is 0.01527989785505911\n",
            "at epoch 19  val loss is 0.015700172439131434\n"
          ]
        },
        {
          "output_type": "stream",
          "name": "stderr",
          "text": [
            "100%|██████████| 1384/1384 [00:06<00:00, 208.22it/s, loss=0.0153]\n",
            "100%|██████████| 346/346 [00:00<00:00, 360.45it/s, loss=0.0157]\n"
          ]
        },
        {
          "output_type": "stream",
          "name": "stdout",
          "text": [
            "at epoch 20  train loss is 0.01525949998412179\n",
            "at epoch 20  val loss is 0.015690856929491626\n"
          ]
        },
        {
          "output_type": "stream",
          "name": "stderr",
          "text": [
            "100%|██████████| 1384/1384 [00:06<00:00, 208.19it/s, loss=0.0152]\n",
            "100%|██████████| 346/346 [00:01<00:00, 322.48it/s, loss=0.0157]\n"
          ]
        },
        {
          "output_type": "stream",
          "name": "stdout",
          "text": [
            "at epoch 21  train loss is 0.015244072618439384\n",
            "at epoch 21  val loss is 0.015740022253019015\n"
          ]
        },
        {
          "output_type": "stream",
          "name": "stderr",
          "text": [
            "100%|██████████| 1384/1384 [00:06<00:00, 218.94it/s, loss=0.0152]\n",
            "100%|██████████| 346/346 [00:00<00:00, 346.84it/s, loss=0.0157]\n"
          ]
        },
        {
          "output_type": "stream",
          "name": "stdout",
          "text": [
            "at epoch 22  train loss is 0.01523667436484732\n",
            "at epoch 22  val loss is 0.01568951782759688\n"
          ]
        },
        {
          "output_type": "stream",
          "name": "stderr",
          "text": [
            "100%|██████████| 1384/1384 [00:06<00:00, 206.03it/s, loss=0.0152]\n",
            "100%|██████████| 346/346 [00:00<00:00, 451.83it/s, loss=0.0157]\n"
          ]
        },
        {
          "output_type": "stream",
          "name": "stdout",
          "text": [
            "at epoch 23  train loss is 0.015238036075707881\n",
            "at epoch 23  val loss is 0.01570990013168597\n"
          ]
        },
        {
          "output_type": "stream",
          "name": "stderr",
          "text": [
            "100%|██████████| 1384/1384 [00:06<00:00, 221.53it/s, loss=0.0152]\n",
            "100%|██████████| 346/346 [00:01<00:00, 339.48it/s, loss=0.0157]\n"
          ]
        },
        {
          "output_type": "stream",
          "name": "stdout",
          "text": [
            "at epoch 24  train loss is 0.015236027827627709\n",
            "at epoch 24  val loss is 0.015683239865563595\n"
          ]
        },
        {
          "output_type": "stream",
          "name": "stderr",
          "text": [
            "100%|██████████| 1384/1384 [00:06<00:00, 215.86it/s, loss=0.0152]\n",
            "100%|██████████| 346/346 [00:01<00:00, 259.50it/s, loss=0.0157]\n"
          ]
        },
        {
          "output_type": "stream",
          "name": "stdout",
          "text": [
            "at epoch 25  train loss is 0.015244763615545198\n",
            "at epoch 25  val loss is 0.01568679577224172\n"
          ]
        },
        {
          "output_type": "stream",
          "name": "stderr",
          "text": [
            "100%|██████████| 1384/1384 [00:05<00:00, 240.82it/s, loss=0.0152]\n",
            "100%|██████████| 346/346 [00:01<00:00, 253.19it/s, loss=0.0158]\n"
          ]
        },
        {
          "output_type": "stream",
          "name": "stdout",
          "text": [
            "at epoch 26  train loss is 0.015219039687781858\n",
            "at epoch 26  val loss is 0.015771610586973975\n"
          ]
        },
        {
          "output_type": "stream",
          "name": "stderr",
          "text": [
            "100%|██████████| 1384/1384 [00:06<00:00, 223.03it/s, loss=0.0152]\n",
            "100%|██████████| 346/346 [00:01<00:00, 339.58it/s, loss=0.0157]\n"
          ]
        },
        {
          "output_type": "stream",
          "name": "stdout",
          "text": [
            "at epoch 27  train loss is 0.015221651456106152\n",
            "at epoch 27  val loss is 0.01573312503414907\n"
          ]
        },
        {
          "output_type": "stream",
          "name": "stderr",
          "text": [
            "100%|██████████| 1384/1384 [00:06<00:00, 224.43it/s, loss=0.0152]\n",
            "100%|██████████| 346/346 [00:01<00:00, 300.75it/s, loss=0.0157]\n"
          ]
        },
        {
          "output_type": "stream",
          "name": "stdout",
          "text": [
            "at epoch 28  train loss is 0.015211479689904375\n",
            "at epoch 28  val loss is 0.015693677949982915\n"
          ]
        },
        {
          "output_type": "stream",
          "name": "stderr",
          "text": [
            "100%|██████████| 1384/1384 [00:10<00:00, 134.30it/s, loss=0.0152]\n",
            "100%|██████████| 346/346 [00:02<00:00, 158.47it/s, loss=0.0157]\n"
          ]
        },
        {
          "output_type": "stream",
          "name": "stdout",
          "text": [
            "at epoch 29  train loss is 0.015223469534711213\n",
            "at epoch 29  val loss is 0.015696120974634683\n"
          ]
        },
        {
          "output_type": "stream",
          "name": "stderr",
          "text": [
            "100%|██████████| 1384/1384 [00:08<00:00, 154.74it/s, loss=0.0152]\n",
            "100%|██████████| 346/346 [00:01<00:00, 237.26it/s, loss=0.0157]"
          ]
        },
        {
          "output_type": "stream",
          "name": "stdout",
          "text": [
            "at epoch 30  train loss is 0.015220349715791125\n",
            "at epoch 30  val loss is 0.015686113196236723\n"
          ]
        },
        {
          "output_type": "stream",
          "name": "stderr",
          "text": [
            "\n"
          ]
        }
      ]
    },
    {
      "cell_type": "code",
      "source": [
        "def plot(train_loss,val_loss):\n",
        "    plt.figure(figsize=(12,8))\n",
        "    plt.plot(list(range(1,len(train_loss)+1)), train_loss,label='Train Loss')\n",
        "    plt.plot(list(range(1,len(train_loss)+1)), val_loss,label='Validation Loss')\n",
        "    plt.title(name_loss_optim)\n",
        "    plt.legend(loc=0)\n",
        "    plt.show()"
      ],
      "metadata": {
        "id": "OjO4OBZomxQQ"
      },
      "execution_count": 61,
      "outputs": []
    },
    {
      "cell_type": "code",
      "source": [
        "plot(train_loss,val_loss)"
      ],
      "metadata": {
        "colab": {
          "base_uri": "https://localhost:8080/",
          "height": 499
        },
        "id": "f_Q0Uv-4mxQQ",
        "outputId": "ff22554c-d1c3-46e3-c348-abbf232731d2"
      },
      "execution_count": 62,
      "outputs": [
        {
          "output_type": "display_data",
          "data": {
            "text/plain": [
              "<Figure size 864x576 with 1 Axes>"
            ],
            "image/png": "[encoded data removed]"
          },
          "metadata": {
            "needs_background": "light"
          }
        }
      ]
    },
    {
      "cell_type": "code",
      "source": [
        "#model 4"
      ],
      "metadata": {
        "id": "7sgQ1mj0nCSO"
      },
      "execution_count": 63,
      "outputs": []
    },
    {
      "cell_type": "code",
      "source": [
        "net4= MLP(x_train_scaled.shape[1], 30, 15, y_train.shape[1])"
      ],
      "metadata": {
        "id": "KXHDTMoRVqLE"
      },
      "execution_count": 64,
      "outputs": []
    },
    {
      "cell_type": "code",
      "source": [
        "criterion, optimizer, name_loss_optim= L1_ADAM(net4)\n",
        "scheduler = StepLR(optimizer, step_size=4, gamma=0.5)"
      ],
      "metadata": {
        "id": "5NVOyEXxnCSO"
      },
      "execution_count": 65,
      "outputs": []
    },
    {
      "cell_type": "code",
      "source": [
        "net4.to(device)\n",
        "total_epochs = 30\n",
        "train_loss = []\n",
        "val_loss = []\n",
        "\n",
        "for epoch in range(total_epochs):\n",
        "    total_train_loss = 0\n",
        "    total_val_loss = 0\n",
        "    \n",
        "    net4.train()\n",
        "    train_batch_number= 1\n",
        "    train_batches = tqdm(train_loader)\n",
        "    for (x,y) in train_batches:\n",
        "        x , y = x.to(device), y.to(device)\n",
        "        net_output = net4(x)\n",
        "        tr_loss = criterion(net_output,y)\n",
        "        optimizer.zero_grad()\n",
        "        tr_loss.backward()\n",
        "        optimizer.step()\n",
        "        total_train_loss += tr_loss.item()\n",
        "        mean_train_loss = total_train_loss/train_batch_number\n",
        "        train_batch_number += 1\n",
        "        \n",
        "        train_batches.set_postfix(loss=mean_train_loss, refresh=True)\n",
        "    train_loss.append(mean_train_loss)\n",
        "  \n",
        "    with torch.no_grad():\n",
        "        net4.eval()\n",
        "        val_batch_number = 1\n",
        "        val_batches = tqdm(val_loader)\n",
        "        for (x,y) in val_batches:\n",
        "            x , y = x.to(device), y.to(device)\n",
        "            net_output = net4(x)\n",
        "            tst_loss = criterion(net_output , y)\n",
        "            total_val_loss += tst_loss.item()\n",
        "            mean_val_loss = total_val_loss / val_batch_number\n",
        "            val_batch_number += 1\n",
        "            \n",
        "            val_batches.set_postfix(loss=mean_val_loss, refresh=True)\n",
        "        val_loss.append(mean_val_loss)\n",
        "        \n",
        "        print(f'at epoch {epoch+1}  train loss is {mean_train_loss}')\n",
        "        print(f'at epoch {epoch+1}  val loss is {mean_val_loss}')\n",
        "    scheduler.step()"
      ],
      "metadata": {
        "colab": {
          "base_uri": "https://localhost:8080/"
        },
        "outputId": "8a7f0ece-c532-4378-dbe4-8724a65dbb18",
        "id": "mRoMt5gknCSP"
      },
      "execution_count": 66,
      "outputs": [
        {
          "output_type": "stream",
          "name": "stderr",
          "text": [
            "100%|██████████| 1384/1384 [00:07<00:00, 179.83it/s, loss=0.0185]\n",
            "100%|██████████| 346/346 [00:00<00:00, 439.90it/s, loss=0.0149]\n"
          ]
        },
        {
          "output_type": "stream",
          "name": "stdout",
          "text": [
            "at epoch 1  train loss is 0.01850314940964518\n",
            "at epoch 1  val loss is 0.01488111411070591\n"
          ]
        },
        {
          "output_type": "stream",
          "name": "stderr",
          "text": [
            "100%|██████████| 1384/1384 [00:07<00:00, 175.93it/s, loss=0.0146]\n",
            "100%|██████████| 346/346 [00:00<00:00, 465.48it/s, loss=0.0143]\n"
          ]
        },
        {
          "output_type": "stream",
          "name": "stdout",
          "text": [
            "at epoch 2  train loss is 0.014589641932626874\n",
            "at epoch 2  val loss is 0.014336873093523042\n"
          ]
        },
        {
          "output_type": "stream",
          "name": "stderr",
          "text": [
            "100%|██████████| 1384/1384 [00:07<00:00, 181.08it/s, loss=0.0136]\n",
            "100%|██████████| 346/346 [00:00<00:00, 350.11it/s, loss=0.0131]\n"
          ]
        },
        {
          "output_type": "stream",
          "name": "stdout",
          "text": [
            "at epoch 3  train loss is 0.013555797059028383\n",
            "at epoch 3  val loss is 0.013067215726161752\n"
          ]
        },
        {
          "output_type": "stream",
          "name": "stderr",
          "text": [
            "100%|██████████| 1384/1384 [00:07<00:00, 193.32it/s, loss=0.0126]\n",
            "100%|██████████| 346/346 [00:00<00:00, 388.67it/s, loss=0.012]\n"
          ]
        },
        {
          "output_type": "stream",
          "name": "stdout",
          "text": [
            "at epoch 4  train loss is 0.012565185988827937\n",
            "at epoch 4  val loss is 0.011972939520212956\n"
          ]
        },
        {
          "output_type": "stream",
          "name": "stderr",
          "text": [
            "100%|██████████| 1384/1384 [00:07<00:00, 181.76it/s, loss=0.0114]\n",
            "100%|██████████| 346/346 [00:00<00:00, 460.47it/s, loss=0.0116]\n"
          ]
        },
        {
          "output_type": "stream",
          "name": "stdout",
          "text": [
            "at epoch 5  train loss is 0.011355752699720442\n",
            "at epoch 5  val loss is 0.011554506084494121\n"
          ]
        },
        {
          "output_type": "stream",
          "name": "stderr",
          "text": [
            "100%|██████████| 1384/1384 [00:07<00:00, 184.30it/s, loss=0.0111]\n",
            "100%|██████████| 346/346 [00:00<00:00, 434.21it/s, loss=0.0117]\n"
          ]
        },
        {
          "output_type": "stream",
          "name": "stdout",
          "text": [
            "at epoch 6  train loss is 0.01110161369080343\n",
            "at epoch 6  val loss is 0.01169648383692919\n"
          ]
        },
        {
          "output_type": "stream",
          "name": "stderr",
          "text": [
            "100%|██████████| 1384/1384 [00:07<00:00, 175.00it/s, loss=0.0108]\n",
            "100%|██████████| 346/346 [00:00<00:00, 470.93it/s, loss=0.0112]\n"
          ]
        },
        {
          "output_type": "stream",
          "name": "stdout",
          "text": [
            "at epoch 7  train loss is 0.010849004897532575\n",
            "at epoch 7  val loss is 0.011181962614437576\n"
          ]
        },
        {
          "output_type": "stream",
          "name": "stderr",
          "text": [
            "100%|██████████| 1384/1384 [00:07<00:00, 180.47it/s, loss=0.0108]\n",
            "100%|██████████| 346/346 [00:00<00:00, 465.28it/s, loss=0.0112]\n"
          ]
        },
        {
          "output_type": "stream",
          "name": "stdout",
          "text": [
            "at epoch 8  train loss is 0.01078687162280508\n",
            "at epoch 8  val loss is 0.011181021273416074\n"
          ]
        },
        {
          "output_type": "stream",
          "name": "stderr",
          "text": [
            "100%|██████████| 1384/1384 [00:07<00:00, 181.42it/s, loss=0.0103]\n",
            "100%|██████████| 346/346 [00:00<00:00, 412.66it/s, loss=0.0107]\n"
          ]
        },
        {
          "output_type": "stream",
          "name": "stdout",
          "text": [
            "at epoch 9  train loss is 0.010290834908555343\n",
            "at epoch 9  val loss is 0.010652919075817861\n"
          ]
        },
        {
          "output_type": "stream",
          "name": "stderr",
          "text": [
            "100%|██████████| 1384/1384 [00:08<00:00, 169.72it/s, loss=0.0102]\n",
            "100%|██████████| 346/346 [00:01<00:00, 229.94it/s, loss=0.011]\n"
          ]
        },
        {
          "output_type": "stream",
          "name": "stdout",
          "text": [
            "at epoch 10  train loss is 0.010178397334082526\n",
            "at epoch 10  val loss is 0.010965948874626114\n"
          ]
        },
        {
          "output_type": "stream",
          "name": "stderr",
          "text": [
            "100%|██████████| 1384/1384 [00:08<00:00, 171.40it/s, loss=0.0102]\n",
            "100%|██████████| 346/346 [00:00<00:00, 460.21it/s, loss=0.0105]\n"
          ]
        },
        {
          "output_type": "stream",
          "name": "stdout",
          "text": [
            "at epoch 11  train loss is 0.010165545036457748\n",
            "at epoch 11  val loss is 0.010456307150552728\n"
          ]
        },
        {
          "output_type": "stream",
          "name": "stderr",
          "text": [
            "100%|██████████| 1384/1384 [00:07<00:00, 180.89it/s, loss=0.0101]\n",
            "100%|██████████| 346/346 [00:00<00:00, 436.02it/s, loss=0.0108]\n"
          ]
        },
        {
          "output_type": "stream",
          "name": "stdout",
          "text": [
            "at epoch 12  train loss is 0.01007228675823271\n",
            "at epoch 12  val loss is 0.01078455824932525\n"
          ]
        },
        {
          "output_type": "stream",
          "name": "stderr",
          "text": [
            "100%|██████████| 1384/1384 [00:07<00:00, 179.93it/s, loss=0.0099]\n",
            "100%|██████████| 346/346 [00:00<00:00, 393.30it/s, loss=0.0104]\n"
          ]
        },
        {
          "output_type": "stream",
          "name": "stdout",
          "text": [
            "at epoch 13  train loss is 0.00990262083376817\n",
            "at epoch 13  val loss is 0.010393769542196755\n"
          ]
        },
        {
          "output_type": "stream",
          "name": "stderr",
          "text": [
            "100%|██████████| 1384/1384 [00:07<00:00, 174.23it/s, loss=0.00986]\n",
            "100%|██████████| 346/346 [00:00<00:00, 447.11it/s, loss=0.0103]\n"
          ]
        },
        {
          "output_type": "stream",
          "name": "stdout",
          "text": [
            "at epoch 14  train loss is 0.009857336065268974\n",
            "at epoch 14  val loss is 0.010341092407154296\n"
          ]
        },
        {
          "output_type": "stream",
          "name": "stderr",
          "text": [
            "100%|██████████| 1384/1384 [00:07<00:00, 178.71it/s, loss=0.00982]\n",
            "100%|██████████| 346/346 [00:00<00:00, 477.72it/s, loss=0.0103]\n"
          ]
        },
        {
          "output_type": "stream",
          "name": "stdout",
          "text": [
            "at epoch 15  train loss is 0.009822179134692889\n",
            "at epoch 15  val loss is 0.010317300548615483\n"
          ]
        },
        {
          "output_type": "stream",
          "name": "stderr",
          "text": [
            "100%|██████████| 1384/1384 [00:07<00:00, 189.04it/s, loss=0.00976]\n",
            "100%|██████████| 346/346 [00:00<00:00, 419.91it/s, loss=0.0103]\n"
          ]
        },
        {
          "output_type": "stream",
          "name": "stdout",
          "text": [
            "at epoch 16  train loss is 0.009762371710408748\n",
            "at epoch 16  val loss is 0.010306159363093252\n"
          ]
        },
        {
          "output_type": "stream",
          "name": "stderr",
          "text": [
            "100%|██████████| 1384/1384 [00:07<00:00, 183.14it/s, loss=0.00968]\n",
            "100%|██████████| 346/346 [00:00<00:00, 445.69it/s, loss=0.0103]\n"
          ]
        },
        {
          "output_type": "stream",
          "name": "stdout",
          "text": [
            "at epoch 17  train loss is 0.009675880173703041\n",
            "at epoch 17  val loss is 0.010266570313133817\n"
          ]
        },
        {
          "output_type": "stream",
          "name": "stderr",
          "text": [
            "100%|██████████| 1384/1384 [00:07<00:00, 178.44it/s, loss=0.00966]\n",
            "100%|██████████| 346/346 [00:00<00:00, 470.74it/s, loss=0.0103]\n"
          ]
        },
        {
          "output_type": "stream",
          "name": "stdout",
          "text": [
            "at epoch 18  train loss is 0.009655910506750312\n",
            "at epoch 18  val loss is 0.010283348544882987\n"
          ]
        },
        {
          "output_type": "stream",
          "name": "stderr",
          "text": [
            "100%|██████████| 1384/1384 [00:08<00:00, 172.94it/s, loss=0.00965]\n",
            "100%|██████████| 346/346 [00:00<00:00, 471.96it/s, loss=0.0102]\n"
          ]
        },
        {
          "output_type": "stream",
          "name": "stdout",
          "text": [
            "at epoch 19  train loss is 0.009648491732939012\n",
            "at epoch 19  val loss is 0.01019378668679775\n"
          ]
        },
        {
          "output_type": "stream",
          "name": "stderr",
          "text": [
            "100%|██████████| 1384/1384 [00:07<00:00, 187.81it/s, loss=0.00963]\n",
            "100%|██████████| 346/346 [00:01<00:00, 335.37it/s, loss=0.0103]\n"
          ]
        },
        {
          "output_type": "stream",
          "name": "stdout",
          "text": [
            "at epoch 20  train loss is 0.009634525974744101\n",
            "at epoch 20  val loss is 0.010348740861498121\n"
          ]
        },
        {
          "output_type": "stream",
          "name": "stderr",
          "text": [
            "100%|██████████| 1384/1384 [00:07<00:00, 182.39it/s, loss=0.00957]\n",
            "100%|██████████| 346/346 [00:00<00:00, 429.00it/s, loss=0.0102]\n"
          ]
        },
        {
          "output_type": "stream",
          "name": "stdout",
          "text": [
            "at epoch 21  train loss is 0.00957007379007978\n",
            "at epoch 21  val loss is 0.010213745743806091\n"
          ]
        },
        {
          "output_type": "stream",
          "name": "stderr",
          "text": [
            "100%|██████████| 1384/1384 [00:06<00:00, 197.89it/s, loss=0.00956]\n",
            "100%|██████████| 346/346 [00:01<00:00, 329.88it/s, loss=0.0102]\n"
          ]
        },
        {
          "output_type": "stream",
          "name": "stdout",
          "text": [
            "at epoch 22  train loss is 0.009561316854780745\n",
            "at epoch 22  val loss is 0.010206515065695811\n"
          ]
        },
        {
          "output_type": "stream",
          "name": "stderr",
          "text": [
            "100%|██████████| 1384/1384 [00:07<00:00, 175.30it/s, loss=0.00955]\n",
            "100%|██████████| 346/346 [00:00<00:00, 507.91it/s, loss=0.0102]\n"
          ]
        },
        {
          "output_type": "stream",
          "name": "stdout",
          "text": [
            "at epoch 23  train loss is 0.00954634323985332\n",
            "at epoch 23  val loss is 0.01018814318826842\n"
          ]
        },
        {
          "output_type": "stream",
          "name": "stderr",
          "text": [
            "100%|██████████| 1384/1384 [00:07<00:00, 185.93it/s, loss=0.00955]\n",
            "100%|██████████| 346/346 [00:00<00:00, 395.58it/s, loss=0.0102]\n"
          ]
        },
        {
          "output_type": "stream",
          "name": "stdout",
          "text": [
            "at epoch 24  train loss is 0.009551964706446535\n",
            "at epoch 24  val loss is 0.01018902503500418\n"
          ]
        },
        {
          "output_type": "stream",
          "name": "stderr",
          "text": [
            "100%|██████████| 1384/1384 [00:07<00:00, 184.99it/s, loss=0.00951]\n",
            "100%|██████████| 346/346 [00:00<00:00, 401.11it/s, loss=0.0101]\n"
          ]
        },
        {
          "output_type": "stream",
          "name": "stdout",
          "text": [
            "at epoch 25  train loss is 0.009513720868167473\n",
            "at epoch 25  val loss is 0.010143756288415995\n"
          ]
        },
        {
          "output_type": "stream",
          "name": "stderr",
          "text": [
            "100%|██████████| 1384/1384 [00:07<00:00, 194.84it/s, loss=0.00951]\n",
            "100%|██████████| 346/346 [00:00<00:00, 346.66it/s, loss=0.0102]\n"
          ]
        },
        {
          "output_type": "stream",
          "name": "stdout",
          "text": [
            "at epoch 26  train loss is 0.009508844577899805\n",
            "at epoch 26  val loss is 0.01015913849117805\n"
          ]
        },
        {
          "output_type": "stream",
          "name": "stderr",
          "text": [
            "100%|██████████| 1384/1384 [00:06<00:00, 206.11it/s, loss=0.00954]\n",
            "100%|██████████| 346/346 [00:01<00:00, 313.83it/s, loss=0.0101]\n"
          ]
        },
        {
          "output_type": "stream",
          "name": "stdout",
          "text": [
            "at epoch 27  train loss is 0.009538854549304485\n",
            "at epoch 27  val loss is 0.010148852534667518\n"
          ]
        },
        {
          "output_type": "stream",
          "name": "stderr",
          "text": [
            "100%|██████████| 1384/1384 [00:06<00:00, 206.43it/s, loss=0.0095]\n",
            "100%|██████████| 346/346 [00:00<00:00, 375.15it/s, loss=0.0101]\n"
          ]
        },
        {
          "output_type": "stream",
          "name": "stdout",
          "text": [
            "at epoch 28  train loss is 0.00950325562550035\n",
            "at epoch 28  val loss is 0.010145259630796365\n"
          ]
        },
        {
          "output_type": "stream",
          "name": "stderr",
          "text": [
            "100%|██████████| 1384/1384 [00:07<00:00, 194.42it/s, loss=0.00949]\n",
            "100%|██████████| 346/346 [00:00<00:00, 380.71it/s, loss=0.0101]\n"
          ]
        },
        {
          "output_type": "stream",
          "name": "stdout",
          "text": [
            "at epoch 29  train loss is 0.009494725532016872\n",
            "at epoch 29  val loss is 0.010141881251427738\n"
          ]
        },
        {
          "output_type": "stream",
          "name": "stderr",
          "text": [
            "100%|██████████| 1384/1384 [00:06<00:00, 208.82it/s, loss=0.00948]\n",
            "100%|██████████| 346/346 [00:01<00:00, 273.13it/s, loss=0.0101]"
          ]
        },
        {
          "output_type": "stream",
          "name": "stdout",
          "text": [
            "at epoch 30  train loss is 0.009482835760646947\n",
            "at epoch 30  val loss is 0.010149454099739864\n"
          ]
        },
        {
          "output_type": "stream",
          "name": "stderr",
          "text": [
            "\n"
          ]
        }
      ]
    },
    {
      "cell_type": "code",
      "source": [
        "def plot(train_loss,val_loss):\n",
        "    plt.figure(figsize=(12,8))\n",
        "    plt.plot(list(range(1,len(train_loss)+1)), train_loss,label='Train Loss')\n",
        "    plt.plot(list(range(1,len(train_loss)+1)), val_loss,label='Validation Loss')\n",
        "    plt.title(name_loss_optim)\n",
        "    plt.legend(loc=0)\n",
        "    plt.show()"
      ],
      "metadata": {
        "id": "K-PxX7NknCSP"
      },
      "execution_count": 67,
      "outputs": []
    },
    {
      "cell_type": "code",
      "source": [
        "plot(train_loss,val_loss)"
      ],
      "metadata": {
        "colab": {
          "base_uri": "https://localhost:8080/",
          "height": 499
        },
        "id": "4IIvIXllnCSP",
        "outputId": "cf113812-0397-4d27-8e9c-51b6d96fcb4d"
      },
      "execution_count": 68,
      "outputs": [
        {
          "output_type": "display_data",
          "data": {
            "text/plain": [
              "<Figure size 864x576 with 1 Axes>"
            ],
            "image/png": "[encoded data removed]"
          },
          "metadata": {
            "needs_background": "light"
          }
        }
      ]
    },
    {
      "cell_type": "markdown",
      "source": [
        "#### prediction"
      ],
      "metadata": {
        "id": "7ovT41WEMVXm"
      }
    },
    {
      "cell_type": "code",
      "source": [
        "def get_predictions(net, iterator, device):\n",
        "\n",
        "    net.eval()\n",
        "\n",
        "    inputs = []\n",
        "    prices = []\n",
        "    predicts= []\n",
        "\n",
        "    with torch.no_grad():\n",
        "\n",
        "        for (x, y) in iterator:\n",
        "\n",
        "            x = x.to(device)\n",
        "            y = y.to(device)\n",
        "            y_pred= net(x)\n",
        "\n",
        "\n",
        "            inputs.append(x.cpu())\n",
        "            prices.append(y.cpu())\n",
        "            predicts.append(y_pred.cpu())\n",
        "\n",
        "    inputs = torch.cat(inputs, dim=0)\n",
        "    prices = torch.cat(prices, dim=0)\n",
        "    predicts = torch.cat(predicts, dim=0)\n",
        "\n",
        "    return inputs, prices,predicts"
      ],
      "metadata": {
        "id": "GPwWK6h3CsIx"
      },
      "execution_count": 69,
      "outputs": []
    },
    {
      "cell_type": "code",
      "source": [
        "inputs, prices, predicts = get_predictions(net2, test_loader, device)\n"
      ],
      "metadata": {
        "id": "zNok6zNqKNCE"
      },
      "execution_count": 70,
      "outputs": []
    },
    {
      "cell_type": "code",
      "source": [
        "print('Test data:',inputs)\n",
        "print('Prices:', prices)\n",
        "print('Predicted prices:', predicts)"
      ],
      "metadata": {
        "colab": {
          "base_uri": "https://localhost:8080/"
        },
        "id": "ZTO_GmXqKeK8",
        "outputId": "abe7fbe2-c13a-43f7-e121-c296e9ca4173"
      },
      "execution_count": 71,
      "outputs": [
        {
          "output_type": "stream",
          "name": "stdout",
          "text": [
            "Test data: tensor([[0.1212, 0.2812, 0.1932,  ..., 0.0090, 0.0000, 0.8182],\n",
            "        [0.0909, 0.4375, 0.2438,  ..., 0.0448, 0.0000, 0.5455],\n",
            "        [0.1212, 0.2812, 0.1147,  ..., 0.0048, 0.0000, 0.3636],\n",
            "        ...,\n",
            "        [0.1515, 0.3750, 0.2936,  ..., 0.0068, 0.0000, 0.6364],\n",
            "        [0.0909, 0.3125, 0.2075,  ..., 0.0395, 0.0000, 1.0000],\n",
            "        [0.0909, 0.1250, 0.0528,  ..., 0.0086, 0.0000, 0.7273]])\n",
            "Prices: tensor([[0.0606],\n",
            "        [0.0514],\n",
            "        [0.0363],\n",
            "        ...,\n",
            "        [0.0781],\n",
            "        [0.0934],\n",
            "        [0.0304]])\n",
            "Predicted prices: tensor([[0.0780],\n",
            "        [0.0484],\n",
            "        [0.0364],\n",
            "        ...,\n",
            "        [0.0863],\n",
            "        [0.0948],\n",
            "        [0.0331]])\n"
          ]
        }
      ]
    },
    {
      "cell_type": "markdown",
      "source": [
        "### K"
      ],
      "metadata": {
        "id": "1j6LuHSPs3GW"
      }
    },
    {
      "cell_type": "code",
      "source": [
        "data_of_test = next(iter(test_loader))\n",
        "five_data= np.random.choice(np.arange(10),5,replace= False)\n",
        "t= 1\n",
        "for i in five_data:\n",
        "    print(t,')')\n",
        "    Predicted_price= scaler_y.inverse_transform([[net2(data_of_test[0][i]).item()]]).item()\n",
        "    Price= scaler_y.inverse_transform([[data_of_test[1][i].item()]]).item()\n",
        "    print('Predicted price=',Predicted_price, ', Price=',Price)\n",
        "    diff= abs(Predicted_price - Price)\n",
        "    print('difference between predicted and real price=',diff,'\\n')\n",
        "    t += 1"
      ],
      "metadata": {
        "colab": {
          "base_uri": "https://localhost:8080/"
        },
        "id": "AREwuu2ICt1g",
        "outputId": "93fbe911-e62e-413c-be7e-89a08af8a117"
      },
      "execution_count": 86,
      "outputs": [
        {
          "output_type": "stream",
          "name": "stdout",
          "text": [
            "1 )\n",
            "Predicted price= 249242.52592027184 , Price= 275000.00663101673\n",
            "difference between predicted and real price= 25757.480710744887 \n",
            "\n",
            "2 )\n",
            "Predicted price= 416184.9262714386 , Price= 374999.98837709427\n",
            "difference between predicted and real price= 41184.93789434433 \n",
            "\n",
            "3 )\n",
            "Predicted price= 294895.85319161415 , Price= 210000.00429898498\n",
            "difference between predicted and real price= 84895.84889262918 \n",
            "\n",
            "4 )\n",
            "Predicted price= 369369.3123459816 , Price= 366999.98983740807\n",
            "difference between predicted and real price= 2369.322508573532 \n",
            "\n",
            "5 )\n",
            "Predicted price= 230283.9706689119 , Price= 259999.99517202374\n",
            "difference between predicted and real price= 29716.02450311184 \n",
            "\n"
          ]
        }
      ]
    },
    {
      "cell_type": "code",
      "source": [],
      "metadata": {
        "id": "v07DQZneCtvP"
      },
      "execution_count": 82,
      "outputs": []
    },
    {
      "cell_type": "code",
      "source": [],
      "metadata": {
        "id": "8uHhcEv0Ctrb"
      },
      "execution_count": null,
      "outputs": []
    },
    {
      "cell_type": "code",
      "source": [],
      "metadata": {
        "id": "1NOEObFTCtpQ"
      },
      "execution_count": null,
      "outputs": []
    },
    {
      "cell_type": "code",
      "source": [],
      "metadata": {
        "id": "GBikrmUD-MEK"
      },
      "execution_count": 72,
      "outputs": []
    },
    {
      "cell_type": "code",
      "source": [
        "PATH1 = './house_net1.pth'\n",
        "torch.save(net1.state_dict(), PATH1)"
      ],
      "metadata": {
        "id": "yqd9E0dL-AYU"
      },
      "execution_count": 73,
      "outputs": []
    },
    {
      "cell_type": "code",
      "source": [
        "PATH2 = './house_net2.pth'\n",
        "torch.save(net2.state_dict(), PATH2)"
      ],
      "metadata": {
        "id": "ur3PSNNe-kOg"
      },
      "execution_count": 74,
      "outputs": []
    },
    {
      "cell_type": "code",
      "source": [
        "PATH3 = './house_net3.pth'\n",
        "torch.save(net3.state_dict(), PATH3)"
      ],
      "metadata": {
        "id": "ZZAdania-m8j"
      },
      "execution_count": 75,
      "outputs": []
    },
    {
      "cell_type": "code",
      "source": [
        "PATH4 = './house_net4.pth'\n",
        "torch.save(net4.state_dict(), PATH4)"
      ],
      "metadata": {
        "id": "uPfQLMx6-m3d"
      },
      "execution_count": 76,
      "outputs": []
    },
    {
      "cell_type": "code",
      "source": [],
      "metadata": {
        "id": "I2y6rMpU-m1V"
      },
      "execution_count": 76,
      "outputs": []
    },
    {
      "cell_type": "code",
      "source": [
        "# net1 = Net()\n",
        "# net1.load_state_dict(torch.load(PATH1))\n",
        "\n",
        "# net2 = Net()\n",
        "# net2.load_state_dict(torch.load(PATH2))\n",
        "\n",
        "# net3 = Net()\n",
        "# net3.load_state_dict(torch.load(PATH3))\n",
        "\n",
        "# net4 = Net()\n",
        "# net4.load_state_dict(torch.load(PATH4))"
      ],
      "metadata": {
        "id": "BjFDMpi_-NcT"
      },
      "execution_count": 77,
      "outputs": []
    },
    {
      "cell_type": "code",
      "source": [],
      "metadata": {
        "id": "GhHD7PIGNVLH"
      },
      "execution_count": 77,
      "outputs": []
    }
  ]
}