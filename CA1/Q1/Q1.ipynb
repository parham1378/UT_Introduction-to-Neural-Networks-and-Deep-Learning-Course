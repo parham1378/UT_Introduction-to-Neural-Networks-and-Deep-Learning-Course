{
 "cells": [
  {
   "cell_type": "code",
   "execution_count": 11,
   "id": "c0c214a5",
   "metadata": {},
   "outputs": [],
   "source": [
    "import numpy as np\n",
    "import re"
   ]
  },
  {
   "cell_type": "markdown",
   "id": "311d0286",
   "metadata": {},
   "source": [
    "# Q1:"
   ]
  },
  {
   "cell_type": "markdown",
   "id": "6a429d07",
   "metadata": {},
   "source": [
    "* we solve the problem with two different solutions.\n",
    "* The second solution is the primary solution."
   ]
  },
  {
   "cell_type": "code",
   "execution_count": 2,
   "id": "0806d262",
   "metadata": {},
   "outputs": [],
   "source": [
    "A = np.array([\n",
    "    [0,0],\n",
    "    [0,1],\n",
    "    [1,0], \n",
    "    [1,1]\n",
    "])"
   ]
  },
  {
   "cell_type": "code",
   "execution_count": 3,
   "id": "5eb13fbb",
   "metadata": {},
   "outputs": [],
   "source": [
    "B = np.array([\n",
    "    [0,0],\n",
    "    [0,1],\n",
    "    [1,0],\n",
    "    [1,1]\n",
    "])"
   ]
  },
  {
   "cell_type": "code",
   "execution_count": 4,
   "id": "e985b0a2",
   "metadata": {},
   "outputs": [],
   "source": [
    "def Gate(X, w):\n",
    "    y_in= np.dot(X, w)\n",
    "    return y_in\n",
    "\n",
    "def threshold(y_in, theta):\n",
    "    if y_in >= theta:\n",
    "        return 1\n",
    "    else:\n",
    "        return 0"
   ]
  },
  {
   "cell_type": "markdown",
   "id": "95a802a7",
   "metadata": {},
   "source": [
    "## Solution 1:\n",
    "### making gates without reduction"
   ]
  },
  {
   "cell_type": "markdown",
   "id": "04950cab",
   "metadata": {},
   "source": [
    "#### y0"
   ]
  },
  {
   "cell_type": "code",
   "execution_count": null,
   "id": "c7e7cd6d",
   "metadata": {},
   "outputs": [],
   "source": [
    "#a0.b0\n",
    "def y0(a, b):\n",
    "    y0_gate_and= Gate([a[0],b[0]], [1,1])\n",
    "    y0= threshold(y0_gate_and, 2)\n",
    "    return y0"
   ]
  },
  {
   "cell_type": "markdown",
   "id": "ad388e4f",
   "metadata": {},
   "source": [
    "#### y1"
   ]
  },
  {
   "cell_type": "code",
   "execution_count": null,
   "id": "2c5f3ee6",
   "metadata": {},
   "outputs": [],
   "source": [
    "# a0b1 XOR a1b0\n",
    "def y1(a ,b):\n",
    "    #and1= a0.b1\n",
    "    y_and1= Gate([a[0],b[1]], [1,1])\n",
    "    y_and1_output= threshold(y_and1, 2)\n",
    "    \n",
    "    #and2= a1.b0\n",
    "    y_and2= Gate([a[1],b[0]], [1,1])\n",
    "    y_and2_output= threshold(y_and2, 2)\n",
    "    \n",
    "    '''xor'''\n",
    "    #and_not1= and1 AND NOT and2\n",
    "    y_and_not1= Gate([y_and1_output, y_and2_output] , [2,-1])\n",
    "    y_and_not1_output= threshold(y_and_not1, 2)\n",
    "    \n",
    "    #and_not2= and2 AND NOT and1\n",
    "    y_and_not2= Gate([y_and2_output, y_and1_output] , [2,-1])\n",
    "    y_and_not2_output= threshold(y_and_not2, 2)\n",
    "    \n",
    "    #or1 = y1= and_not1 OR and_not2\n",
    "    y_or1= Gate([y_and_not1_output, y_and_not2_output] , [2,2])\n",
    "    y1= threshold(y_or1, 2)\n",
    "    '''end xor'''\n",
    "    \n",
    "    return y1"
   ]
  },
  {
   "cell_type": "markdown",
   "id": "84125e6f",
   "metadata": {},
   "source": [
    "#### y2"
   ]
  },
  {
   "cell_type": "code",
   "execution_count": null,
   "id": "38f26ac9",
   "metadata": {},
   "outputs": [],
   "source": [
    "# a0b1.a1.b0 XOR a1b1\n",
    "def y2(a ,b):\n",
    "    \n",
    "    #and1= a0.b1\n",
    "    y_and1= Gate([a[0],b[1]], [1,1])\n",
    "    y_and1_output= threshold(y_and1, 2)\n",
    "    \n",
    "    #and2= a1.b0\n",
    "    y_and2= Gate([a[1],b[0]], [1,1])\n",
    "    y_and2_output= threshold(y_and2, 2)\n",
    "    \n",
    "    #and3= and1.and2= a0.b1 AND a1.b0\n",
    "    y_and3= Gate([y_and1_output,y_and2_output], [1,1])\n",
    "    y_and3_output= threshold(y_and3, 2)\n",
    "    \n",
    "    #and4= a1.b1\n",
    "    y_and4= Gate([a[1],b[1]], [1,1])\n",
    "    y_and4_output= threshold(y_and4, 2)\n",
    "    \n",
    "    '''xor'''\n",
    "    #and_not3= and3 AND NOT and4\n",
    "    y_and_not3= Gate([y_and3_output, y_and4_output] , [2,-1])\n",
    "    y_and_not3_output= threshold(y_and_not3, 2)\n",
    "    \n",
    "    #and_not4= and4 AND NOT and3\n",
    "    y_and_not4= Gate([y_and4_output, y_and3_output] , [2,-1])\n",
    "    y_and_not4_output= threshold(y_and_not4, 2)\n",
    "    \n",
    "    #or2 = y2= and_not3 OR and_not4\n",
    "    y_or2= Gate([y_and_not3_output, y_and_not4_output] , [2,2])\n",
    "    y2= threshold(y_or2, 2)\n",
    "    '''end xor'''\n",
    "    \n",
    "    return y2"
   ]
  },
  {
   "cell_type": "markdown",
   "id": "9fd48d55",
   "metadata": {},
   "source": [
    "#### y3"
   ]
  },
  {
   "cell_type": "code",
   "execution_count": null,
   "id": "c83b7ab3",
   "metadata": {},
   "outputs": [],
   "source": [
    "# a0b1.a1.b0 AND a1b1\n",
    "def y3(a ,b):\n",
    "    \n",
    "    #and1= a0.b1\n",
    "    y_and1= Gate([a[0],b[1]], [1,1])\n",
    "    y_and1_output= threshold(y_and1, 2)\n",
    "    \n",
    "    #and2= a1.b0\n",
    "    y_and2= Gate([a[1],b[0]], [1,1])\n",
    "    y_and2_output= threshold(y_and2, 2)\n",
    "    \n",
    "    #and3= and1.and2= a0.b1 AND a1.b0\n",
    "    y_and3= Gate([y_and1_output,y_and2_output], [1,1])\n",
    "    y_and3_output= threshold(y_and3, 2)\n",
    "    \n",
    "    #and4= a1.b1\n",
    "    y_and4= Gate([a[1],b[1]], [1,1])\n",
    "    y_and4_output= threshold(y_and4, 2)\n",
    "    \n",
    "    #and5= and3 AND NOT and4\n",
    "    y_and5= Gate([y_and3_output, y_and4_output] , [1,1])\n",
    "    y3= threshold(y_and5, 2)\n",
    "    \n",
    "    return y3"
   ]
  },
  {
   "cell_type": "markdown",
   "id": "513e0768",
   "metadata": {},
   "source": [
    "<hr/>"
   ]
  },
  {
   "cell_type": "markdown",
   "id": "2f01eff8",
   "metadata": {},
   "source": [
    "checking outputs of 16 satates:"
   ]
  },
  {
   "cell_type": "code",
   "execution_count": null,
   "id": "ef725842",
   "metadata": {
    "scrolled": true
   },
   "outputs": [],
   "source": [
    "t= 0\n",
    "for a in A:\n",
    "    a_re= a[::-1]\n",
    "    a= re.sub('\\D','',str(a))\n",
    "    for b in B:\n",
    "        t += 1\n",
    "        b_re= b[::-1]\n",
    "        b= re.sub('\\D','',str(b))\n",
    "        print(f'\\nInPut {t}: a={a}, b={b}')\n",
    "        c0 = y0(a_re , b_re)\n",
    "        c1 = y1(a_re , b_re)\n",
    "        c2 = y2(a_re , b_re)\n",
    "        c3 = y3(a_re , b_re)\n",
    "        Y= [c3, c2, c1, c0]\n",
    "        \n",
    "        mul= re.sub('\\D','',str(Y))\n",
    "        print(f'OutPut {t}: Y={mul}')"
   ]
  },
  {
   "cell_type": "markdown",
   "id": "0305609f",
   "metadata": {},
   "source": [
    "<hr/>\n",
    "<hr/>"
   ]
  },
  {
   "cell_type": "markdown",
   "id": "891ec50a",
   "metadata": {},
   "source": [
    "## Solution 2:\n",
    "### making gates with reduction using KM"
   ]
  },
  {
   "cell_type": "markdown",
   "id": "2f2ca0fb",
   "metadata": {},
   "source": [
    "### y0"
   ]
  },
  {
   "cell_type": "markdown",
   "id": "ad4280ad",
   "metadata": {},
   "source": [
    "y0= a0.b0"
   ]
  },
  {
   "cell_type": "code",
   "execution_count": 5,
   "id": "2f377506",
   "metadata": {},
   "outputs": [],
   "source": [
    "#a0.b0\n",
    "def y0(a, b):\n",
    "    y0_gate_and= Gate([a[0],b[0]], [1,1])\n",
    "    y0= threshold(y0_gate_and, 2)\n",
    "    return y0"
   ]
  },
  {
   "cell_type": "markdown",
   "id": "5950b2d0",
   "metadata": {},
   "source": [
    "### y1"
   ]
  },
  {
   "cell_type": "markdown",
   "id": "0f2fa593",
   "metadata": {},
   "source": [
    "y1= a1a0'b0 + a1b1'b0 + a1'a0b1 + a0b1b0'"
   ]
  },
  {
   "cell_type": "code",
   "execution_count": 6,
   "id": "c56b9642",
   "metadata": {},
   "outputs": [],
   "source": [
    "def y1(a ,b):\n",
    "    # a1a0'b0\n",
    "    y_and1= Gate([a[1],a[0],b[0]], [1,-1,1])\n",
    "    y_and1_output= threshold(y_and1, 2)\n",
    "    \n",
    "    # a1b1'b0\n",
    "    y_and2= Gate([a[1],b[1],b[0]], [1,-1,1])\n",
    "    y_and2_output= threshold(y_and2, 2)\n",
    "    \n",
    "    # a1'a0b1\n",
    "    y_and3= Gate([a[1],a[0],b[1]], [-1,1,1])\n",
    "    y_and3_output= threshold(y_and3, 2)\n",
    "    \n",
    "    # a0b1b0'\n",
    "    y_and4= Gate([a[0],b[1],b[0]], [1,1,-1])\n",
    "    y_and4_output= threshold(y_and4, 2)\n",
    "    \n",
    "    y_or= Gate([y_and1_output,y_and2_output,y_and3_output,y_and4_output], [2,2,2,2])\n",
    "    y1= threshold(y_or, 2)\n",
    "    \n",
    "    return y1"
   ]
  },
  {
   "cell_type": "markdown",
   "id": "f17bd16a",
   "metadata": {},
   "source": [
    "### y2"
   ]
  },
  {
   "cell_type": "markdown",
   "id": "25a3ea21",
   "metadata": {},
   "source": [
    "y2= a1a0'b1 + a1b1b0'"
   ]
  },
  {
   "cell_type": "code",
   "execution_count": 7,
   "id": "b486c44d",
   "metadata": {},
   "outputs": [],
   "source": [
    "def y2(a ,b):\n",
    "    # a1a0'b1\n",
    "    y_and1= Gate([a[1],a[0],b[1]], [1,-1,1])\n",
    "    y_and1_output= threshold(y_and1, 2)\n",
    "    \n",
    "    # a1b1b0'\n",
    "    y_and2= Gate([a[1],b[1],b[0]], [1,1,-1])\n",
    "    y_and2_output= threshold(y_and2, 2)\n",
    "    \n",
    "    y_or= Gate([y_and1_output,y_and2_output], [2,2])\n",
    "    y2= threshold(y_or, 2)\n",
    "    \n",
    "    return y2"
   ]
  },
  {
   "cell_type": "markdown",
   "id": "f7837980",
   "metadata": {},
   "source": [
    "### y3"
   ]
  },
  {
   "cell_type": "markdown",
   "id": "836d426d",
   "metadata": {},
   "source": [
    "y3= a1a0b1b0"
   ]
  },
  {
   "cell_type": "code",
   "execution_count": 14,
   "id": "2d0dbe00",
   "metadata": {},
   "outputs": [],
   "source": [
    "def y3(a ,b):\n",
    "    # a1a0b1b0\n",
    "    y_and1= Gate([a[1],a[0],b[1],b[0]], [1,1,1,1])\n",
    "    y3= threshold(y_and1, 4)\n",
    "    \n",
    "    return y3"
   ]
  },
  {
   "cell_type": "markdown",
   "id": "c059bc5f",
   "metadata": {},
   "source": [
    "checking outputs of 16 satates:"
   ]
  },
  {
   "cell_type": "code",
   "execution_count": 15,
   "id": "39fb663b",
   "metadata": {},
   "outputs": [
    {
     "name": "stdout",
     "output_type": "stream",
     "text": [
      "\n",
      "InPut 1: a=00, b=00\n",
      "OutPut 1: Y=0000\n",
      "\n",
      "InPut 2: a=00, b=01\n",
      "OutPut 2: Y=0000\n",
      "\n",
      "InPut 3: a=00, b=10\n",
      "OutPut 3: Y=0000\n",
      "\n",
      "InPut 4: a=00, b=11\n",
      "OutPut 4: Y=0000\n",
      "\n",
      "InPut 5: a=01, b=00\n",
      "OutPut 5: Y=0000\n",
      "\n",
      "InPut 6: a=01, b=01\n",
      "OutPut 6: Y=0001\n",
      "\n",
      "InPut 7: a=01, b=10\n",
      "OutPut 7: Y=0010\n",
      "\n",
      "InPut 8: a=01, b=11\n",
      "OutPut 8: Y=0011\n",
      "\n",
      "InPut 9: a=10, b=00\n",
      "OutPut 9: Y=0000\n",
      "\n",
      "InPut 10: a=10, b=01\n",
      "OutPut 10: Y=0010\n",
      "\n",
      "InPut 11: a=10, b=10\n",
      "OutPut 11: Y=0100\n",
      "\n",
      "InPut 12: a=10, b=11\n",
      "OutPut 12: Y=0110\n",
      "\n",
      "InPut 13: a=11, b=00\n",
      "OutPut 13: Y=0000\n",
      "\n",
      "InPut 14: a=11, b=01\n",
      "OutPut 14: Y=0011\n",
      "\n",
      "InPut 15: a=11, b=10\n",
      "OutPut 15: Y=0110\n",
      "\n",
      "InPut 16: a=11, b=11\n",
      "OutPut 16: Y=1001\n"
     ]
    }
   ],
   "source": [
    "t= 0\n",
    "for a in A:\n",
    "    a_re= a[::-1]\n",
    "    a= re.sub('\\D','',str(a))\n",
    "    for b in B:\n",
    "        t += 1\n",
    "        b_re= b[::-1]\n",
    "        b= re.sub('\\D','',str(b))\n",
    "        print(f'\\nInPut {t}: a={a}, b={b}')\n",
    "        c0 = y0(a_re , b_re)\n",
    "        c1 = y1(a_re , b_re)\n",
    "        c2 = y2(a_re , b_re)\n",
    "        c3 = y3(a_re , b_re)\n",
    "        Y= [c3, c2, c1, c0]\n",
    "        \n",
    "        mul= re.sub('\\D','',str(Y))\n",
    "        print(f'OutPut {t}: Y={mul}')"
   ]
  }
 ],
 "metadata": {
  "kernelspec": {
   "display_name": "Python 3",
   "language": "python",
   "name": "python3"
  },
  "language_info": {
   "codemirror_mode": {
    "name": "ipython",
    "version": 3
   },
   "file_extension": ".py",
   "mimetype": "text/x-python",
   "name": "python",
   "nbconvert_exporter": "python",
   "pygments_lexer": "ipython3",
   "version": "3.8.8"
  }
 },
 "nbformat": 4,
 "nbformat_minor": 5
}
